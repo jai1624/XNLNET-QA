{
 "cells": [
  {
   "cell_type": "code",
   "execution_count": 1,
   "id": "f934fd55",
   "metadata": {},
   "outputs": [],
   "source": [
    "#import statements\n",
    "import os\n",
    "import pandas as pd\n",
    "from ast import literal_eval\n",
    "\n",
    "from cdqa.utils.converters import pdf_converter\n",
    "from cdqa.pipeline import  QAPipeline\n",
    "from cdqa.utils.download import download_model"
   ]
  },
  {
   "cell_type": "code",
   "execution_count": 52,
   "id": "d2ed7fff",
   "metadata": {},
   "outputs": [
    {
     "name": "stdout",
     "output_type": "stream",
     "text": [
      "\n",
      "Downloading trained model...\n",
      "bert_qa.joblib already downloaded\n"
     ]
    }
   ],
   "source": [
    "#Download Model\n",
    "download_model(model='bert-squad_1.1', dir='./model')"
   ]
  },
  {
   "cell_type": "code",
   "execution_count": 53,
   "id": "15b98a43",
   "metadata": {},
   "outputs": [
    {
     "name": "stderr",
     "output_type": "stream",
     "text": [
      "'ls' is not recognized as an internal or external command,\n",
      "operable program or batch file.\n"
     ]
    }
   ],
   "source": [
    "!ls"
   ]
  },
  {
   "cell_type": "code",
   "execution_count": 56,
   "id": "a75029b3",
   "metadata": {},
   "outputs": [
    {
     "data": {
      "text/html": [
       "<div>\n",
       "<style scoped>\n",
       "    .dataframe tbody tr th:only-of-type {\n",
       "        vertical-align: middle;\n",
       "    }\n",
       "\n",
       "    .dataframe tbody tr th {\n",
       "        vertical-align: top;\n",
       "    }\n",
       "\n",
       "    .dataframe thead th {\n",
       "        text-align: right;\n",
       "    }\n",
       "</style>\n",
       "<table border=\"1\" class=\"dataframe\">\n",
       "  <thead>\n",
       "    <tr style=\"text-align: right;\">\n",
       "      <th></th>\n",
       "      <th>title</th>\n",
       "      <th>paragraphs</th>\n",
       "    </tr>\n",
       "  </thead>\n",
       "  <tbody>\n",
       "    <tr>\n",
       "      <th>0</th>\n",
       "      <td>Employee-Referral-Programme</td>\n",
       "      <td>[‘Confidential &amp; Proprietary’ ‘Property of Techversant’          , People Process Document:  “Bring Your Buddies”  The Employee Referral Programme             Revision History  Date Version Description Author Reviewed by , 1st November 2021 Ver 1.0 Revised policy Manoj Madhavan Joby John         ‘Confidential &amp; Proprietary’ ‘Property of Techversant’   , 1.0 Purpose , The objective of the Employee Referral Programme process document is to provide guidelines necessary to    assist all employees at Techversant who refer talent profiles to the Organization. This program is designed to help source talent, build diversity, and find the right candidates for open positions and to reward our employees for           the right referrals. This programme will encourage all at , Techversant to act as talent ambassadors for the Organization. , Techversant is an equal opportunity employer with a diverse workforce. All referred candidates will be given the same consideration and will pass through the established process and procedures of the , Organization.  , Please note that it is not the intent for these guidelines to describe every situation. Management  judgment will / may be necessary in certain situations which are not addressed here, or where special           considerations may be required.  , 2.0 Scope , The process will be applicable for all referrals hired through the employee referral program, effective , 1st October 2021.  It covers… • All open positions in the Organization that would fall under Employee Referral Programme as announced by the Talent Acquisition Team and as approved by the Management.  • Special referral schemes catering to critical needs as announced by the Talent Acquisition , Team and as approved by the management.   , 3.0 Definitions  , Referrer Employee referring the potential candidate , Referral External candidate being referred , Referral Bonus Payment made to the referrer  4.0   Guidelines for Referrals  4.1 Eligibility for referring candidates • All employees of Techversant are eligible to refer candidates under the employee referral program. • Referrer should not be involved in the hiring process of the referred candidate (viz. prescreening, interview and offer release). • All those directly involved in the hiring process for the referral positions will not be part of this programme.  ‘Confidential &amp; Proprietary’ ‘Property of Techversant’  , 4.2 Process  The employee referral process will be as below: o The Talent Acquisition Team will declare the open positions which would come under the employee referral program. It will have the referral category mentioning the bonus amount for the referral positions and the date until which the program is open for the respective referral bonus along with the other relevant position details.  o Only positions announced under the employee referral bonus programme will be considered for processing.  o The Referral Bonus Amount will be notified for the open positions, based on the criticality and priority of the position, availability in the market, the role and designation of the position and the quality of the candidate hired.  • The Referral Bonus amount could range from INR 5000 to INR 50,000 or an amount as decided by the Talent Acquisition Team and approved by the , Management based on the open position.  o All referrals are to be sent to the HR Email id or uploaded to a portal, as notified, along with other relevant details.  o Response emails on the progress of referral would be send to the referrers, as and                      when an activity happens against the referral o Rejected profiles may get considered only after six (6) months, subject to final approval and  discretion of the Management.   , 4.3 Eligibility for Referral Bonus • All employees are eligible to refer candidates under the employee referral programme. • All employees who are active at the time of the employee referral bonus payment date - both referrer and the referee will need to on rolls with Techversant and not serving the notice period. • All who are directly involved in external recruitment are not eligible • The referral bonus programme is applicable only for permanent employee hires and fixed term consultants. • If the referral candidate joins as contractors, the referrer will be eligible for referral bonus only upon their successful conversion to regular rolls of the company.  • To be eligible for referral bonus, the profile has to be sent to the Talent Acquisition team by the employee at the mentioned email id or portal as applicable. Any application processed without the involvement of the Talent Acquisition team will not be eligible for a referral bonus. • In the event a referral is received through multiple referrers, the first referrer becomes eligible for the referral bonus. The Talent Acquisition Team shall intimate the other referrers before initiating the recruitment process. • Referral bonus will not be applicable for fresher recruitment.  • Referral bonus will not be applicable for positions under the Enabling / Support Functions, unless there is an exception as approved by the Management.       ‘Confidential &amp; Proprietary’ ‘Property of Techversant’     , 4.4 Referral Bonus Payout Details  • The Referral bonus would be paid in the subsequent month payroll once the selected referral completes minimum 6 months or the probation period, whichever is more, at Techversant and upon successful completion of background verification of the referral, as the case may be.  • Both Referrer and Referral should be on Techversant’s payroll at the time of bonus payout  and not serving the notice period o Bonus payment for the employees on long leave would be credited when the employee returns to active duty. • The referral bonus will be paid along with salary and is a taxable income. Any tax applicable will be deducted at source.  , 5.0 Authority , The Management and Human Resources Group reserves the right to revise or eliminate this policy. Any such changes will be communicated.  , All ‘exceptions’ to               the statements of this policy document must be appealed the HR Function Head and will be considered on an individual case basis, subject to review and approval from the Management.]</td>\n",
       "    </tr>\n",
       "  </tbody>\n",
       "</table>\n",
       "</div>"
      ],
      "text/plain": [
       "                         title  \\\n",
       "0  Employee-Referral-Programme   \n",
       "\n",
       "                                                                                                                                                                                                                                                                                                                                                                                                                                                                                                                                                                                                                                                                                                                                                                                                                                                                                                                                                                                                                                                                                                                                                                                                                                                                                                                                                                                                                                                                                                                                                                                                                                                                                                                                                                                                                                                                                                                                                                                                                                                                                                                                                                                                                                                                                                                                                                                                                                                                                                                                                                                                                                                                                                                                                                                                                                                                                                                                                                                                                                                                                                                                                                                                                                                                                                                                                                                                                                                                                                                                                                                                                                                                                                                                                                                                                                                                                                                                                                                                                                                                                                                                                                                                                                                                                                                                                                                                                                                                                                                                                                                                                                                                                                                                                                                                                                                                                                                                                                                                                                                                                                                                                                                                                                                                                                                                                                                                                                                                                                                                                                                                                                                                                                                                                                                                                                                                                                                                                                                                                                                                                                                                                                                                                                                                                                                                                                                                                                                                                                   paragraphs  \n",
       "0  [‘Confidential & Proprietary’ ‘Property of Techversant’          , People Process Document:  “Bring Your Buddies”  The Employee Referral Programme             Revision History  Date Version Description Author Reviewed by , 1st November 2021 Ver 1.0 Revised policy Manoj Madhavan Joby John         ‘Confidential & Proprietary’ ‘Property of Techversant’   , 1.0 Purpose , The objective of the Employee Referral Programme process document is to provide guidelines necessary to    assist all employees at Techversant who refer talent profiles to the Organization. This program is designed to help source talent, build diversity, and find the right candidates for open positions and to reward our employees for           the right referrals. This programme will encourage all at , Techversant to act as talent ambassadors for the Organization. , Techversant is an equal opportunity employer with a diverse workforce. All referred candidates will be given the same consideration and will pass through the established process and procedures of the , Organization.  , Please note that it is not the intent for these guidelines to describe every situation. Management  judgment will / may be necessary in certain situations which are not addressed here, or where special           considerations may be required.  , 2.0 Scope , The process will be applicable for all referrals hired through the employee referral program, effective , 1st October 2021.  It covers… • All open positions in the Organization that would fall under Employee Referral Programme as announced by the Talent Acquisition Team and as approved by the Management.  • Special referral schemes catering to critical needs as announced by the Talent Acquisition , Team and as approved by the management.   , 3.0 Definitions  , Referrer Employee referring the potential candidate , Referral External candidate being referred , Referral Bonus Payment made to the referrer  4.0   Guidelines for Referrals  4.1 Eligibility for referring candidates • All employees of Techversant are eligible to refer candidates under the employee referral program. • Referrer should not be involved in the hiring process of the referred candidate (viz. prescreening, interview and offer release). • All those directly involved in the hiring process for the referral positions will not be part of this programme.  ‘Confidential & Proprietary’ ‘Property of Techversant’  , 4.2 Process  The employee referral process will be as below: o The Talent Acquisition Team will declare the open positions which would come under the employee referral program. It will have the referral category mentioning the bonus amount for the referral positions and the date until which the program is open for the respective referral bonus along with the other relevant position details.  o Only positions announced under the employee referral bonus programme will be considered for processing.  o The Referral Bonus Amount will be notified for the open positions, based on the criticality and priority of the position, availability in the market, the role and designation of the position and the quality of the candidate hired.  • The Referral Bonus amount could range from INR 5000 to INR 50,000 or an amount as decided by the Talent Acquisition Team and approved by the , Management based on the open position.  o All referrals are to be sent to the HR Email id or uploaded to a portal, as notified, along with other relevant details.  o Response emails on the progress of referral would be send to the referrers, as and                      when an activity happens against the referral o Rejected profiles may get considered only after six (6) months, subject to final approval and  discretion of the Management.   , 4.3 Eligibility for Referral Bonus • All employees are eligible to refer candidates under the employee referral programme. • All employees who are active at the time of the employee referral bonus payment date - both referrer and the referee will need to on rolls with Techversant and not serving the notice period. • All who are directly involved in external recruitment are not eligible • The referral bonus programme is applicable only for permanent employee hires and fixed term consultants. • If the referral candidate joins as contractors, the referrer will be eligible for referral bonus only upon their successful conversion to regular rolls of the company.  • To be eligible for referral bonus, the profile has to be sent to the Talent Acquisition team by the employee at the mentioned email id or portal as applicable. Any application processed without the involvement of the Talent Acquisition team will not be eligible for a referral bonus. • In the event a referral is received through multiple referrers, the first referrer becomes eligible for the referral bonus. The Talent Acquisition Team shall intimate the other referrers before initiating the recruitment process. • Referral bonus will not be applicable for fresher recruitment.  • Referral bonus will not be applicable for positions under the Enabling / Support Functions, unless there is an exception as approved by the Management.       ‘Confidential & Proprietary’ ‘Property of Techversant’     , 4.4 Referral Bonus Payout Details  • The Referral bonus would be paid in the subsequent month payroll once the selected referral completes minimum 6 months or the probation period, whichever is more, at Techversant and upon successful completion of background verification of the referral, as the case may be.  • Both Referrer and Referral should be on Techversant’s payroll at the time of bonus payout  and not serving the notice period o Bonus payment for the employees on long leave would be credited when the employee returns to active duty. • The referral bonus will be paid along with salary and is a taxable income. Any tax applicable will be deducted at source.  , 5.0 Authority , The Management and Human Resources Group reserves the right to revise or eliminate this policy. Any such changes will be communicated.  , All ‘exceptions’ to               the statements of this policy document must be appealed the HR Function Head and will be considered on an individual case basis, subject to review and approval from the Management.]  "
      ]
     },
     "execution_count": 56,
     "metadata": {},
     "output_type": "execute_result"
    }
   ],
   "source": [
    "df = pdf_converter(directory_path='./docs')\n",
    "df.head()"
   ]
  },
  {
   "cell_type": "code",
   "execution_count": 57,
   "id": "9a38f79c",
   "metadata": {},
   "outputs": [
    {
     "name": "stderr",
     "output_type": "stream",
     "text": [
      "e:\\entity_extraction_combined_model\\venv\\lib\\site-packages\\ipykernel_launcher.py:1: FutureWarning: Passing a negative integer is deprecated in version 1.0 and will not be supported in future version. Instead, use None to not limit the column width.\n",
      "  \"\"\"Entry point for launching an IPython kernel.\n"
     ]
    }
   ],
   "source": [
    "pd.set_option('display.max_colwidth', -1)"
   ]
  },
  {
   "cell_type": "code",
   "execution_count": 58,
   "id": "fe79f100",
   "metadata": {},
   "outputs": [
    {
     "data": {
      "text/plain": [
       "QAPipeline(reader=BertQA(learning_rate=3e-05, num_train_epochs=2,\n",
       "                         output_dir='model', train_batch_size=12),\n",
       "           retriever=BM25Retriever(max_df=1.0))"
      ]
     },
     "execution_count": 58,
     "metadata": {},
     "output_type": "execute_result"
    }
   ],
   "source": [
    "cdqa_pipeline = QAPipeline(reader='./model/bert_qa.joblib', max_df=1.0)\n",
    "cdqa_pipeline.fit_retriever(df=df)"
   ]
  },
  {
   "cell_type": "code",
   "execution_count": 59,
   "id": "7405e86f",
   "metadata": {},
   "outputs": [
    {
     "name": "stderr",
     "output_type": "stream",
     "text": [
      "e:\\entity_extraction_combined_model\\venv\\lib\\site-packages\\sklearn\\utils\\validation.py:71: FutureWarning: Pass msg=idf vector is not fitted as keyword args. From version 0.25 passing these as positional arguments will result in an error\n",
      "  FutureWarning)\n"
     ]
    },
    {
     "name": "stdout",
     "output_type": "stream",
     "text": [
      "[{'title': 'Employee-Referral-Programme', 'paragraphs': [{'context': 'Referrer Employee referring the potential candidate ', 'qas': [{'answers': [], 'question': 'Referrer Employee referring to ', 'id': '62fbe4b3-9ee0-477d-b448-a1072a8a0ad8', 'retriever_score': array([6.8050519])}]}]}, {'title': 'Employee-Referral-Programme', 'paragraphs': [{'context': 'Referral Bonus Payment made to the referrer  4.0   Guidelines for Referrals  4.1 Eligibility for referring candidates • All employees of Techversant are eligible to refer candidates under the employee referral program. • Referrer should not be involved in the hiring process of the referred candidate (viz. prescreening, interview and offer release). • All those directly involved in the hiring process for the referral positions will not be part of this programme.  ‘Confidential & Proprietary’ ‘Property of Techversant’  ', 'qas': [{'answers': [], 'question': 'Referrer Employee referring to ', 'id': '04322059-ca93-40f4-a2f6-e819614bfadb', 'retriever_score': array([2.83715633])}]}]}, {'title': 'Employee-Referral-Programme', 'paragraphs': [{'context': '4.3 Eligibility for Referral Bonus • All employees are eligible to refer candidates under the employee referral programme. • All employees who are active at the time of the employee referral bonus payment date - both referrer and the referee will need to on rolls with Techversant and not serving the notice period. • All who are directly involved in external recruitment are not eligible • The referral bonus programme is applicable only for permanent employee hires and fixed term consultants. • If the referral candidate joins as contractors, the referrer will be eligible for referral bonus only upon their successful conversion to regular rolls of the company.  • To be eligible for referral bonus, the profile has to be sent to the Talent Acquisition team by the employee at the mentioned email id or portal as applicable. Any application processed without the involvement of the Talent Acquisition team will not be eligible for a referral bonus. • In the event a referral is received through multiple referrers, the first referrer becomes eligible for the referral bonus. The Talent Acquisition Team shall intimate the other referrers before initiating the recruitment process. • Referral bonus will not be applicable for fresher recruitment.  • Referral bonus will not be applicable for positions under the Enabling / Support Functions, unless there is an exception as approved by the Management.       ‘Confidential & Proprietary’ ‘Property of Techversant’     ', 'qas': [{'answers': [], 'question': 'Referrer Employee referring to ', 'id': '0a97a539-e826-4b05-b785-c0ac707fb5d8', 'retriever_score': array([1.41907235])}]}]}, {'title': 'Employee-Referral-Programme', 'paragraphs': [{'context': '4.4 Referral Bonus Payout Details  • The Referral bonus would be paid in the subsequent month payroll once the selected referral completes minimum 6 months or the probation period, whichever is more, at Techversant and upon successful completion of background verification of the referral, as the case may be.  • Both Referrer and Referral should be on Techversant’s payroll at the time of bonus payout  and not serving the notice period o Bonus payment for the employees on long leave would be credited when the employee returns to active duty. • The referral bonus will be paid along with salary and is a taxable income. Any tax applicable will be deducted at source.  ', 'qas': [{'answers': [], 'question': 'Referrer Employee referring to ', 'id': 'b6e09592-e559-4b79-b6fc-61196cf83f2e', 'retriever_score': array([1.3115472])}]}]}, {'title': 'Employee-Referral-Programme', 'paragraphs': [{'context': 'People Process Document:  “Bring Your Buddies”  The Employee Referral Programme             Revision History  Date Version Description Author Reviewed by ', 'qas': [{'answers': [], 'question': 'Referrer Employee referring to ', 'id': 'fe0fac21-c39a-46a2-9590-d2200b2c56c1', 'retriever_score': array([0.64017845])}]}]}, {'title': 'Employee-Referral-Programme', 'paragraphs': [{'context': 'The process will be applicable for all referrals hired through the employee referral program, effective ', 'qas': [{'answers': [], 'question': 'Referrer Employee referring to ', 'id': 'aae74f8b-919b-4376-a5b7-b48224d903f5', 'retriever_score': array([0.64017845])}]}]}, {'title': 'Employee-Referral-Programme', 'paragraphs': [{'context': '4.2 Process  The employee referral process will be as below: o The Talent Acquisition Team will declare the open positions which would come under the employee referral program. It will have the referral category mentioning the bonus amount for the referral positions and the date until which the program is open for the respective referral bonus along with the other relevant position details.  o Only positions announced under the employee referral bonus programme will be considered for processing.  o The Referral Bonus Amount will be notified for the open positions, based on the criticality and priority of the position, availability in the market, the role and designation of the position and the quality of the candidate hired.  • The Referral Bonus amount could range from INR 5000 to INR 50,000 or an amount as decided by the Talent Acquisition Team and approved by the ', 'qas': [{'answers': [], 'question': 'Referrer Employee referring to ', 'id': 'c9af2667-8c7f-4f49-b846-b8e77b70d12d', 'retriever_score': array([0.48167768])}]}]}, {'title': 'Employee-Referral-Programme', 'paragraphs': [{'context': '1st October 2021.  It covers… • All open positions in the Organization that would fall under Employee Referral Programme as announced by the Talent Acquisition Team and as approved by the Management.  • Special referral schemes catering to critical needs as announced by the Talent Acquisition ', 'qas': [{'answers': [], 'question': 'Referrer Employee referring to ', 'id': 'd845d909-3bdd-4dee-afb2-1f1740f409be', 'retriever_score': array([0.37828727])}]}]}, {'title': 'Employee-Referral-Programme', 'paragraphs': [{'context': 'The objective of the Employee Referral Programme process document is to provide guidelines necessary to    assist all employees at Techversant who refer talent profiles to the Organization. This program is designed to help source talent, build diversity, and find the right candidates for open positions and to reward our employees for           the right referrals. This programme will encourage all at ', 'qas': [{'answers': [], 'question': 'Referrer Employee referring to ', 'id': '74853d6b-fbe8-42f1-a932-feb2976ba27a', 'retriever_score': array([0.36183999])}]}]}, {'title': 'Employee-Referral-Programme', 'paragraphs': [{'context': '‘Confidential & Proprietary’ ‘Property of Techversant’          ', 'qas': [{'answers': [], 'question': 'Referrer Employee referring to ', 'id': 'b2a4452d-8823-4088-be88-04172b0dee98', 'retriever_score': array([0.])}]}]}, {'title': 'Employee-Referral-Programme', 'paragraphs': [{'context': '1st November 2021 Ver 1.0 Revised policy Manoj Madhavan Joby John         ‘Confidential & Proprietary’ ‘Property of Techversant’   ', 'qas': [{'answers': [], 'question': 'Referrer Employee referring to ', 'id': 'd57f9768-8d5f-49de-b28c-ab22aaebb89c', 'retriever_score': array([0.])}]}]}, {'title': 'Employee-Referral-Programme', 'paragraphs': [{'context': '1.0 Purpose ', 'qas': [{'answers': [], 'question': 'Referrer Employee referring to ', 'id': 'caab97d7-51f4-4213-91b0-b10dc2c7e0d2', 'retriever_score': array([0.])}]}]}, {'title': 'Employee-Referral-Programme', 'paragraphs': [{'context': 'Techversant to act as talent ambassadors for the Organization. ', 'qas': [{'answers': [], 'question': 'Referrer Employee referring to ', 'id': '85897d94-7fd2-4072-8941-ea89c0489cc0', 'retriever_score': array([0.])}]}]}, {'title': 'Employee-Referral-Programme', 'paragraphs': [{'context': 'Techversant is an equal opportunity employer with a diverse workforce. All referred candidates will be given the same consideration and will pass through the established process and procedures of the ', 'qas': [{'answers': [], 'question': 'Referrer Employee referring to ', 'id': '75612c3e-028a-44b1-a504-503dfebb2586', 'retriever_score': array([0.])}]}]}, {'title': 'Employee-Referral-Programme', 'paragraphs': [{'context': 'Organization.  ', 'qas': [{'answers': [], 'question': 'Referrer Employee referring to ', 'id': '87830c65-6b8b-4379-bfe1-227028bcf80d', 'retriever_score': array([0.])}]}]}, {'title': 'Employee-Referral-Programme', 'paragraphs': [{'context': 'Please note that it is not the intent for these guidelines to describe every situation. Management  judgment will / may be necessary in certain situations which are not addressed here, or where special           considerations may be required.  ', 'qas': [{'answers': [], 'question': 'Referrer Employee referring to ', 'id': 'b8a0b025-87de-4f7a-bc03-cb3fc724614d', 'retriever_score': array([0.])}]}]}, {'title': 'Employee-Referral-Programme', 'paragraphs': [{'context': '2.0 Scope ', 'qas': [{'answers': [], 'question': 'Referrer Employee referring to ', 'id': 'c380b1f7-4621-405f-a584-0c2a3a9ccb31', 'retriever_score': array([0.])}]}]}, {'title': 'Employee-Referral-Programme', 'paragraphs': [{'context': 'Team and as approved by the management.   ', 'qas': [{'answers': [], 'question': 'Referrer Employee referring to ', 'id': '11016f27-2d57-459d-aea8-8afce286da22', 'retriever_score': array([0.])}]}]}, {'title': 'Employee-Referral-Programme', 'paragraphs': [{'context': '3.0 Definitions  ', 'qas': [{'answers': [], 'question': 'Referrer Employee referring to ', 'id': 'c321c77b-03c7-40fc-a429-af4bf582826a', 'retriever_score': array([0.])}]}]}, {'title': 'Employee-Referral-Programme', 'paragraphs': [{'context': 'Referral External candidate being referred ', 'qas': [{'answers': [], 'question': 'Referrer Employee referring to ', 'id': '9d291566-7f32-4f5a-a536-7724c0787dc9', 'retriever_score': array([0.])}]}]}]\n"
     ]
    },
    {
     "data": {
      "text/plain": [
       "('Employee referring the potential',\n",
       " 'Employee-Referral-Programme',\n",
       " 'Referrer Employee referring the potential candidate ',\n",
       " 2.797833302568006)"
      ]
     },
     "execution_count": 59,
     "metadata": {},
     "output_type": "execute_result"
    }
   ],
   "source": [
    "query=\"Referrer Employee referring to \"\n",
    "prediction = cdqa_pipeline.predict(query)\n",
    "prediction"
   ]
  },
  {
   "cell_type": "code",
   "execution_count": 16,
   "id": "ff77293b",
   "metadata": {},
   "outputs": [],
   "source": [
    "import requests\n",
    "import json\n",
    "import torch\n",
    "import os\n",
    "from tqdm import tqdm"
   ]
  },
  {
   "cell_type": "code",
   "execution_count": 17,
   "id": "4d86e1fb",
   "metadata": {},
   "outputs": [],
   "source": [
    "# Load the training dataset and take a look at it\n",
    "with open('C:\\\\Users\\\\JaiGatiri\\\\Documents\\\\cdqa-pred\\\\annotated_data\\\\cdqa-v1_updated_referral_annot.json', 'rb') as f:\n",
    "  squad = json.load(f)"
   ]
  },
  {
   "cell_type": "code",
   "execution_count": 18,
   "id": "976d334c",
   "metadata": {},
   "outputs": [
    {
     "data": {
      "text/plain": [
       "dict_keys(['title', 'paragraphs'])"
      ]
     },
     "execution_count": 18,
     "metadata": {},
     "output_type": "execute_result"
    }
   ],
   "source": [
    "squad['data'][0].keys()"
   ]
  },
  {
   "cell_type": "code",
   "execution_count": 19,
   "id": "3e17e53e",
   "metadata": {},
   "outputs": [
    {
     "name": "stdout",
     "output_type": "stream",
     "text": [
      "Employee Referral Programme\n",
      "0\n"
     ]
    }
   ],
   "source": [
    "# Find the group about Greece\n",
    "gr = -1\n",
    "for idx, group in enumerate(squad['data']):\n",
    "  print(group['title'])\n",
    "  if group['title'] == 'Employee Referral Programme':\n",
    "    gr = idx\n",
    "    print(gr)\n",
    "    break"
   ]
  },
  {
   "cell_type": "code",
   "execution_count": 20,
   "id": "8a81588b",
   "metadata": {},
   "outputs": [
    {
     "data": {
      "text/plain": [
       "{'title': 'Employee Referral Programme',\n",
       " 'paragraphs': [{'context': 'Purpose and objective  of  the  Employee  Referral  Programme  process  document  is  to  provide guidelines necessary to assist all  employees at Techversant who refer talent profiles to the Organization. This program  is  designed  to  help  source  talent, build  diversity,  and  find  the  right  candidates  for  open positions  and  to  reward  our  employees  for  the  right  referrals. This  programme  will  encourage  all  at Techversant to act as talent ambassadors for the Organization.Techversant is an equal opportunity employer with a diverse workforce.All referred candidates  will be given  the  same  consideration  and  will  pass  through  the  established  process  and  procedures  of  the Organization.Please note that it is not the intent for these  guidelines to  describe every situation. Management judgment will / may be necessary in certain situations which are not addressed here,or where special considerations may be required.',\n",
       "   'qas': [{'question': 'What is the purpose of Employee Referral Programme ?',\n",
       "     'id': '6e92ad9e-f1ea-4fbd-a2b9-aff731717e09',\n",
       "     'answers': [{'answer_start': 0,\n",
       "       'text': 'Purpose and objective  of  the  Employee  Referral  Programme  process  document  is  to  provide guidelines necessary to assist all  employees at Techversant who refer talent profiles to the Organization.'}]},\n",
       "    {'question': 'How is the Employee Referral Programme designed ?',\n",
       "     'id': '7f39c022-a582-4484-9037-b13c6f0f866a',\n",
       "     'answers': [{'answer_start': 205,\n",
       "       'text': ' This program  is  designed  to  help  source  talent, build  diversity,  and  find  the  right  candidates  for  open positions  and  to  reward  our  employees  for  the  right  referrals. This  programme  will  encourage  all  at Techversant to act as talent ambassadors for the Organization.'}]},\n",
       "    {'question': 'Does the company give equal opportunity to referred candidate ? ',\n",
       "     'id': 'db196f9e-6fd5-4cfc-b7a6-c77496d38d21',\n",
       "     'answers': [{'answer_start': 500,\n",
       "       'text': 'Techversant is an equal opportunity employer with a diverse workforce.All referred candidates  will be given  the  same  consideration  and  will  pass  through  the  established  process  and  procedures  of  the Organization.'}]},\n",
       "    {'question': 'Does the guideline change ?',\n",
       "     'id': 'ac951a59-ceb2-4888-a120-f2968e64350b',\n",
       "     'answers': [{'answer_start': 727,\n",
       "       'text': 'Please note that it is not the intent for these  guidelines to  describe every situation. Management judgment will / may be necessary in certain situations which are not addressed here,or where special considerations may be required.'}]},\n",
       "    {'question': 'what is the objective of employee referral programme?',\n",
       "     'id': '1eee1ec0-a88f-45bf-82b3-1e5efc414533',\n",
       "     'answers': [{'answer_start': 32,\n",
       "       'text': 'Employee  Referral  Programme  process  document  is  to  provide guidelines necessary to assist all  employees at Techversant who refer talent profiles to the Organization'}]},\n",
       "    {'question': 'Does Techversant an equal opportunity employer?',\n",
       "     'id': 'bc7b8b85-6c98-426d-bc20-87d591082ed2',\n",
       "     'answers': [{'answer_start': 500,\n",
       "       'text': 'Techversant is an equal opportunity employer with a diverse workforce'}]},\n",
       "    {'question': 'How the employee referral programme helps the company?',\n",
       "     'id': '642031ce-047d-4569-a6a9-efa68f668813',\n",
       "     'answers': [{'answer_start': 206,\n",
       "       'text': 'This program  is  designed  to  help  source  talent, build  diversity,  and  find  the  right  candidates  for  open positions  and  to  reward  our  employees  for  the  right  referrals'}]},\n",
       "    {'question': 'How the employee referral programme encourages the company employees for giving referrals?',\n",
       "     'id': 'fb03bd28-7d75-4d6d-b1ec-65eba63d7b8d',\n",
       "     'answers': [{'answer_start': 206,\n",
       "       'text': 'This program  is  designed  to  help  source  talent, build  diversity,  and  find  the  right  candidates  for  open positions  and  to  reward  our  employees  for  the  right  referrals'}]},\n",
       "    {'question': 'Does the employee gets reward for the referral?',\n",
       "     'id': 'fe0d08d9-f0ce-45fc-a61a-c4c45f240d2b',\n",
       "     'answers': [{'answer_start': 206,\n",
       "       'text': 'This program  is  designed  to  help  source  talent, build  diversity,  and  find  the  right  candidates  for  open positions  and  to  reward  our  employees  for  the  right  referrals'}]}]},\n",
       "  {'context': 'Scope defines the  process will be applicable for all referrals hired through the employee referral program, effective 1st October 2021.It covers all open positions in the Organization that would fall under Employee Referral Programme as announced by the Talent Acquisition Team and as approved by the Management.Special referral schemes catering to critical needs as announced by the Talent Acquisition Team and as approved by the management.',\n",
       "   'qas': [{'question': 'Does the referral program applicable for all open position in the organization ?',\n",
       "     'id': '49bbb7fd-bd23-4390-a2fc-a118be8bbb59',\n",
       "     'answers': [{'answer_start': 136,\n",
       "       'text': 'It covers all open positions in the Organization that would fall under Employee Referral Programme as announced by the Talent Acquisition Team and as approved by the Management.'}]},\n",
       "    {'question': 'Do yo have special referral schemes ?',\n",
       "     'id': '987f1b62-fcac-40eb-9dda-c000291f2721',\n",
       "     'answers': [{'answer_start': 313,\n",
       "       'text': 'Special referral schemes catering to critical needs as announced by the Talent Acquisition Team and as approved by the management.'}]},\n",
       "    {'question': 'What is the scope of referral program ?',\n",
       "     'id': 'ff0c2186-2f84-4701-b1b2-2e59ffe4b2aa',\n",
       "     'answers': [{'answer_start': 0,\n",
       "       'text': 'Scope defines the  process will be applicable for all referrals hired through the employee referral program, effective 1st October 2021.'}]},\n",
       "    {'question': 'when does the employee referral program came into effect?',\n",
       "     'id': 'e82cc623-ed10-48ec-a062-b8be6fd76cc3',\n",
       "     'answers': [{'answer_start': 109, 'text': 'effective 1st October 2021'}]},\n",
       "    {'question': 'who is managing the employee referral programme?',\n",
       "     'id': '8d3f35b4-3162-4126-a417-7e7803b5d422',\n",
       "     'answers': [{'answer_start': 207,\n",
       "       'text': 'Employee Referral Programme as announced by the Talent Acquisition Team and as approved by the Management'}]}]},\n",
       "  {'context': 'Guidelines for Referrals and Eligibility for referring candidates are All employees of Techversant are eligible to refer candidates under the employee referral program.Referrer should not be involved in the hiring process of the referred candidate (viz. prescreening, interview and offer release).All those directly involved in the hiring process for the referral positions will not be part of this programme',\n",
       "   'qas': [{'question': 'What are the Eligibility for referring candidates ?',\n",
       "     'id': '627f487e-fb8b-4cdb-a3e9-505b6445e22e',\n",
       "     'answers': [{'answer_start': 0,\n",
       "       'text': 'Guidelines for Referrals and Eligibility for referring candidates are All employees of Techversant are eligible to refer candidates under the employee referral program.'}]},\n",
       "    {'question': 'Can the Referrer be involved in hiring process ?',\n",
       "     'id': 'b683d77f-235e-4ee9-828c-79e62565cdc2',\n",
       "     'answers': [{'answer_start': 168,\n",
       "       'text': 'Referrer should not be involved in the hiring process of the referred candidate (viz. prescreening, interview and offer release).All those directly involved in the hiring process for the referral positions will not be part of this programme'}]},\n",
       "    {'question': 'Is the referrer allowed for prescreening or interview during hiring process?',\n",
       "     'id': '4aa4d6f8-fae3-4f13-b5d7-41edd19a0175',\n",
       "     'answers': [{'answer_start': 168,\n",
       "       'text': 'Referrer should not be involved in the hiring process of the referred candidate (viz. prescreening, interview and offer release)'}]},\n",
       "    {'question': 'Do all the employees eligible for referring candidates?',\n",
       "     'id': '35202c6a-2a69-4a28-b90b-ddf32b27c81f',\n",
       "     'answers': [{'answer_start': 70,\n",
       "       'text': 'All employees of Techversant are eligible to refer candidates under the employee referral program'}]},\n",
       "    {'question': 'Do the people involved in hiring for referral be a part of employee referral programme?',\n",
       "     'id': '78b23230-0fb0-4a18-be2d-453076a1637d',\n",
       "     'answers': [{'answer_start': 297,\n",
       "       'text': 'All those directly involved in the hiring process for the referral positions will not be part of this programme'}]}]},\n",
       "  {'context': 'The employee referral process will be as below,the Talent Acquisition Team will declare the open positions which would come under the employee referral program. It will have the referral category mentioning the bonus amount for the referral positions and the date until which the program is open  for the respective referral bonus along with the other relevant position details. Only positions announced under the employee referral bonus programme will be considered for processing. The Referral Bonus Amount will be notified for the open positions, based on the criticality  and priority of the position, availability in the market, the role and designation of the position and the quality of the candidate hired. The  Referral  Bonus  amount  could  range  from  INR  5000  to  INR  50,000  or  an amount  as  decided  by  the  Talent  Acquisition  Team  and  approved  by  the Management based on the open position.All referrals are to be sent to the HR Email id or uploaded to a portal, as notified, along with other relevant details.Response emails on the progress of referral would be send to the referrers, as and when an activity happens against the referral.Rejected profiles may get considered only after six (6) months, subject to final approval and  discretion of the Management.',\n",
       "   'qas': [{'question': 'What are the process in employee referral ?',\n",
       "     'id': 'a23f24c9-4ede-48a0-950a-8c06b8f438aa',\n",
       "     'answers': [{'answer_start': 0,\n",
       "       'text': 'The employee referral process will be as below,the Talent Acquisition Team will declare the open positions which would come under the employee referral program. It will have the referral category mentioning the bonus amount for the referral positions and the date until which the program is open  for the respective referral bonus along with the other relevant position details. '}]},\n",
       "    {'question': 'Will the referral bonus be applicable for all the open position ?',\n",
       "     'id': '4ed3b884-84ac-4c40-8079-fe2f2902e9bf',\n",
       "     'answers': [{'answer_start': 379,\n",
       "       'text': 'Only positions announced under the employee referral bonus programme will be considered for processing. The Referral Bonus Amount will be notified for the open positions, based on the criticality  and priority of the position, availability in the market, the role and designation of the position and the quality of the candidate hired.'}]},\n",
       "    {'question': 'What is the referral bonus amount range ?',\n",
       "     'id': '354e7028-abcb-49f3-b1fc-1c2a2d516734',\n",
       "     'answers': [{'answer_start': 715,\n",
       "       'text': 'The  Referral  Bonus  amount  could  range  from  INR  5000  to  INR  50,000  or  an amount  as  decided  by  the  Talent  Acquisition  Team  and  approved  by  the Management based on the open position.'}]},\n",
       "    {'question': 'To whom should the Referral be sent?',\n",
       "     'id': 'd0d565c9-6cc1-49c5-853b-305494371e4b',\n",
       "     'answers': [{'answer_start': 918,\n",
       "       'text': 'All referrals are to be sent to the HR Email id or uploaded to a portal, as notified, along with other relevant details.Response emails on the progress of referral would be send to the referrers, as and when an activity happens against the referral.'}]},\n",
       "    {'question': 'What is timeline for rejected profile to reapply ?',\n",
       "     'id': '025c2a50-d2ee-4a30-965f-f6316786d525',\n",
       "     'answers': [{'answer_start': 1167,\n",
       "       'text': 'Rejected profiles may get considered only after six (6) months, subject to final approval and  discretion of the Management.'}]},\n",
       "    {'question': 'who would be announcing the open positions for referral?',\n",
       "     'id': '38df62c7-0a8b-43d2-ab10-5575a1194fa6',\n",
       "     'answers': [{'answer_start': 51,\n",
       "       'text': 'Talent Acquisition Team will declare the open positions which would come under the employee referral program'}]},\n",
       "    {'question': 'Is there any specific referral category for the referral positions?',\n",
       "     'id': '157b480f-3da5-4da6-ab86-92a346a4430c',\n",
       "     'answers': [{'answer_start': 161,\n",
       "       'text': 'It will have the referral category mentioning the bonus amount for the referral positions and the date until which the program is open  for the respective referral bonus along with the other relevant position details'}]},\n",
       "    {'question': 'Do all the referral positions have the bonus?',\n",
       "     'id': '2dc59701-d068-4c20-8206-5b2de1450964',\n",
       "     'answers': [{'answer_start': 379,\n",
       "       'text': 'Only positions announced under the employee referral bonus programme will be considered for processing'}]},\n",
       "    {'question': 'who decides the bonus amount for referral?',\n",
       "     'id': '5e1c9903-c656-4b19-a32d-0188fafeb422',\n",
       "     'answers': [{'answer_start': 812,\n",
       "       'text': 'decided  by  the  Talent  Acquisition  Team  and  approved  by  the Management based on the open position'}]},\n",
       "    {'question': 'Can a rejected referral considered again for referral?',\n",
       "     'id': '5d5c4bb5-66cb-4ef2-a191-7cfee79d4b25',\n",
       "     'answers': [{'answer_start': 1167,\n",
       "       'text': 'Rejected profiles may get considered only after six (6) months, subject to final approval and  discretion of the Management'}]},\n",
       "    {'question': 'How to sent the referrals?',\n",
       "     'id': '3251d270-8570-4753-bc13-d1979bb1bd0c',\n",
       "     'answers': [{'answer_start': 918,\n",
       "       'text': 'All referrals are to be sent to the HR Email id or uploaded to a portal, as notified, along with other relevant details'}]}]},\n",
       "  {'context': 'Eligibility for Referral Bonus are as follows, all employees are eligible to refer candidates under the employee referral programme. All employees who are active at the time of the employee referral bonus payment date - both referrer and the referee will need to on rolls with Techversant and not serving the notice period.All who are directly involved in external recruitment are not eligible The  referral  bonus  programme  is applicable  only  for  permanent  employee  hires  and  fixed  term consultants. If the referral candidate joins as contractors, the referrer will be eligible for referral bonus only upon their successful conversion to regular rolls of the company.To  be  eligible  for  referral  bonus,  the  profile  has  to  be  sent  to  the  Talent  Acquisition  team  by  the employee at the mentioned email id or portal as applicable.  Any application processed without the involvement of the Talent Acquisition team will not be eligible for a referral bonus.In the event a referral is received through multiple referrers, the first referrer becomes eligible for thereferral  bonus.  The  Talent  Acquisition  Team  shall  intimate  the  other  referrers  before  initiating  the recruitment process.Referral bonus will not be applicable for fresher recruitment.Referral  bonus  will  not be  applicable  for  positions  under  the  Enabling  /  Support  Functions,unless there is an exception as approved by the Management.',\n",
       "   'qas': [{'question': 'Who are not eligible for Referral Bonus ?',\n",
       "     'id': '1e346d4f-afb3-4368-ba3b-ce2a2b59cb60',\n",
       "     'answers': [{'answer_start': 323,\n",
       "       'text': 'All who are directly involved in external recruitment are not eligible'}]},\n",
       "    {'question': 'What is Referral Bonus ?',\n",
       "     'id': '82d37149-13a9-4af9-958c-0abfa76d549d',\n",
       "     'answers': [{'answer_start': 0,\n",
       "       'text': 'Eligibility for Referral Bonus are as follows, all employees are eligible to refer candidates under the employee referral programme. All employees who are active at the time of the employee referral bonus payment date - both referrer and the referee will need to on rolls with Techversant and not serving the notice period.'}]},\n",
       "    {'question': 'Who are eligible for Referral Bonus ?',\n",
       "     'id': '574a8149-777a-47a0-9e08-828ec0597a00',\n",
       "     'answers': [{'answer_start': 394,\n",
       "       'text': 'The  referral  bonus  programme  is applicable  only  for  permanent  employee  hires  and  fixed  term consultants. If the referral candidate joins as contractors, the referrer will be eligible for referral bonus only upon their successful conversion to regular rolls of the company.'}]},\n",
       "    {'question': 'What if a referral is received through multiple referrers ?',\n",
       "     'id': 'aaed7157-6d0a-43a3-811a-97a26c826caf',\n",
       "     'answers': [{'answer_start': 980,\n",
       "       'text': 'In the event a referral is received through multiple referrers, the first referrer becomes eligible for thereferral  bonus.  The  Talent  Acquisition  Team  shall  intimate  the  other  referrers  before  initiating  the recruitment process.'}]},\n",
       "    {'question': 'What is the process to get eligible for Referral Bonus ?',\n",
       "     'id': '9f1780d7-bcb5-496d-a457-bfd51090e26d',\n",
       "     'answers': [{'answer_start': 678,\n",
       "       'text': 'To  be  eligible  for  referral  bonus,  the  profile  has  to  be  sent  to  the  Talent  Acquisition  team  by  the employee at the mentioned email id or portal as applicable.  Any application processed without the involvement of the Talent Acquisition team will not be eligible for a referral bonus.'}]},\n",
       "    {'question': 'What are the positions not applicable for Referral Bonus ?',\n",
       "     'id': 'dc4e8b12-c2b7-4ddb-8554-0e991bdba0dd',\n",
       "     'answers': [{'answer_start': 1105,\n",
       "       'text': 'The  Talent  Acquisition  Team  shall  intimate  the  other  referrers  before  initiating  the recruitment process.Referral bonus will not be applicable for fresher recruitment.Referral  bonus  will  not be  applicable  for  positions  under  the  Enabling  /  Support  Functions,unless there is an exception as approved by the Management.'}]},\n",
       "    {'question': 'when a referrer on notice period gets employee referral bonus?',\n",
       "     'id': 'e91a8959-4912-467c-901a-9efafc5e5f5b',\n",
       "     'answers': [{'answer_start': 133,\n",
       "       'text': 'All employees who are active at the time of the employee referral bonus payment date - both referrer and the referee will need to on rolls with Techversant and not serving the notice period'}]},\n",
       "    {'question': 'when the referee is on notice period would the referrer gets referral bonus payment?',\n",
       "     'id': '4f82acd7-65ac-4195-8e01-a8cc2a1f97cf',\n",
       "     'answers': [{'answer_start': 133,\n",
       "       'text': 'All employees who are active at the time of the employee referral bonus payment date - both referrer and the referee will need to on rolls with Techversant and not serving the notice period'}]},\n",
       "    {'question': 'Does the referrer gets referral bonus only for permanent hiring?',\n",
       "     'id': '8b955682-66da-42dd-bada-8e88fd2b8962',\n",
       "     'answers': [{'answer_start': 394,\n",
       "       'text': 'The  referral  bonus  programme  is applicable  only  for  permanent  employee  hires  and  fixed  term consultants'}]},\n",
       "    {'question': 'Does the referrer gets referral bonus if the candidate joins as contractors?',\n",
       "     'id': 'eb9d0f38-e956-4609-a4a0-c4f5bb6cece2',\n",
       "     'answers': [{'answer_start': 511,\n",
       "       'text': 'If the referral candidate joins as contractors, the referrer will be eligible for referral bonus only upon their successful conversion to regular rolls of the company'}]},\n",
       "    {'question': 'To whom the referral profile to be sent to get the referral bonus?',\n",
       "     'id': '3c84aaf8-feb2-4bef-93a3-232c55be1c82',\n",
       "     'answers': [{'answer_start': 678,\n",
       "       'text': 'To  be  eligible  for  referral  bonus,  the  profile  has  to  be  sent  to  the  Talent  Acquisition  team  by  the employee at the mentioned email id or portal as applicable'}]},\n",
       "    {'question': 'Does the referrer gets referral bonus for hiring freshers?',\n",
       "     'id': '7fd27f7e-6066-4264-8102-cb494850fb3c',\n",
       "     'answers': [{'answer_start': 1221,\n",
       "       'text': 'Referral bonus will not be applicable for fresher recruitment'}]}]},\n",
       "  {'context': 'Regarding Referral Bonus Payout Details,the Referral bonus would be paid in the subsequent month payroll once the selected referral completes  minimum  6  months  or  the  probation  period,  whichever  is  more,  at  Techversant and upon successful completion of background verification of the  referral, as the case may be.Both Referrer and Referral should be on Techversant?s payroll at the time of bonus payout and not serving the notice period.Bonus payment for the employees on long leave would be credited when the employee returns to active duty.The referral bonus will be paid along with salary and is a taxable income. Any tax applicable will be deducted at source.',\n",
       "   'qas': [{'question': 'What is the timeline for Referral Bonus Payout Details ?',\n",
       "     'id': '76b0e3ea-9c17-4164-a1e9-8b246f3f1a1c',\n",
       "     'answers': [{'answer_start': 0,\n",
       "       'text': 'Regarding Referral Bonus Payout Details,the Referral bonus would be paid in the subsequent month payroll once the selected referral completes  minimum  6  months  or  the  probation  period,  whichever  is  more,  at  Techversant and upon successful completion of background verification of the  referral, as the case may be.'}]},\n",
       "    {'question': 'What if the Referrer serving notice period ?',\n",
       "     'id': '47d69387-14ca-48e5-9725-8bd5dd04be0d',\n",
       "     'answers': [{'answer_start': 325,\n",
       "       'text': 'Both Referrer and Referral should be on Techversant?s payroll at the time of bonus payout and not serving the notice period.'}]},\n",
       "    {'question': 'What is the Bonus payment for the employees is on long leave ?',\n",
       "     'id': 'c582760c-2640-431d-9a60-f26ffd542114',\n",
       "     'answers': [{'answer_start': 449,\n",
       "       'text': 'Bonus payment for the employees on long leave would be credited when the employee returns to active duty.'}]},\n",
       "    {'question': 'Do you detect tax for referral bonus ?',\n",
       "     'id': 'a82fe829-eefb-4c5e-a079-2d3ff170d151',\n",
       "     'answers': [{'answer_start': 554,\n",
       "       'text': 'The referral bonus will be paid along with salary and is a taxable income. Any tax applicable will be deducted at source.'}]},\n",
       "    {'question': 'when would the referral bonus be paid?',\n",
       "     'id': 'a38969b8-b66b-48f4-813d-b42b483f0fd1',\n",
       "     'answers': [{'answer_start': 40,\n",
       "       'text': 'the Referral bonus would be paid in the subsequent month payroll once the selected referral completes  minimum  6  months  or  the  probation  period,  whichever  is  more,  at  Techversant and upon successful completion of background verification of the  referral, as the case may be'}]},\n",
       "    {'question': 'Does the referrer gets the referral bonus after the probation period of the selected referral?',\n",
       "     'id': '8f46ecd2-423b-4924-9cbb-1107c5816a88',\n",
       "     'answers': [{'answer_start': 44,\n",
       "       'text': 'Referral bonus would be paid in the subsequent month payroll once the selected referral completes  minimum  6  months  or  the  probation  period,  whichever  is  more'}]},\n",
       "    {'question': 'Is the referral bonus taxable?',\n",
       "     'id': 'f9755386-ffe7-4a7e-a056-4191b34d2240',\n",
       "     'answers': [{'answer_start': 554,\n",
       "       'text': 'The referral bonus will be paid along with salary and is a taxable income'}]},\n",
       "    {'question': 'would the employee gets referral bonus if he/she is on long leave?',\n",
       "     'id': '7113fbfa-8f0b-42f7-8e47-4472f2fc5d40',\n",
       "     'answers': [{'answer_start': 449,\n",
       "       'text': 'Bonus payment for the employees on long leave would be credited when the employee returns to active duty'}]}]},\n",
       "  {'context': 'Authority of the Management and Human Resources Group reserves the right to revise or eliminate this policy. Any such changes will be communicated.All ?exceptions? to the statements of this policy document must be appealed the HR Function Head and will be considered on an individual case basis, subject to review and approval from the Management.',\n",
       "   'qas': [{'question': 'Who reserves the right to revise or eliminate Employee Referral Policy?',\n",
       "     'id': '96d70cf0-1b4b-44cd-8334-d7387d0615ee',\n",
       "     'answers': [{'answer_start': 0,\n",
       "       'text': 'Authority of the Management and Human Resources Group reserves the right to revise or eliminate this policy. Any such changes will be communicated.'}]},\n",
       "    {'question': 'Is there is any exceptions for Employee Referral Programme guidelines ?',\n",
       "     'id': '9434c98b-9a97-44a8-9c73-c7e2b311694d',\n",
       "     'answers': [{'answer_start': 147,\n",
       "       'text': 'All ?exceptions? to the statements of this policy document must be appealed the HR Function Head and will be considered on an individual case basis, subject to review and approval from the Management.'}]},\n",
       "    {'question': 'who are authorized to revise the employee referral policy?',\n",
       "     'id': '26eedd1e-42b4-477a-8f6a-b7b0233058a2',\n",
       "     'answers': [{'answer_start': 0,\n",
       "       'text': 'Authority of the Management and Human Resources Group reserves the right to revise or eliminate this policy'}]},\n",
       "    {'question': 'How to communicate the case of exceptions to the employee referral policy?',\n",
       "     'id': 'f22fe61b-36f4-44bb-bff6-ca5dcff4505e',\n",
       "     'answers': [{'answer_start': 147,\n",
       "       'text': 'All ?exceptions? to the statements of this policy document must be appealed the HR Function Head and will be considered on an individual case basis, subject to review and approval from the Management'}]}]}]}"
      ]
     },
     "execution_count": 20,
     "metadata": {},
     "output_type": "execute_result"
    }
   ],
   "source": [
    "# let's check on Greece which is 186th (0-based indexing)\n",
    "# we can see that we have a context and many questions and answers following\n",
    "squad['data'][0]"
   ]
  },
  {
   "cell_type": "code",
   "execution_count": 21,
   "id": "a8187368",
   "metadata": {},
   "outputs": [
    {
     "data": {
      "text/plain": [
       "'The employee referral process will be as below,the Talent Acquisition Team will declare the open positions which would come under the employee referral program. It will have the referral category mentioning the bonus amount for the referral positions and the date until which the program is open  for the respective referral bonus along with the other relevant position details. Only positions announced under the employee referral bonus programme will be considered for processing. The Referral Bonus Amount will be notified for the open positions, based on the criticality  and priority of the position, availability in the market, the role and designation of the position and the quality of the candidate hired. The  Referral  Bonus  amount  could  range  from  INR  5000  to  INR  50,000  or  an amount  as  decided  by  the  Talent  Acquisition  Team  and  approved  by  the Management based on the open position.All referrals are to be sent to the HR Email id or uploaded to a portal, as notified, along with other relevant details.Response emails on the progress of referral would be send to the referrers, as and when an activity happens against the referral.Rejected profiles may get considered only after six (6) months, subject to final approval and  discretion of the Management.'"
      ]
     },
     "execution_count": 21,
     "metadata": {},
     "output_type": "execute_result"
    }
   ],
   "source": [
    "# and this is the context given for NYC\n",
    "squad['data'][0]['paragraphs'][3]['context']"
   ]
  },
  {
   "cell_type": "code",
   "execution_count": 13,
   "id": "aec5df18",
   "metadata": {},
   "outputs": [],
   "source": [
    "def read_data(path):  \n",
    "  # load the json file\n",
    "  with open(path, 'rb') as f:\n",
    "    squad = json.load(f)\n",
    "\n",
    "  contexts = []\n",
    "  questions = []\n",
    "  answers = []\n",
    "\n",
    "  for group in squad['data']:\n",
    "    for passage in group['paragraphs']:\n",
    "      context = passage['context']\n",
    "      for qa in passage['qas']:\n",
    "        question = qa['question']\n",
    "        for answer in qa['answers']:\n",
    "          contexts.append(context)\n",
    "          questions.append(question)\n",
    "          answers.append(answer)\n",
    "\n",
    "  return contexts, questions, answers"
   ]
  },
  {
   "cell_type": "code",
   "execution_count": 14,
   "id": "28e0a67c",
   "metadata": {},
   "outputs": [],
   "source": [
    "train_contexts, train_questions, train_answers = read_data(\"C:\\\\Users\\\\JaiGatiri\\\\Documents\\\\cdqa-pred\\\\annotated_data\\\\cdqa-v1_updated_referral_annot.json\")"
   ]
  },
  {
   "cell_type": "code",
   "execution_count": 15,
   "id": "a9d2fa26",
   "metadata": {},
   "outputs": [
    {
     "name": "stdout",
     "output_type": "stream",
     "text": [
      "There are 54 questions\n",
      "What is the purpose of Employee Referral Programme ?\n",
      "{'answer_start': 0, 'text': 'Purpose and objective  of  the  Employee  Referral  Programme  process  document  is  to  provide guidelines necessary to assist all  employees at Techversant who refer talent profiles to the Organization.'}\n"
     ]
    }
   ],
   "source": [
    "# print a random question and answer\n",
    "print(f'There are {len(train_questions)} questions')\n",
    "print(train_questions[-54])\n",
    "print(train_answers[-54])"
   ]
  },
  {
   "cell_type": "code",
   "execution_count": 82,
   "id": "46e3ae54",
   "metadata": {},
   "outputs": [],
   "source": [
    "def add_end_idx(answers, contexts):\n",
    "  for answer, context in zip(answers, contexts):\n",
    "    gold_text = answer['text']\n",
    "    start_idx = answer['answer_start']\n",
    "    end_idx = start_idx + len(gold_text)\n",
    "\n",
    "    # sometimes squad answers are off by a character or two so we fix this\n",
    "    if context[start_idx:end_idx] == gold_text:\n",
    "      answer['answer_end'] = end_idx\n",
    "    elif context[start_idx-1:end_idx-1] == gold_text:\n",
    "      answer['answer_start'] = start_idx - 1\n",
    "      answer['answer_end'] = end_idx - 1     # When the gold label is off by one character\n",
    "    elif context[start_idx-2:end_idx-2] == gold_text:\n",
    "      answer['answer_start'] = start_idx - 2\n",
    "      answer['answer_end'] = end_idx - 2     # When the gold label is off by two characters\n",
    "\n",
    "add_end_idx(train_answers, train_contexts)"
   ]
  },
  {
   "cell_type": "code",
   "execution_count": 83,
   "id": "bcee25cd",
   "metadata": {},
   "outputs": [
    {
     "name": "stdout",
     "output_type": "stream",
     "text": [
      "What is the purpose of Employee Referral Programme ?\n",
      "{'answer_start': 0, 'text': 'Purpose and objective  of  the  Employee  Referral  Programme  process  document  is  to  provide guidelines necessary to assist all  employees at Techversant who refer talent profiles to the Organization.', 'answer_end': 205}\n"
     ]
    }
   ],
   "source": [
    "# You can see that now we get the answer_end also\n",
    "print(train_questions[-54])\n",
    "print(train_answers[-54])"
   ]
  },
  {
   "cell_type": "code",
   "execution_count": 84,
   "id": "2b9c6ffa",
   "metadata": {},
   "outputs": [
    {
     "data": {
      "application/vnd.jupyter.widget-view+json": {
       "model_id": "c536fc5bd4ac48cf8ba86eeb651cb6a2",
       "version_major": 2,
       "version_minor": 0
      },
      "text/plain": [
       "Downloading:   0%|          | 0.00/466k [00:00<?, ?B/s]"
      ]
     },
     "metadata": {},
     "output_type": "display_data"
    }
   ],
   "source": [
    "from transformers import BertTokenizerFast\n",
    "\n",
    "tokenizer = BertTokenizerFast.from_pretrained('bert-base-uncased')\n",
    "\n",
    "train_encodings = tokenizer(train_contexts, train_questions, truncation=True, padding=True)"
   ]
  },
  {
   "cell_type": "code",
   "execution_count": 85,
   "id": "d1a38084",
   "metadata": {},
   "outputs": [
    {
     "data": {
      "text/plain": [
       "dict_keys(['input_ids', 'token_type_ids', 'attention_mask'])"
      ]
     },
     "execution_count": 85,
     "metadata": {},
     "output_type": "execute_result"
    }
   ],
   "source": [
    "train_encodings.keys()"
   ]
  },
  {
   "cell_type": "code",
   "execution_count": 86,
   "id": "18112e2d",
   "metadata": {},
   "outputs": [
    {
     "name": "stdout",
     "output_type": "stream",
     "text": [
      "We have 54 context-question pairs\n"
     ]
    }
   ],
   "source": [
    "no_of_encodings = len(train_encodings['input_ids'])\n",
    "print(f'We have {no_of_encodings} context-question pairs')"
   ]
  },
  {
   "cell_type": "code",
   "execution_count": 87,
   "id": "cc6d51f8",
   "metadata": {},
   "outputs": [
    {
     "data": {
      "text/plain": [
       "[101,\n",
       " 3800,\n",
       " 1998,\n",
       " 7863,\n",
       " 1997,\n",
       " 1996,\n",
       " 7904,\n",
       " 6523,\n",
       " 7941,\n",
       " 4746,\n",
       " 2832,\n",
       " 6254,\n",
       " 2003,\n",
       " 2000,\n",
       " 3073,\n",
       " 11594,\n",
       " 4072,\n",
       " 2000,\n",
       " 6509,\n",
       " 2035,\n",
       " 5126,\n",
       " 2012,\n",
       " 6627,\n",
       " 14028,\n",
       " 4630,\n",
       " 2040,\n",
       " 6523,\n",
       " 5848,\n",
       " 17879,\n",
       " 2000,\n",
       " 1996,\n",
       " 3029,\n",
       " 1012,\n",
       " 2023,\n",
       " 2565,\n",
       " 2003,\n",
       " 2881,\n",
       " 2000,\n",
       " 2393,\n",
       " 3120,\n",
       " 5848,\n",
       " 1010,\n",
       " 3857,\n",
       " 8906,\n",
       " 1010,\n",
       " 1998,\n",
       " 2424,\n",
       " 1996,\n",
       " 2157,\n",
       " 5347,\n",
       " 2005,\n",
       " 2330,\n",
       " 4460,\n",
       " 1998,\n",
       " 2000,\n",
       " 10377,\n",
       " 2256,\n",
       " 5126,\n",
       " 2005,\n",
       " 1996,\n",
       " 2157,\n",
       " 6523,\n",
       " 7941,\n",
       " 2015,\n",
       " 1012,\n",
       " 2023,\n",
       " 4746,\n",
       " 2097,\n",
       " 8627,\n",
       " 2035,\n",
       " 2012,\n",
       " 6627,\n",
       " 14028,\n",
       " 4630,\n",
       " 2000,\n",
       " 2552,\n",
       " 2004,\n",
       " 5848,\n",
       " 20986,\n",
       " 2005,\n",
       " 1996,\n",
       " 3029,\n",
       " 1012,\n",
       " 6627,\n",
       " 14028,\n",
       " 4630,\n",
       " 2003,\n",
       " 2019,\n",
       " 5020,\n",
       " 4495,\n",
       " 11194,\n",
       " 2007,\n",
       " 1037,\n",
       " 7578,\n",
       " 14877,\n",
       " 1012,\n",
       " 2035,\n",
       " 3615,\n",
       " 5347,\n",
       " 2097,\n",
       " 2022,\n",
       " 2445,\n",
       " 1996,\n",
       " 2168,\n",
       " 9584,\n",
       " 1998,\n",
       " 2097,\n",
       " 3413,\n",
       " 2083,\n",
       " 1996,\n",
       " 2511,\n",
       " 2832,\n",
       " 1998,\n",
       " 8853,\n",
       " 1997,\n",
       " 1996,\n",
       " 3029,\n",
       " 1012,\n",
       " 3531,\n",
       " 3602,\n",
       " 2008,\n",
       " 2009,\n",
       " 2003,\n",
       " 2025,\n",
       " 1996,\n",
       " 7848,\n",
       " 2005,\n",
       " 2122,\n",
       " 11594,\n",
       " 2000,\n",
       " 6235,\n",
       " 2296,\n",
       " 3663,\n",
       " 1012,\n",
       " 2968,\n",
       " 8689,\n",
       " 2097,\n",
       " 1013,\n",
       " 2089,\n",
       " 2022,\n",
       " 4072,\n",
       " 1999,\n",
       " 3056,\n",
       " 8146,\n",
       " 2029,\n",
       " 2024,\n",
       " 2025,\n",
       " 8280,\n",
       " 2182,\n",
       " 1010,\n",
       " 2030,\n",
       " 2073,\n",
       " 2569,\n",
       " 16852,\n",
       " 2089,\n",
       " 2022,\n",
       " 3223,\n",
       " 1012,\n",
       " 102,\n",
       " 2054,\n",
       " 2003,\n",
       " 1996,\n",
       " 3800,\n",
       " 1997,\n",
       " 7904,\n",
       " 6523,\n",
       " 7941,\n",
       " 4746,\n",
       " 1029,\n",
       " 102,\n",
       " 0,\n",
       " 0,\n",
       " 0,\n",
       " 0,\n",
       " 0,\n",
       " 0,\n",
       " 0,\n",
       " 0,\n",
       " 0,\n",
       " 0,\n",
       " 0,\n",
       " 0,\n",
       " 0,\n",
       " 0,\n",
       " 0,\n",
       " 0,\n",
       " 0,\n",
       " 0,\n",
       " 0,\n",
       " 0,\n",
       " 0,\n",
       " 0,\n",
       " 0,\n",
       " 0,\n",
       " 0,\n",
       " 0,\n",
       " 0,\n",
       " 0,\n",
       " 0,\n",
       " 0,\n",
       " 0,\n",
       " 0,\n",
       " 0,\n",
       " 0,\n",
       " 0,\n",
       " 0,\n",
       " 0,\n",
       " 0,\n",
       " 0,\n",
       " 0,\n",
       " 0,\n",
       " 0,\n",
       " 0,\n",
       " 0,\n",
       " 0,\n",
       " 0,\n",
       " 0,\n",
       " 0,\n",
       " 0,\n",
       " 0,\n",
       " 0,\n",
       " 0,\n",
       " 0,\n",
       " 0,\n",
       " 0,\n",
       " 0,\n",
       " 0,\n",
       " 0,\n",
       " 0,\n",
       " 0,\n",
       " 0,\n",
       " 0,\n",
       " 0,\n",
       " 0,\n",
       " 0,\n",
       " 0,\n",
       " 0,\n",
       " 0,\n",
       " 0,\n",
       " 0,\n",
       " 0,\n",
       " 0,\n",
       " 0,\n",
       " 0,\n",
       " 0,\n",
       " 0,\n",
       " 0,\n",
       " 0,\n",
       " 0,\n",
       " 0,\n",
       " 0,\n",
       " 0,\n",
       " 0,\n",
       " 0,\n",
       " 0,\n",
       " 0,\n",
       " 0,\n",
       " 0,\n",
       " 0,\n",
       " 0,\n",
       " 0,\n",
       " 0,\n",
       " 0,\n",
       " 0,\n",
       " 0,\n",
       " 0,\n",
       " 0,\n",
       " 0,\n",
       " 0,\n",
       " 0,\n",
       " 0,\n",
       " 0,\n",
       " 0,\n",
       " 0,\n",
       " 0,\n",
       " 0]"
      ]
     },
     "execution_count": 87,
     "metadata": {},
     "output_type": "execute_result"
    }
   ],
   "source": [
    "train_encodings['input_ids'][0]"
   ]
  },
  {
   "cell_type": "code",
   "execution_count": 88,
   "id": "07705c74",
   "metadata": {},
   "outputs": [
    {
     "data": {
      "text/plain": [
       "'[CLS] purpose and objective of the employee referral programme process document is to provide guidelines necessary to assist all employees at techversant who refer talent profiles to the organization. this program is designed to help source talent, build diversity, and find the right candidates for open positions and to reward our employees for the right referrals. this programme will encourage all at techversant to act as talent ambassadors for the organization. techversant is an equal opportunity employer with a diverse workforce. all referred candidates will be given the same consideration and will pass through the established process and procedures of the organization. please note that it is not the intent for these guidelines to describe every situation. management judgment will / may be necessary in certain situations which are not addressed here, or where special considerations may be required. [SEP] what is the purpose of employee referral programme? [SEP] [PAD] [PAD] [PAD] [PAD] [PAD] [PAD] [PAD] [PAD] [PAD] [PAD] [PAD] [PAD] [PAD] [PAD] [PAD] [PAD] [PAD] [PAD] [PAD] [PAD] [PAD] [PAD] [PAD] [PAD] [PAD] [PAD] [PAD] [PAD] [PAD] [PAD] [PAD] [PAD] [PAD] [PAD] [PAD] [PAD] [PAD] [PAD] [PAD] [PAD] [PAD] [PAD] [PAD] [PAD] [PAD] [PAD] [PAD] [PAD] [PAD] [PAD] [PAD] [PAD] [PAD] [PAD] [PAD] [PAD] [PAD] [PAD] [PAD] [PAD] [PAD] [PAD] [PAD] [PAD] [PAD] [PAD] [PAD] [PAD] [PAD] [PAD] [PAD] [PAD] [PAD] [PAD] [PAD] [PAD] [PAD] [PAD] [PAD] [PAD] [PAD] [PAD] [PAD] [PAD] [PAD] [PAD] [PAD] [PAD] [PAD] [PAD] [PAD] [PAD] [PAD] [PAD] [PAD] [PAD] [PAD] [PAD] [PAD] [PAD] [PAD] [PAD] [PAD] [PAD] [PAD] [PAD]'"
      ]
     },
     "execution_count": 88,
     "metadata": {},
     "output_type": "execute_result"
    }
   ],
   "source": [
    "tokenizer.decode(train_encodings['input_ids'][0])"
   ]
  },
  {
   "cell_type": "code",
   "execution_count": 90,
   "id": "ffe464a3",
   "metadata": {},
   "outputs": [],
   "source": [
    "def add_token_positions(encodings, answers):\n",
    "  start_positions = []\n",
    "  end_positions = []\n",
    "  for i in range(len(answers)):\n",
    "    start_positions.append(encodings.char_to_token(i, answers[i]['answer_start']))\n",
    "    end_positions.append(encodings.char_to_token(i, answers[i]['answer_end'] - 1))\n",
    "\n",
    "    # if start position is None, the answer passage has been truncated\n",
    "    if start_positions[-1] is None:\n",
    "      start_positions[-1] = tokenizer.model_max_length\n",
    "    if end_positions[-1] is None:\n",
    "      end_positions[-1] = tokenizer.model_max_length\n",
    "\n",
    "  encodings.update({'start_positions': start_positions, 'end_positions': end_positions})\n",
    "\n",
    "add_token_positions(train_encodings, train_answers)"
   ]
  },
  {
   "cell_type": "code",
   "execution_count": 91,
   "id": "49553903",
   "metadata": {},
   "outputs": [
    {
     "data": {
      "text/plain": [
       "[1, 512, 83, 118, 6, 83, 33, 33, 33, 26]"
      ]
     },
     "execution_count": 91,
     "metadata": {},
     "output_type": "execute_result"
    }
   ],
   "source": [
    "train_encodings['start_positions'][:10]"
   ]
  },
  {
   "cell_type": "code",
   "execution_count": 92,
   "id": "1eac976b",
   "metadata": {},
   "outputs": [],
   "source": [
    "class SQuAD_Dataset(torch.utils.data.Dataset):\n",
    "  def __init__(self, encodings):\n",
    "    self.encodings = encodings\n",
    "  def __getitem__(self, idx):\n",
    "    return {key: torch.tensor(val[idx]) for key, val in self.encodings.items()}\n",
    "  def __len__(self):\n",
    "    return len(self.encodings.input_ids)"
   ]
  },
  {
   "cell_type": "code",
   "execution_count": 93,
   "id": "a3471c3d",
   "metadata": {},
   "outputs": [],
   "source": [
    "train_dataset = SQuAD_Dataset(train_encodings)"
   ]
  },
  {
   "cell_type": "code",
   "execution_count": 95,
   "id": "470a6476",
   "metadata": {},
   "outputs": [],
   "source": [
    "from torch.utils.data import DataLoader\n",
    "\n",
    "# Define the dataloaders\n",
    "train_loader = DataLoader(train_dataset, batch_size=16, shuffle=True)"
   ]
  },
  {
   "cell_type": "code",
   "execution_count": 96,
   "id": "cb89ae7e",
   "metadata": {},
   "outputs": [
    {
     "data": {
      "application/vnd.jupyter.widget-view+json": {
       "model_id": "93ee1f550fef41ce9b8cfed573e94408",
       "version_major": 2,
       "version_minor": 0
      },
      "text/plain": [
       "Downloading:   0%|          | 0.00/570 [00:00<?, ?B/s]"
      ]
     },
     "metadata": {},
     "output_type": "display_data"
    },
    {
     "data": {
      "application/vnd.jupyter.widget-view+json": {
       "model_id": "269fe2b61d684276beb0d0ac94e751ad",
       "version_major": 2,
       "version_minor": 0
      },
      "text/plain": [
       "Downloading:   0%|          | 0.00/440M [00:00<?, ?B/s]"
      ]
     },
     "metadata": {},
     "output_type": "display_data"
    },
    {
     "name": "stderr",
     "output_type": "stream",
     "text": [
      "Some weights of the model checkpoint at bert-base-uncased were not used when initializing BertForQuestionAnswering: ['cls.predictions.bias', 'cls.predictions.transform.dense.weight', 'cls.predictions.transform.dense.bias', 'cls.predictions.decoder.weight', 'cls.seq_relationship.weight', 'cls.seq_relationship.bias', 'cls.predictions.transform.LayerNorm.weight', 'cls.predictions.transform.LayerNorm.bias']\n",
      "- This IS expected if you are initializing BertForQuestionAnswering from the checkpoint of a model trained on another task or with another architecture (e.g. initializing a BertForSequenceClassification model from a BertForPreTraining model).\n",
      "- This IS NOT expected if you are initializing BertForQuestionAnswering from the checkpoint of a model that you expect to be exactly identical (initializing a BertForSequenceClassification model from a BertForSequenceClassification model).\n",
      "Some weights of BertForQuestionAnswering were not initialized from the model checkpoint at bert-base-uncased and are newly initialized: ['qa_outputs.weight', 'qa_outputs.bias']\n",
      "You should probably TRAIN this model on a down-stream task to be able to use it for predictions and inference.\n"
     ]
    }
   ],
   "source": [
    "from transformers import BertForQuestionAnswering\n",
    "\n",
    "model = BertForQuestionAnswering.from_pretrained(\"bert-base-uncased\")"
   ]
  },
  {
   "cell_type": "code",
   "execution_count": 97,
   "id": "059b9344",
   "metadata": {},
   "outputs": [
    {
     "name": "stdout",
     "output_type": "stream",
     "text": [
      "Working on cpu\n"
     ]
    }
   ],
   "source": [
    "# Check on the available device - use GPU\n",
    "device = torch.device('cuda') if torch.cuda.is_available() else torch.device('cpu')\n",
    "print(f'Working on {device}')"
   ]
  },
  {
   "cell_type": "code",
   "execution_count": 98,
   "id": "7308d3b9",
   "metadata": {},
   "outputs": [
    {
     "name": "stderr",
     "output_type": "stream",
     "text": [
      "Epoch 1: 100%|██████████████████████████████████████████████████████████████████████████████████████████████████████████████| 4/4 [01:19<00:00, 19.97s/it, loss=4.96]\n",
      "Epoch 2: 100%|██████████████████████████████████████████████████████████████████████████████████████████████████████████████| 4/4 [00:59<00:00, 14.88s/it, loss=4.23]\n",
      "Epoch 3: 100%|██████████████████████████████████████████████████████████████████████████████████████████████████████████████| 4/4 [01:00<00:00, 15.15s/it, loss=3.74]\n",
      "Epoch 4: 100%|██████████████████████████████████████████████████████████████████████████████████████████████████████████████| 4/4 [01:21<00:00, 20.36s/it, loss=2.31]\n",
      "Epoch 5: 100%|██████████████████████████████████████████████████████████████████████████████████████████████████████████████| 4/4 [00:58<00:00, 14.71s/it, loss=2.42]\n"
     ]
    }
   ],
   "source": [
    "from transformers import AdamW\n",
    "\n",
    "N_EPOCHS = 5\n",
    "optim = AdamW(model.parameters(), lr=5e-5)\n",
    "\n",
    "model.to(device)\n",
    "model.train()\n",
    "\n",
    "for epoch in range(N_EPOCHS):\n",
    "  loop = tqdm(train_loader, leave=True)\n",
    "  for batch in loop:\n",
    "    optim.zero_grad()\n",
    "    input_ids = batch['input_ids'].to(device)\n",
    "    attention_mask = batch['attention_mask'].to(device)\n",
    "    start_positions = batch['start_positions'].to(device)\n",
    "    end_positions = batch['end_positions'].to(device)\n",
    "    outputs = model(input_ids, attention_mask=attention_mask, start_positions=start_positions, end_positions=end_positions)\n",
    "    loss = outputs[0]\n",
    "    loss.backward()\n",
    "    optim.step()\n",
    "\n",
    "    loop.set_description(f'Epoch {epoch+1}')\n",
    "    loop.set_postfix(loss=loss.item())"
   ]
  },
  {
   "cell_type": "code",
   "execution_count": 99,
   "id": "2d97353f",
   "metadata": {},
   "outputs": [
    {
     "data": {
      "text/plain": [
       "('C:/Users/JaiGatiri/Documents/cdqa-pred/cdQA/squad-2.0-model\\\\tokenizer_config.json',\n",
       " 'C:/Users/JaiGatiri/Documents/cdqa-pred/cdQA/squad-2.0-model\\\\special_tokens_map.json',\n",
       " 'C:/Users/JaiGatiri/Documents/cdqa-pred/cdQA/squad-2.0-model\\\\vocab.txt',\n",
       " 'C:/Users/JaiGatiri/Documents/cdqa-pred/cdQA/squad-2.0-model\\\\added_tokens.json')"
      ]
     },
     "execution_count": 99,
     "metadata": {},
     "output_type": "execute_result"
    }
   ],
   "source": [
    "model_path = 'C:/Users/JaiGatiri/Documents/cdqa-pred/cdQA/squad-2.0-model'\n",
    "model.save_pretrained(model_path)\n",
    "tokenizer.save_pretrained(model_path)"
   ]
  },
  {
   "cell_type": "code",
   "execution_count": null,
   "id": "01c60091",
   "metadata": {},
   "outputs": [],
   "source": []
  },
  {
   "cell_type": "code",
   "execution_count": 100,
   "id": "dd166671",
   "metadata": {},
   "outputs": [],
   "source": [
    "def get_prediction(context, question):\n",
    "  inputs = tokenizer.encode_plus(question, context, return_tensors='pt').to(device)\n",
    "  outputs = model(**inputs)\n",
    "  \n",
    "  answer_start = torch.argmax(outputs[0])  \n",
    "  answer_end = torch.argmax(outputs[1]) + 1 \n",
    "  \n",
    "  answer = tokenizer.convert_tokens_to_string(tokenizer.convert_ids_to_tokens(inputs['input_ids'][0][answer_start:answer_end]))\n",
    "  \n",
    "  return answer\n",
    "\n",
    "def normalize_text(s):\n",
    "  \"\"\"Removing articles and punctuation, and standardizing whitespace are all typical text processing steps.\"\"\"\n",
    "  import string, re\n",
    "  def remove_articles(text):\n",
    "    regex = re.compile(r\"\\b(a|an|the)\\b\", re.UNICODE)\n",
    "    return re.sub(regex, \" \", text)\n",
    "  def white_space_fix(text):\n",
    "    return \" \".join(text.split())\n",
    "  def remove_punc(text):\n",
    "    exclude = set(string.punctuation)\n",
    "    return \"\".join(ch for ch in text if ch not in exclude)\n",
    "  def lower(text):\n",
    "    return text.lower()\n",
    "\n",
    "  return white_space_fix(remove_articles(remove_punc(lower(s))))\n",
    "\n",
    "def exact_match(prediction, truth):\n",
    "    return bool(normalize_text(prediction) == normalize_text(truth))\n",
    "\n",
    "def compute_f1(prediction, truth):\n",
    "  pred_tokens = normalize_text(prediction).split()\n",
    "  truth_tokens = normalize_text(truth).split()\n",
    "  \n",
    "  # if either the prediction or the truth is no-answer then f1 = 1 if they agree, 0 otherwise\n",
    "  if len(pred_tokens) == 0 or len(truth_tokens) == 0:\n",
    "    return int(pred_tokens == truth_tokens)\n",
    "  \n",
    "  common_tokens = set(pred_tokens) & set(truth_tokens)\n",
    "  \n",
    "  # if there are no common tokens then f1 = 0\n",
    "  if len(common_tokens) == 0:\n",
    "    return 0\n",
    "  \n",
    "  prec = len(common_tokens) / len(pred_tokens)\n",
    "  rec = len(common_tokens) / len(truth_tokens)\n",
    "  \n",
    "  return round(2 * (prec * rec) / (prec + rec), 2)\n",
    "  \n",
    "def question_answer(context, question,answer):\n",
    "  prediction = get_prediction(context,question)\n",
    "  em_score = exact_match(prediction, answer)\n",
    "  f1_score = compute_f1(prediction, answer)\n",
    "\n",
    "  print(f'Question: {question}')\n",
    "  print(f'Prediction: {prediction}')\n",
    "  print(f'True Answer: {answer}')\n",
    "  print(f'Exact match: {em_score}')\n",
    "  print(f'F1 score: {f1_score}\\n')"
   ]
  },
  {
   "cell_type": "code",
   "execution_count": null,
   "id": "31b859c0",
   "metadata": {},
   "outputs": [],
   "source": [
    "# context = \"\"\"Purpose and objective  of  the  Employee  Referral  Programme  process  document  is  to  provide guidelines necessary to assist all  employees at Techversant who refer talent profiles to the Organization. This program  is  designed  to  help  source  talent, build  diversity,  and  find  the  right  candidates  for  open positions  and  to  reward  our  employees  for  the  right  referrals. This  programme  will  encourage  all  at Techversant to act as talent ambassadors for the Organization.Techversant is an equal opportunity employer with a diverse workforce.All referred candidates  will be given  the  same  consideration  and  will  pass  through  the  established  process  and  procedures  of  the Organization.Please note that it is not the intent for these  guidelines to  describe every situation. Management judgment will / may be necessary in certain situations which are not addressed here,or where special considerations may be required.\"\"\"\n",
    "\n",
    "\n",
    "questions = [\"Does the guideline change ?\"]\n",
    "\n",
    "answers = [\"Purpose and objective  of  the  Employee  Referral  Programme  process  document  is  to  provide guidelines necessary to assist all  employees at Techversant who refer talent profiles to the Organization.\"]\n",
    "\n",
    "for question, answer in zip(questions, answers):\n",
    "  question_answer(context, question, answer)"
   ]
  },
  {
   "cell_type": "markdown",
   "id": "fc9c8d0d",
   "metadata": {},
   "source": [
    "# Fine tune BERT"
   ]
  },
  {
   "cell_type": "code",
   "execution_count": 119,
   "id": "452bbeb3",
   "metadata": {},
   "outputs": [],
   "source": [
    "import json\n",
    "from pathlib import Path\n",
    "import torch\n",
    "from torch.utils.data import DataLoader\n",
    "import time"
   ]
  },
  {
   "cell_type": "code",
   "execution_count": 122,
   "id": "746614dc",
   "metadata": {},
   "outputs": [],
   "source": [
    "# Give the path for train data\n",
    "path = Path(\"C:\\\\Users\\\\JaiGatiri\\\\Documents\\\\cdqa-pred\\\\annotated_data\\\\cdqa-v1_updated_referral_annot.json\")\n",
    "\n",
    "# Open .json file\n",
    "with open(path, 'rb') as f:\n",
    "    squad_dict = json.load(f)\n",
    "\n",
    "texts = []\n",
    "queries = []\n",
    "answers = []\n",
    "\n",
    "# Search for each passage, its question and its answer\n",
    "for group in squad_dict['data']:\n",
    "    for passage in group['paragraphs']:\n",
    "        context = passage['context']\n",
    "        for qa in passage['qas']:\n",
    "            question = qa['question']\n",
    "            for answer in qa['answers']:\n",
    "                # Store every passage, query and its answer to the lists\n",
    "                texts.append(context)\n",
    "                queries.append(question)\n",
    "                answers.append(answer)\n",
    "\n",
    "train_texts, train_queries, train_answers = texts, queries, answers"
   ]
  },
  {
   "cell_type": "code",
   "execution_count": 123,
   "id": "d9164996",
   "metadata": {},
   "outputs": [],
   "source": [
    "# Give the path for validation data\n",
    "path = Path(\"C:\\\\Users\\\\JaiGatiri\\\\Downloads\\\\test-er.json\")\n",
    "\n",
    "# Open .json file\n",
    "with open(path, 'rb') as f:\n",
    "    squad_dict = json.load(f)\n",
    "\n",
    "texts = []\n",
    "queries = []\n",
    "answers = []\n",
    "\n",
    "# Search for each passage, its question and its answer\n",
    "for group in squad_dict['data']:\n",
    "    for passage in group['paragraphs']:\n",
    "        context = passage['context']\n",
    "        for qa in passage['qas']:\n",
    "            question = qa['question']\n",
    "            for answer in qa['answers']:\n",
    "                # Store every passage, query and its answer to the lists\n",
    "                texts.append(context)\n",
    "                queries.append(question)\n",
    "                answers.append(answer)\n",
    "\n",
    "val_texts, val_queries, val_answers = texts, queries, answers"
   ]
  },
  {
   "cell_type": "code",
   "execution_count": 124,
   "id": "5f95e866",
   "metadata": {},
   "outputs": [
    {
     "name": "stdout",
     "output_type": "stream",
     "text": [
      "54\n",
      "54\n",
      "54\n"
     ]
    }
   ],
   "source": [
    "print(len(train_texts))\n",
    "print(len(train_queries))\n",
    "print(len(train_answers))"
   ]
  },
  {
   "cell_type": "code",
   "execution_count": 125,
   "id": "9229837f",
   "metadata": {},
   "outputs": [
    {
     "name": "stdout",
     "output_type": "stream",
     "text": [
      "Passage:  Purpose and objective  of  the  Employee  Referral  Programme  process  document  is  to  provide guidelines necessary to assist all  employees at Techversant who refer talent profiles to the Organization. This program  is  designed  to  help  source  talent, build  diversity,  and  find  the  right  candidates  for  open positions  and  to  reward  our  employees  for  the  right  referrals. This  programme  will  encourage  all  at Techversant to act as talent ambassadors for the Organization.Techversant is an equal opportunity employer with a diverse workforce.All referred candidates  will be given  the  same  consideration  and  will  pass  through  the  established  process  and  procedures  of  the Organization.Please note that it is not the intent for these  guidelines to  describe every situation. Management judgment will / may be necessary in certain situations which are not addressed here,or where special considerations may be required.\n",
      "Query:  What is the purpose of Employee Referral Programme ?\n",
      "Answer:  {'answer_start': 0, 'text': 'Purpose and objective  of  the  Employee  Referral  Programme  process  document  is  to  provide guidelines necessary to assist all  employees at Techversant who refer talent profiles to the Organization.'}\n"
     ]
    }
   ],
   "source": [
    "\n",
    "\n",
    "print(\"Passage: \",train_texts[0])  \n",
    "print(\"Query: \",train_queries[0])\n",
    "print(\"Answer: \",train_answers[0])"
   ]
  },
  {
   "cell_type": "code",
   "execution_count": 126,
   "id": "d4b6934a",
   "metadata": {},
   "outputs": [
    {
     "name": "stdout",
     "output_type": "stream",
     "text": [
      "18\n",
      "18\n",
      "18\n"
     ]
    }
   ],
   "source": [
    "print(len(val_texts))\n",
    "print(len(val_queries))\n",
    "print(len(val_answers))"
   ]
  },
  {
   "cell_type": "code",
   "execution_count": 135,
   "id": "6a642a70",
   "metadata": {},
   "outputs": [
    {
     "name": "stdout",
     "output_type": "stream",
     "text": [
      "Passage:  This employee referral program  is  developed to  help  source  talent, build  diversity,  and  find  the  right  candidates  for  open positions  and  to  reward  our  employees  for  the  right  referrals. This  programme  will  encourage  all  at Techversant to act as talent ambassadors for the Organization.Techversant is an equal opportunity employer with a diverse workforce.All referred candidates  will be given  the  same  consideration  and  will  pass  through  the  established  process  and  procedures  of  the Organization.Please note that it is not the intent for these  guidelines to  describe every situation. Management judgment will / may be necessary in certain situations which are not addressed here,or where special considerations may be required.\n",
      "Query:  Does this program help to source talent ?\n",
      "Answer:  {'answer_start': 0, 'text': 'This employee referral program  is  developed to  help  source  talent, build  diversity,  and  find  the  right  candidates  for  open positions  and  to  reward  our  employees  for  the  right  referrals. This  programme  will  encourage  all  at Techversant to act as talent ambassadors for the Organization.', 'answer_end': 312}\n"
     ]
    }
   ],
   "source": [
    "print(\"Passage: \",val_texts[0])  \n",
    "print(\"Query: \",val_queries[0])\n",
    "print(\"Answer: \",val_answers[0])"
   ]
  },
  {
   "cell_type": "code",
   "execution_count": 136,
   "id": "b5b22e54",
   "metadata": {},
   "outputs": [],
   "source": [
    "for answer, text in zip(train_answers, train_texts):\n",
    "    real_answer = answer['text']\n",
    "    start_idx = answer['answer_start']\n",
    "    # Get the real end index\n",
    "    end_idx = start_idx + len(real_answer)\n",
    "\n",
    "    # Deal with the problem of 1 or 2 more characters \n",
    "    if text[start_idx:end_idx] == real_answer:\n",
    "        answer['answer_end'] = end_idx\n",
    "    # When the real answer is more by one character\n",
    "    elif text[start_idx-1:end_idx-1] == real_answer:\n",
    "        answer['answer_start'] = start_idx - 1\n",
    "        answer['answer_end'] = end_idx - 1  \n",
    "    # When the real answer is more by two characters  \n",
    "    elif text[start_idx-2:end_idx-2] == real_answer:\n",
    "        answer['answer_start'] = start_idx - 2\n",
    "        answer['answer_end'] = end_idx - 2    "
   ]
  },
  {
   "cell_type": "code",
   "execution_count": 137,
   "id": "af1656e7",
   "metadata": {},
   "outputs": [],
   "source": [
    "for answer, text in zip(val_answers, val_texts):\n",
    "    real_answer = answer['text']\n",
    "    start_idx = answer['answer_start']\n",
    "    # Get the real end index\n",
    "    end_idx = start_idx + len(real_answer)\n",
    "\n",
    "    # Deal with the problem of 1 or 2 more characters \n",
    "    if text[start_idx:end_idx] == real_answer:\n",
    "        answer['answer_end'] = end_idx\n",
    "    # When the real answer is more by one character\n",
    "    elif text[start_idx-1:end_idx-1] == real_answer:\n",
    "        answer['answer_start'] = start_idx - 1\n",
    "        answer['answer_end'] = end_idx - 1  \n",
    "    # When the real answer is more by two characters  \n",
    "    elif text[start_idx-2:end_idx-2] == real_answer:\n",
    "        answer['answer_start'] = start_idx - 2\n",
    "        answer['answer_end'] = end_idx - 2   "
   ]
  },
  {
   "cell_type": "code",
   "execution_count": 138,
   "id": "fef75afc",
   "metadata": {},
   "outputs": [],
   "source": [
    "from transformers import AutoTokenizer,AdamW,BertForQuestionAnswering\n",
    "tokenizer = AutoTokenizer.from_pretrained(\"bert-base-uncased\")\n",
    "\n",
    "train_encodings = tokenizer(train_texts, train_queries, truncation=True, padding=True)\n",
    "val_encodings = tokenizer(val_texts, val_queries, truncation=True, padding=True)"
   ]
  },
  {
   "cell_type": "code",
   "execution_count": 139,
   "id": "4b79e903",
   "metadata": {},
   "outputs": [
    {
     "ename": "ValueError",
     "evalue": "char_to_token() is not available when using Python based tokenizers",
     "output_type": "error",
     "traceback": [
      "\u001b[1;31m---------------------------------------------------------------------------\u001b[0m",
      "\u001b[1;31mValueError\u001b[0m                                Traceback (most recent call last)",
      "\u001b[1;32mC:\\Users\\JAIGAT~1\\AppData\\Local\\Temp/ipykernel_5828/3895637999.py\u001b[0m in \u001b[0;36m<module>\u001b[1;34m\u001b[0m\n\u001b[0;32m     19\u001b[0m     \u001b[0mencodings\u001b[0m\u001b[1;33m.\u001b[0m\u001b[0mupdate\u001b[0m\u001b[1;33m(\u001b[0m\u001b[1;33m{\u001b[0m\u001b[1;34m'start_positions'\u001b[0m\u001b[1;33m:\u001b[0m \u001b[0mstart_positions\u001b[0m\u001b[1;33m,\u001b[0m \u001b[1;34m'end_positions'\u001b[0m\u001b[1;33m:\u001b[0m \u001b[0mend_positions\u001b[0m\u001b[1;33m}\u001b[0m\u001b[1;33m)\u001b[0m\u001b[1;33m\u001b[0m\u001b[1;33m\u001b[0m\u001b[0m\n\u001b[0;32m     20\u001b[0m \u001b[1;33m\u001b[0m\u001b[0m\n\u001b[1;32m---> 21\u001b[1;33m \u001b[0madd_token_positions\u001b[0m\u001b[1;33m(\u001b[0m\u001b[0mtrain_encodings\u001b[0m\u001b[1;33m,\u001b[0m \u001b[0mtrain_answers\u001b[0m\u001b[1;33m)\u001b[0m\u001b[1;33m\u001b[0m\u001b[1;33m\u001b[0m\u001b[0m\n\u001b[0m",
      "\u001b[1;32mC:\\Users\\JAIGAT~1\\AppData\\Local\\Temp/ipykernel_5828/3895637999.py\u001b[0m in \u001b[0;36madd_token_positions\u001b[1;34m(encodings, answers)\u001b[0m\n\u001b[0;32m      5\u001b[0m \u001b[1;33m\u001b[0m\u001b[0m\n\u001b[0;32m      6\u001b[0m     \u001b[1;32mfor\u001b[0m \u001b[0midx\u001b[0m \u001b[1;32min\u001b[0m \u001b[0mrange\u001b[0m\u001b[1;33m(\u001b[0m\u001b[0mlen\u001b[0m\u001b[1;33m(\u001b[0m\u001b[0manswers\u001b[0m\u001b[1;33m)\u001b[0m\u001b[1;33m)\u001b[0m\u001b[1;33m:\u001b[0m\u001b[1;33m\u001b[0m\u001b[1;33m\u001b[0m\u001b[0m\n\u001b[1;32m----> 7\u001b[1;33m         \u001b[0mstart_positions\u001b[0m\u001b[1;33m.\u001b[0m\u001b[0mappend\u001b[0m\u001b[1;33m(\u001b[0m\u001b[0mencodings\u001b[0m\u001b[1;33m.\u001b[0m\u001b[0mchar_to_token\u001b[0m\u001b[1;33m(\u001b[0m\u001b[0midx\u001b[0m\u001b[1;33m,\u001b[0m \u001b[0manswers\u001b[0m\u001b[1;33m[\u001b[0m\u001b[0midx\u001b[0m\u001b[1;33m]\u001b[0m\u001b[1;33m[\u001b[0m\u001b[1;34m'answer_start'\u001b[0m\u001b[1;33m]\u001b[0m\u001b[1;33m)\u001b[0m\u001b[1;33m)\u001b[0m\u001b[1;33m\u001b[0m\u001b[1;33m\u001b[0m\u001b[0m\n\u001b[0m\u001b[0;32m      8\u001b[0m         \u001b[1;32mif\u001b[0m \u001b[0manswers\u001b[0m\u001b[1;33m[\u001b[0m\u001b[0midx\u001b[0m\u001b[1;33m]\u001b[0m\u001b[1;33m[\u001b[0m\u001b[1;34m'answer_end'\u001b[0m\u001b[1;33m]\u001b[0m \u001b[1;32mis\u001b[0m \u001b[1;32mNone\u001b[0m\u001b[1;33m:\u001b[0m\u001b[1;33m\u001b[0m\u001b[1;33m\u001b[0m\u001b[0m\n\u001b[0;32m      9\u001b[0m           \u001b[0mend_positions\u001b[0m\u001b[1;33m.\u001b[0m\u001b[0mappend\u001b[0m\u001b[1;33m(\u001b[0m\u001b[0mencodings\u001b[0m\u001b[1;33m.\u001b[0m\u001b[0mchar_to_token\u001b[0m\u001b[1;33m(\u001b[0m\u001b[0midx\u001b[0m\u001b[1;33m,\u001b[0m \u001b[0manswers\u001b[0m\u001b[1;33m[\u001b[0m\u001b[0midx\u001b[0m\u001b[1;33m]\u001b[0m\u001b[1;33m[\u001b[0m\u001b[1;34m'answer_end'\u001b[0m\u001b[1;33m]\u001b[0m\u001b[1;33m)\u001b[0m\u001b[1;33m)\u001b[0m\u001b[1;33m\u001b[0m\u001b[1;33m\u001b[0m\u001b[0m\n",
      "\u001b[1;32me:\\entity_extraction_combined_model\\venv\\lib\\site-packages\\transformers\\tokenization_utils_base.py\u001b[0m in \u001b[0;36mchar_to_token\u001b[1;34m(self, batch_or_char_index, char_index)\u001b[0m\n\u001b[0;32m    475\u001b[0m \u001b[1;33m\u001b[0m\u001b[0m\n\u001b[0;32m    476\u001b[0m         \u001b[1;32mif\u001b[0m \u001b[1;32mnot\u001b[0m \u001b[0mself\u001b[0m\u001b[1;33m.\u001b[0m\u001b[0m_encodings\u001b[0m\u001b[1;33m:\u001b[0m\u001b[1;33m\u001b[0m\u001b[1;33m\u001b[0m\u001b[0m\n\u001b[1;32m--> 477\u001b[1;33m             \u001b[1;32mraise\u001b[0m \u001b[0mValueError\u001b[0m\u001b[1;33m(\u001b[0m\u001b[1;34m\"char_to_token() is not available when using Python based tokenizers\"\u001b[0m\u001b[1;33m)\u001b[0m\u001b[1;33m\u001b[0m\u001b[1;33m\u001b[0m\u001b[0m\n\u001b[0m\u001b[0;32m    478\u001b[0m         \u001b[1;32mif\u001b[0m \u001b[0mchar_index\u001b[0m \u001b[1;32mis\u001b[0m \u001b[1;32mnot\u001b[0m \u001b[1;32mNone\u001b[0m\u001b[1;33m:\u001b[0m\u001b[1;33m\u001b[0m\u001b[1;33m\u001b[0m\u001b[0m\n\u001b[0;32m    479\u001b[0m             \u001b[0mbatch_index\u001b[0m \u001b[1;33m=\u001b[0m \u001b[0mbatch_or_char_index\u001b[0m\u001b[1;33m\u001b[0m\u001b[1;33m\u001b[0m\u001b[0m\n",
      "\u001b[1;31mValueError\u001b[0m: char_to_token() is not available when using Python based tokenizers"
     ]
    }
   ],
   "source": [
    "## Find out start_position and end_position in encoded dataset\n",
    "def add_token_positions(encodings, answers):\n",
    "    start_positions = []\n",
    "    end_positions = []\n",
    "\n",
    "    for idx in range(len(answers)):\n",
    "        start_positions.append(encodings.char_to_token(idx, answers[idx]['answer_start']))\n",
    "        if answers[idx]['answer_end'] is None:\n",
    "          end_positions.append(encodings.char_to_token(idx, answers[idx]['answer_end']))\n",
    "        else:\n",
    "          end_positions.append(encodings.char_to_token(idx, answers[idx]['answer_end'] - 1))\n",
    "        \n",
    "        #if None, the answer passage has been truncated due to words > 512 so setting last position as 511\n",
    "        if start_positions[-1] is None:\n",
    "            start_positions[-1] = tokenizer.model_max_length-1\n",
    "        if end_positions[-1] is None:\n",
    "            end_positions[-1] = tokenizer.model_max_length-1\n",
    "    \n",
    "    encodings.update({'start_positions': start_positions, 'end_positions': end_positions})\n",
    "\n",
    "add_token_positions(train_encodings, train_answers)\n"
   ]
  },
  {
   "cell_type": "code",
   "execution_count": 2,
   "id": "d07de601",
   "metadata": {},
   "outputs": [
    {
     "name": "stdout",
     "output_type": "stream",
     "text": [
      "Collecting seaborn\n",
      "  Downloading seaborn-0.12.2-py3-none-any.whl (293 kB)\n",
      "Requirement already satisfied: typing_extensions in e:\\entity_extraction_combined_model\\venv\\lib\\site-packages (from seaborn) (3.10.0.2)\n",
      "Requirement already satisfied: numpy!=1.24.0,>=1.17 in e:\\entity_extraction_combined_model\\venv\\lib\\site-packages (from seaborn) (1.21.5)\n",
      "Requirement already satisfied: pandas>=0.25 in e:\\entity_extraction_combined_model\\venv\\lib\\site-packages (from seaborn) (1.3.5)\n",
      "Requirement already satisfied: matplotlib!=3.6.1,>=3.1 in e:\\entity_extraction_combined_model\\venv\\lib\\site-packages (from seaborn) (3.5.3)\n",
      "Requirement already satisfied: cycler>=0.10 in e:\\entity_extraction_combined_model\\venv\\lib\\site-packages (from matplotlib!=3.6.1,>=3.1->seaborn) (0.11.0)\n",
      "Requirement already satisfied: packaging>=20.0 in e:\\entity_extraction_combined_model\\venv\\lib\\site-packages (from matplotlib!=3.6.1,>=3.1->seaborn) (21.3)\n",
      "Requirement already satisfied: fonttools>=4.22.0 in e:\\entity_extraction_combined_model\\venv\\lib\\site-packages (from matplotlib!=3.6.1,>=3.1->seaborn) (4.38.0)\n",
      "Requirement already satisfied: kiwisolver>=1.0.1 in e:\\entity_extraction_combined_model\\venv\\lib\\site-packages (from matplotlib!=3.6.1,>=3.1->seaborn) (1.4.4)\n",
      "Requirement already satisfied: python-dateutil>=2.7 in e:\\entity_extraction_combined_model\\venv\\lib\\site-packages (from matplotlib!=3.6.1,>=3.1->seaborn) (2.8.2)\n",
      "Requirement already satisfied: pillow>=6.2.0 in e:\\entity_extraction_combined_model\\venv\\lib\\site-packages (from matplotlib!=3.6.1,>=3.1->seaborn) (9.0.0)\n",
      "Requirement already satisfied: pyparsing>=2.2.1 in e:\\entity_extraction_combined_model\\venv\\lib\\site-packages (from matplotlib!=3.6.1,>=3.1->seaborn) (3.0.6)\n",
      "Requirement already satisfied: pytz>=2017.3 in e:\\entity_extraction_combined_model\\venv\\lib\\site-packages (from pandas>=0.25->seaborn) (2021.3)\n",
      "Requirement already satisfied: six>=1.5 in e:\\entity_extraction_combined_model\\venv\\lib\\site-packages (from python-dateutil>=2.7->matplotlib!=3.6.1,>=3.1->seaborn) (1.16.0)\n",
      "Installing collected packages: seaborn\n",
      "Successfully installed seaborn-0.12.2\n"
     ]
    },
    {
     "name": "stderr",
     "output_type": "stream",
     "text": [
      "WARNING: You are using pip version 21.3.1; however, version 23.0.1 is available.\n",
      "You should consider upgrading via the 'e:\\entity_extraction_combined_model\\venv\\scripts\\python.exe -m pip install --upgrade pip' command.\n"
     ]
    }
   ],
   "source": [
    "!pip install seaborn"
   ]
  },
  {
   "cell_type": "code",
   "execution_count": 3,
   "id": "84e11310",
   "metadata": {},
   "outputs": [],
   "source": [
    "import pandas as pd\n",
    "import numpy as np\n",
    "import matplotlib.pyplot as plt\n",
    "import seaborn as sns"
   ]
  },
  {
   "cell_type": "code",
   "execution_count": 4,
   "id": "9a5c23f5",
   "metadata": {},
   "outputs": [],
   "source": [
    "import torch\n",
    "from transformers import BertForQuestionAnswering\n",
    "from transformers import BertTokenizer"
   ]
  },
  {
   "cell_type": "code",
   "execution_count": 6,
   "id": "a857b492",
   "metadata": {},
   "outputs": [
    {
     "data": {
      "text/html": [
       "<div>\n",
       "<style scoped>\n",
       "    .dataframe tbody tr th:only-of-type {\n",
       "        vertical-align: middle;\n",
       "    }\n",
       "\n",
       "    .dataframe tbody tr th {\n",
       "        vertical-align: top;\n",
       "    }\n",
       "\n",
       "    .dataframe thead th {\n",
       "        text-align: right;\n",
       "    }\n",
       "</style>\n",
       "<table border=\"1\" class=\"dataframe\">\n",
       "  <thead>\n",
       "    <tr style=\"text-align: right;\">\n",
       "      <th></th>\n",
       "      <th>version</th>\n",
       "      <th>data</th>\n",
       "    </tr>\n",
       "  </thead>\n",
       "  <tbody>\n",
       "    <tr>\n",
       "      <th>0</th>\n",
       "      <td>v1.1</td>\n",
       "      <td>{'title': 'Employee Referral Programme', 'para...</td>\n",
       "    </tr>\n",
       "  </tbody>\n",
       "</table>\n",
       "</div>"
      ],
      "text/plain": [
       "  version                                               data\n",
       "0    v1.1  {'title': 'Employee Referral Programme', 'para..."
      ]
     },
     "execution_count": 6,
     "metadata": {},
     "output_type": "execute_result"
    }
   ],
   "source": [
    "coqa = pd.read_json(\"C:\\\\Users\\\\JaiGatiri\\\\Documents\\\\cdqa-pred\\\\annotated_data\\\\cdqa-v1_updated_referral_annot.json\")\n",
    "coqa.head()"
   ]
  },
  {
   "cell_type": "code",
   "execution_count": 7,
   "id": "b87168dc",
   "metadata": {},
   "outputs": [],
   "source": [
    "del coqa[\"version\"]"
   ]
  },
  {
   "cell_type": "code",
   "execution_count": 9,
   "id": "4bf52abd",
   "metadata": {},
   "outputs": [
    {
     "ename": "KeyError",
     "evalue": "'questions'",
     "output_type": "error",
     "traceback": [
      "\u001b[1;31m---------------------------------------------------------------------------\u001b[0m",
      "\u001b[1;31mKeyError\u001b[0m                                  Traceback (most recent call last)",
      "\u001b[1;32mC:\\Users\\JAIGAT~1\\AppData\\Local\\Temp/ipykernel_1124/769548763.py\u001b[0m in \u001b[0;36m<module>\u001b[1;34m\u001b[0m\n\u001b[0;32m      4\u001b[0m \u001b[0mcomp_list\u001b[0m \u001b[1;33m=\u001b[0m \u001b[1;33m[\u001b[0m\u001b[1;33m]\u001b[0m\u001b[1;33m\u001b[0m\u001b[1;33m\u001b[0m\u001b[0m\n\u001b[0;32m      5\u001b[0m \u001b[1;32mfor\u001b[0m \u001b[0mindex\u001b[0m\u001b[1;33m,\u001b[0m \u001b[0mrow\u001b[0m \u001b[1;32min\u001b[0m \u001b[0mcoqa\u001b[0m\u001b[1;33m.\u001b[0m\u001b[0miterrows\u001b[0m\u001b[1;33m(\u001b[0m\u001b[1;33m)\u001b[0m\u001b[1;33m:\u001b[0m\u001b[1;33m\u001b[0m\u001b[1;33m\u001b[0m\u001b[0m\n\u001b[1;32m----> 6\u001b[1;33m     \u001b[1;32mfor\u001b[0m \u001b[0mi\u001b[0m \u001b[1;32min\u001b[0m \u001b[0mrange\u001b[0m\u001b[1;33m(\u001b[0m\u001b[0mlen\u001b[0m\u001b[1;33m(\u001b[0m\u001b[0mrow\u001b[0m\u001b[1;33m[\u001b[0m\u001b[1;34m\"data\"\u001b[0m\u001b[1;33m]\u001b[0m\u001b[1;33m[\u001b[0m\u001b[1;34m\"questions\"\u001b[0m\u001b[1;33m]\u001b[0m\u001b[1;33m)\u001b[0m\u001b[1;33m)\u001b[0m\u001b[1;33m:\u001b[0m\u001b[1;33m\u001b[0m\u001b[1;33m\u001b[0m\u001b[0m\n\u001b[0m\u001b[0;32m      7\u001b[0m         \u001b[0mtemp_list\u001b[0m \u001b[1;33m=\u001b[0m \u001b[1;33m[\u001b[0m\u001b[1;33m]\u001b[0m\u001b[1;33m\u001b[0m\u001b[1;33m\u001b[0m\u001b[0m\n\u001b[0;32m      8\u001b[0m \u001b[1;31m#         temp_list.append(j)\u001b[0m\u001b[1;33m\u001b[0m\u001b[1;33m\u001b[0m\u001b[1;33m\u001b[0m\u001b[0m\n",
      "\u001b[1;31mKeyError\u001b[0m: 'questions'"
     ]
    }
   ],
   "source": [
    "cols = [\"text\",\"question\",\"answer\"]\n",
    "\n",
    "# j = 1\n",
    "comp_list = []\n",
    "for index, row in coqa.iterrows():\n",
    "    for i in range(len(row[\"data\"][\"questions\"])):\n",
    "        temp_list = []\n",
    "#         temp_list.append(j)\n",
    "        temp_list.append(row[\"data\"][\"paragraphs\"])\n",
    "        temp_list.append(row[\"data\"][\"paragraphs\"][\"qas\"][i][\"question\"])\n",
    "        temp_list.append(row[\"data\"][\"qas\"][\"answers\"][i][\"text\"])\n",
    "        comp_list.append(temp_list)\n",
    "#     j += 1\n",
    "new_df = pd.DataFrame(comp_list, columns=cols)"
   ]
  },
  {
   "cell_type": "code",
   "execution_count": 1,
   "id": "bdc096fc",
   "metadata": {},
   "outputs": [],
   "source": [
    "import json\n",
    "import os\n",
    "import re\n",
    "import string\n",
    "import numpy as np\n",
    "import tensorflow as tf\n",
    "import tensorflow_hub as hub\n",
    "from tensorflow import keras\n",
    "from tensorflow.keras import layers\n",
    "from tokenizers import BertWordPieceTokenizer\n",
    "os.environ['CUDA_VISIBLE_DEVICES'] = '0'"
   ]
  },
  {
   "cell_type": "code",
   "execution_count": 2,
   "id": "dd1034b6",
   "metadata": {},
   "outputs": [],
   "source": [
    "# ============================================= PREPARING DATASET ======================================================\n",
    "class Sample:\n",
    "    def __init__(self, question, context, start_char_idx=None, answer_text=None, all_answers=None):\n",
    "        self.question = question\n",
    "        self.context = context\n",
    "        self.start_char_idx = start_char_idx\n",
    "        self.answer_text = answer_text\n",
    "        self.all_answers = all_answers\n",
    "        self.skip = False\n",
    "        self.start_token_idx = -1\n",
    "        self.end_token_idx = -1\n",
    "\n",
    "    def preprocess(self):\n",
    "        context = \" \".join(str(self.context).split())\n",
    "        question = \" \".join(str(self.question).split())\n",
    "        tokenized_context = tokenizer.encode(context)\n",
    "        tokenized_question = tokenizer.encode(question)\n",
    "        if self.answer_text is not None:\n",
    "            answer = \" \".join(str(self.answer_text).split())\n",
    "            end_char_idx = self.start_char_idx + len(answer)\n",
    "            if end_char_idx >= len(context):\n",
    "                self.skip = True\n",
    "                return\n",
    "            is_char_in_ans = [0] * len(context)\n",
    "            for idx in range(self.start_char_idx, end_char_idx):\n",
    "                is_char_in_ans[idx] = 1\n",
    "            ans_token_idx = []\n",
    "            for idx, (start, end) in enumerate(tokenized_context.offsets):\n",
    "                if sum(is_char_in_ans[start:end]) > 0:\n",
    "                    ans_token_idx.append(idx)\n",
    "            if len(ans_token_idx) == 0:\n",
    "                self.skip = True\n",
    "                return\n",
    "            self.start_token_idx = ans_token_idx[0]\n",
    "            self.end_token_idx = ans_token_idx[-1]\n",
    "        input_ids = tokenized_context.ids + tokenized_question.ids[1:]\n",
    "        token_type_ids = [0] * len(tokenized_context.ids) + [1] * len(tokenized_question.ids[1:])\n",
    "        attention_mask = [1] * len(input_ids)\n",
    "        padding_length = max_seq_length - len(input_ids)\n",
    "        if padding_length > 0:\n",
    "            input_ids = input_ids + ([0] * padding_length)\n",
    "            attention_mask = attention_mask + ([0] * padding_length)\n",
    "            token_type_ids = token_type_ids + ([0] * padding_length)\n",
    "        elif padding_length < 0:\n",
    "            self.skip = True\n",
    "            return\n",
    "        self.input_word_ids = input_ids\n",
    "        self.input_type_ids = token_type_ids\n",
    "        self.input_mask = attention_mask\n",
    "        self.context_token_to_char = tokenized_context.offsets"
   ]
  },
  {
   "cell_type": "code",
   "execution_count": 3,
   "id": "c0b82e35",
   "metadata": {},
   "outputs": [],
   "source": [
    "def create_squad_examples(raw_data):\n",
    "    squad_examples = []\n",
    "    for item in raw_data[\"data\"]:\n",
    "        for para in item[\"paragraphs\"]:\n",
    "            context = para[\"context\"]\n",
    "            for qa in para[\"qas\"]:\n",
    "                question = qa[\"question\"]\n",
    "                if \"answers\" in qa:\n",
    "                    answer_text = qa[\"answers\"][0][\"text\"]\n",
    "                    all_answers = [_[\"text\"] for _ in qa[\"answers\"]]\n",
    "                    start_char_idx = qa[\"answers\"][0][\"answer_start\"]\n",
    "                    squad_eg = Sample(question, context, start_char_idx, answer_text, all_answers)\n",
    "                else:\n",
    "                    squad_eg = Sample(question, context)\n",
    "                squad_eg.preprocess()\n",
    "                squad_examples.append(squad_eg)\n",
    "    return squad_examples"
   ]
  },
  {
   "cell_type": "code",
   "execution_count": 4,
   "id": "edd2d2a8",
   "metadata": {},
   "outputs": [],
   "source": [
    "def create_inputs_targets(squad_examples):\n",
    "    dataset_dict = {\n",
    "        \"input_word_ids\": [],\n",
    "        \"input_type_ids\": [],\n",
    "        \"input_mask\": [],\n",
    "        \"start_token_idx\": [],\n",
    "        \"end_token_idx\": [],\n",
    "    }\n",
    "    for item in squad_examples:\n",
    "        if item.skip == False:\n",
    "            for key in dataset_dict:\n",
    "                dataset_dict[key].append(getattr(item, key))\n",
    "    for key in dataset_dict:\n",
    "        dataset_dict[key] = np.array(dataset_dict[key])\n",
    "    x = [dataset_dict[\"input_word_ids\"],\n",
    "         dataset_dict[\"input_mask\"],\n",
    "         dataset_dict[\"input_type_ids\"]]\n",
    "    y = [dataset_dict[\"start_token_idx\"], dataset_dict[\"end_token_idx\"]]\n",
    "    return x,y"
   ]
  },
  {
   "cell_type": "code",
   "execution_count": 5,
   "id": "eb148696",
   "metadata": {},
   "outputs": [],
   "source": [
    "# =================================================== TRAINING =========================================================\n",
    "\n",
    "\n",
    "class ValidationCallback(keras.callbacks.Callback):\n",
    "\n",
    "    def normalize_text(self, text):\n",
    "        text = text.lower()\n",
    "        text = \"\".join(ch for ch in text if ch not in set(string.punctuation))\n",
    "        regex = re.compile(r\"\\b(a|an|the)\\b\", re.UNICODE)\n",
    "        text = re.sub(regex, \" \", text)\n",
    "        text = \" \".join(text.split())\n",
    "        return text\n",
    "\n",
    "    def __init__(self, x_eval, y_eval):\n",
    "        self.x_eval = x_eval\n",
    "        self.y_eval = y_eval\n",
    "\n",
    "    def on_epoch_end(self, epoch, logs=None):\n",
    "        pred_start, pred_end = self.model.predict(self.x_eval)\n",
    "        count = 0\n",
    "        eval_examples_no_skip = [_ for _ in eval_squad_examples if _.skip == False]\n",
    "        for idx, (start, end) in enumerate(zip(pred_start, pred_end)):\n",
    "            squad_eg = eval_examples_no_skip[idx]\n",
    "            offsets = squad_eg.context_token_to_char\n",
    "            start = np.argmax(start)\n",
    "            end = np.argmax(end)\n",
    "            if start >= len(offsets):\n",
    "                continue\n",
    "            pred_char_start = offsets[start][0]\n",
    "            if end < len(offsets):\n",
    "                pred_char_end = offsets[end][1]\n",
    "                pred_ans = squad_eg.context[pred_char_start:pred_char_end]\n",
    "            else:\n",
    "                pred_ans = squad_eg.context[pred_char_start:]\n",
    "            normalized_pred_ans = self.normalize_text(pred_ans)\n",
    "            normalized_true_ans = [self.normalize_text(_) for _ in squad_eg.all_answers]\n",
    "            if normalized_pred_ans in normalized_true_ans:\n",
    "                count += 1\n",
    "        acc = count / len(self.y_eval[0])\n",
    "        print(f\"\\nepoch={epoch + 1}, exact match score={acc:.2f}\")"
   ]
  },
  {
   "cell_type": "code",
   "execution_count": 6,
   "id": "bf892b01",
   "metadata": {
    "scrolled": false
   },
   "outputs": [
    {
     "name": "stdout",
     "output_type": "stream",
     "text": [
      "{'version': 'v1.1', 'data': [{'title': 'Employee Referral Programme', 'paragraphs': [{'context': 'Purpose and objective  of  the  Employee  Referral  Programme  process  document  is  to  provide guidelines necessary to assist all  employees at Techversant who refer talent profiles to the Organization. This program  is  designed  to  help  source  talent, build  diversity,  and  find  the  right  candidates  for  open positions  and  to  reward  our  employees  for  the  right  referrals. This  programme  will  encourage  all  at Techversant to act as talent ambassadors for the Organization.Techversant is an equal opportunity employer with a diverse workforce.All referred candidates  will be given  the  same  consideration  and  will  pass  through  the  established  process  and  procedures  of  the Organization.Please note that it is not the intent for these  guidelines to  describe every situation. Management judgment will / may be necessary in certain situations which are not addressed here,or where special considerations may be required.', 'qas': [{'question': 'What is the purpose of Employee Referral Programme ?', 'id': '6e92ad9e-f1ea-4fbd-a2b9-aff731717e09', 'answers': [{'answer_start': 0, 'text': 'Purpose and objective  of  the  Employee  Referral  Programme  process  document  is  to  provide guidelines necessary to assist all  employees at Techversant who refer talent profiles to the Organization.'}]}, {'question': 'How is the Employee Referral Programme designed ?', 'id': '7f39c022-a582-4484-9037-b13c6f0f866a', 'answers': [{'answer_start': 205, 'text': ' This program  is  designed  to  help  source  talent, build  diversity,  and  find  the  right  candidates  for  open positions  and  to  reward  our  employees  for  the  right  referrals. This  programme  will  encourage  all  at Techversant to act as talent ambassadors for the Organization.'}]}, {'question': 'Does the company give equal opportunity to referred candidate ? ', 'id': 'db196f9e-6fd5-4cfc-b7a6-c77496d38d21', 'answers': [{'answer_start': 500, 'text': 'Techversant is an equal opportunity employer with a diverse workforce.All referred candidates  will be given  the  same  consideration  and  will  pass  through  the  established  process  and  procedures  of  the Organization.'}]}, {'question': 'Does the guideline change ?', 'id': 'ac951a59-ceb2-4888-a120-f2968e64350b', 'answers': [{'answer_start': 727, 'text': 'Please note that it is not the intent for these  guidelines to  describe every situation. Management judgment will / may be necessary in certain situations which are not addressed here,or where special considerations may be required.'}]}, {'question': 'what is the objective of employee referral programme?', 'id': '1eee1ec0-a88f-45bf-82b3-1e5efc414533', 'answers': [{'answer_start': 32, 'text': 'Employee  Referral  Programme  process  document  is  to  provide guidelines necessary to assist all  employees at Techversant who refer talent profiles to the Organization'}]}, {'question': 'Does Techversant an equal opportunity employer?', 'id': 'bc7b8b85-6c98-426d-bc20-87d591082ed2', 'answers': [{'answer_start': 500, 'text': 'Techversant is an equal opportunity employer with a diverse workforce'}]}, {'question': 'How the employee referral programme helps the company?', 'id': '642031ce-047d-4569-a6a9-efa68f668813', 'answers': [{'answer_start': 206, 'text': 'This program  is  designed  to  help  source  talent, build  diversity,  and  find  the  right  candidates  for  open positions  and  to  reward  our  employees  for  the  right  referrals'}]}, {'question': 'How the employee referral programme encourages the company employees for giving referrals?', 'id': 'fb03bd28-7d75-4d6d-b1ec-65eba63d7b8d', 'answers': [{'answer_start': 206, 'text': 'This program  is  designed  to  help  source  talent, build  diversity,  and  find  the  right  candidates  for  open positions  and  to  reward  our  employees  for  the  right  referrals'}]}, {'question': 'Does the employee gets reward for the referral?', 'id': 'fe0d08d9-f0ce-45fc-a61a-c4c45f240d2b', 'answers': [{'answer_start': 206, 'text': 'This program  is  designed  to  help  source  talent, build  diversity,  and  find  the  right  candidates  for  open positions  and  to  reward  our  employees  for  the  right  referrals'}]}]}, {'context': 'Scope defines the  process will be applicable for all referrals hired through the employee referral program, effective 1st October 2021.It covers all open positions in the Organization that would fall under Employee Referral Programme as announced by the Talent Acquisition Team and as approved by the Management.Special referral schemes catering to critical needs as announced by the Talent Acquisition Team and as approved by the management.', 'qas': [{'question': 'Does the referral program applicable for all open position in the organization ?', 'id': '49bbb7fd-bd23-4390-a2fc-a118be8bbb59', 'answers': [{'answer_start': 136, 'text': 'It covers all open positions in the Organization that would fall under Employee Referral Programme as announced by the Talent Acquisition Team and as approved by the Management.'}]}, {'question': 'Do yo have special referral schemes ?', 'id': '987f1b62-fcac-40eb-9dda-c000291f2721', 'answers': [{'answer_start': 313, 'text': 'Special referral schemes catering to critical needs as announced by the Talent Acquisition Team and as approved by the management.'}]}, {'question': 'What is the scope of referral program ?', 'id': 'ff0c2186-2f84-4701-b1b2-2e59ffe4b2aa', 'answers': [{'answer_start': 0, 'text': 'Scope defines the  process will be applicable for all referrals hired through the employee referral program, effective 1st October 2021.'}]}, {'question': 'when does the employee referral program came into effect?', 'id': 'e82cc623-ed10-48ec-a062-b8be6fd76cc3', 'answers': [{'answer_start': 109, 'text': 'effective 1st October 2021'}]}, {'question': 'who is managing the employee referral programme?', 'id': '8d3f35b4-3162-4126-a417-7e7803b5d422', 'answers': [{'answer_start': 207, 'text': 'Employee Referral Programme as announced by the Talent Acquisition Team and as approved by the Management'}]}]}, {'context': 'Guidelines for Referrals and Eligibility for referring candidates are All employees of Techversant are eligible to refer candidates under the employee referral program.Referrer should not be involved in the hiring process of the referred candidate (viz. prescreening, interview and offer release).All those directly involved in the hiring process for the referral positions will not be part of this programme', 'qas': [{'question': 'What are the Eligibility for referring candidates ?', 'id': '627f487e-fb8b-4cdb-a3e9-505b6445e22e', 'answers': [{'answer_start': 0, 'text': 'Guidelines for Referrals and Eligibility for referring candidates are All employees of Techversant are eligible to refer candidates under the employee referral program.'}]}, {'question': 'Can the Referrer be involved in hiring process ?', 'id': 'b683d77f-235e-4ee9-828c-79e62565cdc2', 'answers': [{'answer_start': 168, 'text': 'Referrer should not be involved in the hiring process of the referred candidate (viz. prescreening, interview and offer release).All those directly involved in the hiring process for the referral positions will not be part of this programme'}]}, {'question': 'Is the referrer allowed for prescreening or interview during hiring process?', 'id': '4aa4d6f8-fae3-4f13-b5d7-41edd19a0175', 'answers': [{'answer_start': 168, 'text': 'Referrer should not be involved in the hiring process of the referred candidate (viz. prescreening, interview and offer release)'}]}, {'question': 'Do all the employees eligible for referring candidates?', 'id': '35202c6a-2a69-4a28-b90b-ddf32b27c81f', 'answers': [{'answer_start': 70, 'text': 'All employees of Techversant are eligible to refer candidates under the employee referral program'}]}, {'question': 'Do the people involved in hiring for referral be a part of employee referral programme?', 'id': '78b23230-0fb0-4a18-be2d-453076a1637d', 'answers': [{'answer_start': 297, 'text': 'All those directly involved in the hiring process for the referral positions will not be part of this programme'}]}]}, {'context': 'The employee referral process will be as below,the Talent Acquisition Team will declare the open positions which would come under the employee referral program. It will have the referral category mentioning the bonus amount for the referral positions and the date until which the program is open  for the respective referral bonus along with the other relevant position details. Only positions announced under the employee referral bonus programme will be considered for processing. The Referral Bonus Amount will be notified for the open positions, based on the criticality  and priority of the position, availability in the market, the role and designation of the position and the quality of the candidate hired. The  Referral  Bonus  amount  could  range  from  INR  5000  to  INR  50,000  or  an amount  as  decided  by  the  Talent  Acquisition  Team  and  approved  by  the Management based on the open position.All referrals are to be sent to the HR Email id or uploaded to a portal, as notified, along with other relevant details.Response emails on the progress of referral would be send to the referrers, as and when an activity happens against the referral.Rejected profiles may get considered only after six (6) months, subject to final approval and  discretion of the Management.', 'qas': [{'question': 'What are the process in employee referral ?', 'id': 'a23f24c9-4ede-48a0-950a-8c06b8f438aa', 'answers': [{'answer_start': 0, 'text': 'The employee referral process will be as below,the Talent Acquisition Team will declare the open positions which would come under the employee referral program. It will have the referral category mentioning the bonus amount for the referral positions and the date until which the program is open  for the respective referral bonus along with the other relevant position details. '}]}, {'question': 'Will the referral bonus be applicable for all the open position ?', 'id': '4ed3b884-84ac-4c40-8079-fe2f2902e9bf', 'answers': [{'answer_start': 379, 'text': 'Only positions announced under the employee referral bonus programme will be considered for processing. The Referral Bonus Amount will be notified for the open positions, based on the criticality  and priority of the position, availability in the market, the role and designation of the position and the quality of the candidate hired.'}]}, {'question': 'What is the referral bonus amount range ?', 'id': '354e7028-abcb-49f3-b1fc-1c2a2d516734', 'answers': [{'answer_start': 715, 'text': 'The  Referral  Bonus  amount  could  range  from  INR  5000  to  INR  50,000  or  an amount  as  decided  by  the  Talent  Acquisition  Team  and  approved  by  the Management based on the open position.'}]}, {'question': 'To whom should the Referral be sent?', 'id': 'd0d565c9-6cc1-49c5-853b-305494371e4b', 'answers': [{'answer_start': 918, 'text': 'All referrals are to be sent to the HR Email id or uploaded to a portal, as notified, along with other relevant details.Response emails on the progress of referral would be send to the referrers, as and when an activity happens against the referral.'}]}, {'question': 'What is timeline for rejected profile to reapply ?', 'id': '025c2a50-d2ee-4a30-965f-f6316786d525', 'answers': [{'answer_start': 1167, 'text': 'Rejected profiles may get considered only after six (6) months, subject to final approval and  discretion of the Management.'}]}, {'question': 'who would be announcing the open positions for referral?', 'id': '38df62c7-0a8b-43d2-ab10-5575a1194fa6', 'answers': [{'answer_start': 51, 'text': 'Talent Acquisition Team will declare the open positions which would come under the employee referral program'}]}, {'question': 'Is there any specific referral category for the referral positions?', 'id': '157b480f-3da5-4da6-ab86-92a346a4430c', 'answers': [{'answer_start': 161, 'text': 'It will have the referral category mentioning the bonus amount for the referral positions and the date until which the program is open  for the respective referral bonus along with the other relevant position details'}]}, {'question': 'Do all the referral positions have the bonus?', 'id': '2dc59701-d068-4c20-8206-5b2de1450964', 'answers': [{'answer_start': 379, 'text': 'Only positions announced under the employee referral bonus programme will be considered for processing'}]}, {'question': 'who decides the bonus amount for referral?', 'id': '5e1c9903-c656-4b19-a32d-0188fafeb422', 'answers': [{'answer_start': 812, 'text': 'decided  by  the  Talent  Acquisition  Team  and  approved  by  the Management based on the open position'}]}, {'question': 'Can a rejected referral considered again for referral?', 'id': '5d5c4bb5-66cb-4ef2-a191-7cfee79d4b25', 'answers': [{'answer_start': 1167, 'text': 'Rejected profiles may get considered only after six (6) months, subject to final approval and  discretion of the Management'}]}, {'question': 'How to sent the referrals?', 'id': '3251d270-8570-4753-bc13-d1979bb1bd0c', 'answers': [{'answer_start': 918, 'text': 'All referrals are to be sent to the HR Email id or uploaded to a portal, as notified, along with other relevant details'}]}]}, {'context': 'Eligibility for Referral Bonus are as follows, all employees are eligible to refer candidates under the employee referral programme. All employees who are active at the time of the employee referral bonus payment date - both referrer and the referee will need to on rolls with Techversant and not serving the notice period.All who are directly involved in external recruitment are not eligible The  referral  bonus  programme  is applicable  only  for  permanent  employee  hires  and  fixed  term consultants. If the referral candidate joins as contractors, the referrer will be eligible for referral bonus only upon their successful conversion to regular rolls of the company.To  be  eligible  for  referral  bonus,  the  profile  has  to  be  sent  to  the  Talent  Acquisition  team  by  the employee at the mentioned email id or portal as applicable.  Any application processed without the involvement of the Talent Acquisition team will not be eligible for a referral bonus.In the event a referral is received through multiple referrers, the first referrer becomes eligible for thereferral  bonus.  The  Talent  Acquisition  Team  shall  intimate  the  other  referrers  before  initiating  the recruitment process.Referral bonus will not be applicable for fresher recruitment.Referral  bonus  will  not be  applicable  for  positions  under  the  Enabling  /  Support  Functions,unless there is an exception as approved by the Management.', 'qas': [{'question': 'Who are not eligible for Referral Bonus ?', 'id': '1e346d4f-afb3-4368-ba3b-ce2a2b59cb60', 'answers': [{'answer_start': 323, 'text': 'All who are directly involved in external recruitment are not eligible'}]}, {'question': 'What is Referral Bonus ?', 'id': '82d37149-13a9-4af9-958c-0abfa76d549d', 'answers': [{'answer_start': 0, 'text': 'Eligibility for Referral Bonus are as follows, all employees are eligible to refer candidates under the employee referral programme. All employees who are active at the time of the employee referral bonus payment date - both referrer and the referee will need to on rolls with Techversant and not serving the notice period.'}]}, {'question': 'Who are eligible for Referral Bonus ?', 'id': '574a8149-777a-47a0-9e08-828ec0597a00', 'answers': [{'answer_start': 394, 'text': 'The  referral  bonus  programme  is applicable  only  for  permanent  employee  hires  and  fixed  term consultants. If the referral candidate joins as contractors, the referrer will be eligible for referral bonus only upon their successful conversion to regular rolls of the company.'}]}, {'question': 'What if a referral is received through multiple referrers ?', 'id': 'aaed7157-6d0a-43a3-811a-97a26c826caf', 'answers': [{'answer_start': 980, 'text': 'In the event a referral is received through multiple referrers, the first referrer becomes eligible for thereferral  bonus.  The  Talent  Acquisition  Team  shall  intimate  the  other  referrers  before  initiating  the recruitment process.'}]}, {'question': 'What is the process to get eligible for Referral Bonus ?', 'id': '9f1780d7-bcb5-496d-a457-bfd51090e26d', 'answers': [{'answer_start': 678, 'text': 'To  be  eligible  for  referral  bonus,  the  profile  has  to  be  sent  to  the  Talent  Acquisition  team  by  the employee at the mentioned email id or portal as applicable.  Any application processed without the involvement of the Talent Acquisition team will not be eligible for a referral bonus.'}]}, {'question': 'What are the positions not applicable for Referral Bonus ?', 'id': 'dc4e8b12-c2b7-4ddb-8554-0e991bdba0dd', 'answers': [{'answer_start': 1105, 'text': 'The  Talent  Acquisition  Team  shall  intimate  the  other  referrers  before  initiating  the recruitment process.Referral bonus will not be applicable for fresher recruitment.Referral  bonus  will  not be  applicable  for  positions  under  the  Enabling  /  Support  Functions,unless there is an exception as approved by the Management.'}]}, {'question': 'when a referrer on notice period gets employee referral bonus?', 'id': 'e91a8959-4912-467c-901a-9efafc5e5f5b', 'answers': [{'answer_start': 133, 'text': 'All employees who are active at the time of the employee referral bonus payment date - both referrer and the referee will need to on rolls with Techversant and not serving the notice period'}]}, {'question': 'when the referee is on notice period would the referrer gets referral bonus payment?', 'id': '4f82acd7-65ac-4195-8e01-a8cc2a1f97cf', 'answers': [{'answer_start': 133, 'text': 'All employees who are active at the time of the employee referral bonus payment date - both referrer and the referee will need to on rolls with Techversant and not serving the notice period'}]}, {'question': 'Does the referrer gets referral bonus only for permanent hiring?', 'id': '8b955682-66da-42dd-bada-8e88fd2b8962', 'answers': [{'answer_start': 394, 'text': 'The  referral  bonus  programme  is applicable  only  for  permanent  employee  hires  and  fixed  term consultants'}]}, {'question': 'Does the referrer gets referral bonus if the candidate joins as contractors?', 'id': 'eb9d0f38-e956-4609-a4a0-c4f5bb6cece2', 'answers': [{'answer_start': 511, 'text': 'If the referral candidate joins as contractors, the referrer will be eligible for referral bonus only upon their successful conversion to regular rolls of the company'}]}, {'question': 'To whom the referral profile to be sent to get the referral bonus?', 'id': '3c84aaf8-feb2-4bef-93a3-232c55be1c82', 'answers': [{'answer_start': 678, 'text': 'To  be  eligible  for  referral  bonus,  the  profile  has  to  be  sent  to  the  Talent  Acquisition  team  by  the employee at the mentioned email id or portal as applicable'}]}, {'question': 'Does the referrer gets referral bonus for hiring freshers?', 'id': '7fd27f7e-6066-4264-8102-cb494850fb3c', 'answers': [{'answer_start': 1221, 'text': 'Referral bonus will not be applicable for fresher recruitment'}]}]}, {'context': 'Regarding Referral Bonus Payout Details,the Referral bonus would be paid in the subsequent month payroll once the selected referral completes  minimum  6  months  or  the  probation  period,  whichever  is  more,  at  Techversant and upon successful completion of background verification of the  referral, as the case may be.Both Referrer and Referral should be on Techversant?s payroll at the time of bonus payout and not serving the notice period.Bonus payment for the employees on long leave would be credited when the employee returns to active duty.The referral bonus will be paid along with salary and is a taxable income. Any tax applicable will be deducted at source.', 'qas': [{'question': 'What is the timeline for Referral Bonus Payout Details ?', 'id': '76b0e3ea-9c17-4164-a1e9-8b246f3f1a1c', 'answers': [{'answer_start': 0, 'text': 'Regarding Referral Bonus Payout Details,the Referral bonus would be paid in the subsequent month payroll once the selected referral completes  minimum  6  months  or  the  probation  period,  whichever  is  more,  at  Techversant and upon successful completion of background verification of the  referral, as the case may be.'}]}, {'question': 'What if the Referrer serving notice period ?', 'id': '47d69387-14ca-48e5-9725-8bd5dd04be0d', 'answers': [{'answer_start': 325, 'text': 'Both Referrer and Referral should be on Techversant?s payroll at the time of bonus payout and not serving the notice period.'}]}, {'question': 'What is the Bonus payment for the employees is on long leave ?', 'id': 'c582760c-2640-431d-9a60-f26ffd542114', 'answers': [{'answer_start': 449, 'text': 'Bonus payment for the employees on long leave would be credited when the employee returns to active duty.'}]}, {'question': 'Do you detect tax for referral bonus ?', 'id': 'a82fe829-eefb-4c5e-a079-2d3ff170d151', 'answers': [{'answer_start': 554, 'text': 'The referral bonus will be paid along with salary and is a taxable income. Any tax applicable will be deducted at source.'}]}, {'question': 'when would the referral bonus be paid?', 'id': 'a38969b8-b66b-48f4-813d-b42b483f0fd1', 'answers': [{'answer_start': 40, 'text': 'the Referral bonus would be paid in the subsequent month payroll once the selected referral completes  minimum  6  months  or  the  probation  period,  whichever  is  more,  at  Techversant and upon successful completion of background verification of the  referral, as the case may be'}]}, {'question': 'Does the referrer gets the referral bonus after the probation period of the selected referral?', 'id': '8f46ecd2-423b-4924-9cbb-1107c5816a88', 'answers': [{'answer_start': 44, 'text': 'Referral bonus would be paid in the subsequent month payroll once the selected referral completes  minimum  6  months  or  the  probation  period,  whichever  is  more'}]}, {'question': 'Is the referral bonus taxable?', 'id': 'f9755386-ffe7-4a7e-a056-4191b34d2240', 'answers': [{'answer_start': 554, 'text': 'The referral bonus will be paid along with salary and is a taxable income'}]}, {'question': 'would the employee gets referral bonus if he/she is on long leave?', 'id': '7113fbfa-8f0b-42f7-8e47-4472f2fc5d40', 'answers': [{'answer_start': 449, 'text': 'Bonus payment for the employees on long leave would be credited when the employee returns to active duty'}]}]}, {'context': 'Authority of the Management and Human Resources Group reserves the right to revise or eliminate this policy. Any such changes will be communicated.All ?exceptions? to the statements of this policy document must be appealed the HR Function Head and will be considered on an individual case basis, subject to review and approval from the Management.', 'qas': [{'question': 'Who reserves the right to revise or eliminate Employee Referral Policy?', 'id': '96d70cf0-1b4b-44cd-8334-d7387d0615ee', 'answers': [{'answer_start': 0, 'text': 'Authority of the Management and Human Resources Group reserves the right to revise or eliminate this policy. Any such changes will be communicated.'}]}, {'question': 'Is there is any exceptions for Employee Referral Programme guidelines ?', 'id': '9434c98b-9a97-44a8-9c73-c7e2b311694d', 'answers': [{'answer_start': 147, 'text': 'All ?exceptions? to the statements of this policy document must be appealed the HR Function Head and will be considered on an individual case basis, subject to review and approval from the Management.'}]}, {'question': 'who are authorized to revise the employee referral policy?', 'id': '26eedd1e-42b4-477a-8f6a-b7b0233058a2', 'answers': [{'answer_start': 0, 'text': 'Authority of the Management and Human Resources Group reserves the right to revise or eliminate this policy'}]}, {'question': 'How to communicate the case of exceptions to the employee referral policy?', 'id': 'f22fe61b-36f4-44bb-bff6-ca5dcff4505e', 'answers': [{'answer_start': 147, 'text': 'All ?exceptions? to the statements of this policy document must be appealed the HR Function Head and will be considered on an individual case basis, subject to review and approval from the Management'}]}]}]}]}\n"
     ]
    }
   ],
   "source": [
    "train_path = \"C:\\\\Users\\\\JaiGatiri\\\\Documents\\\\cdqa-pred\\\\annotated_data\\\\cdqa-v1_updated_referral_annot.json\"\n",
    "eval_path = \"C:\\\\Users\\\\JaiGatiri\\\\Downloads\\\\test-er.json\"\n",
    "with open(train_path) as f: raw_train_data = json.load(f)\n",
    "with open(eval_path) as f: raw_eval_data = json.load(f)\n",
    "max_seq_length = 384\n",
    "print(raw_train_data)"
   ]
  },
  {
   "cell_type": "code",
   "execution_count": 17,
   "id": "c27ca455",
   "metadata": {},
   "outputs": [
    {
     "name": "stdout",
     "output_type": "stream",
     "text": [
      "54 training points created.\n",
      "18 evaluation points created.\n",
      "Model: \"model_2\"\n",
      "__________________________________________________________________________________________________\n",
      "Layer (type)                    Output Shape         Param #     Connected to                     \n",
      "==================================================================================================\n",
      "input_word_ids (InputLayer)     [(None, 384)]        0                                            \n",
      "__________________________________________________________________________________________________\n",
      "input_mask (InputLayer)         [(None, 384)]        0                                            \n",
      "__________________________________________________________________________________________________\n",
      "input_type_ids (InputLayer)     [(None, 384)]        0                                            \n",
      "__________________________________________________________________________________________________\n",
      "keras_layer_2 (KerasLayer)      [(None, 768), (None, 109482241   input_word_ids[0][0]             \n",
      "                                                                 input_mask[0][0]                 \n",
      "                                                                 input_type_ids[0][0]             \n",
      "__________________________________________________________________________________________________\n",
      "start_logit (Dense)             (None, 384, 1)       768         keras_layer_2[0][1]              \n",
      "__________________________________________________________________________________________________\n",
      "end_logit (Dense)               (None, 384, 1)       768         keras_layer_2[0][1]              \n",
      "__________________________________________________________________________________________________\n",
      "flatten_4 (Flatten)             (None, 384)          0           start_logit[0][0]                \n",
      "__________________________________________________________________________________________________\n",
      "flatten_5 (Flatten)             (None, 384)          0           end_logit[0][0]                  \n",
      "__________________________________________________________________________________________________\n",
      "activation_4 (Activation)       (None, 384)          0           flatten_4[0][0]                  \n",
      "__________________________________________________________________________________________________\n",
      "activation_5 (Activation)       (None, 384)          0           flatten_5[0][0]                  \n",
      "==================================================================================================\n",
      "Total params: 109,483,777\n",
      "Trainable params: 1,536\n",
      "Non-trainable params: 109,482,241\n",
      "__________________________________________________________________________________________________\n",
      "Train on 45 samples\n",
      "Epoch 1/10\n",
      "40/45 [=========================>....] - ETA: 4s - loss: 11.8615 - activation_4_loss: 5.8360 - activation_5_loss: 6.0255 \n",
      "epoch=1, exact match score=0.00\n",
      "45/45 [==============================] - 54s 1s/sample - loss: 11.8467 - activation_4_loss: 5.8544 - activation_5_loss: 5.9849\n",
      "Epoch 2/10\n",
      "40/45 [=========================>....] - ETA: 4s - loss: 11.8625 - activation_4_loss: 5.8564 - activation_5_loss: 6.0061 \n",
      "epoch=2, exact match score=0.00\n",
      "45/45 [==============================] - 50s 1s/sample - loss: 11.8394 - activation_4_loss: 5.8394 - activation_5_loss: 5.9884\n",
      "Epoch 3/10\n",
      "40/45 [=========================>....] - ETA: 4s - loss: 11.8305 - activation_4_loss: 5.8548 - activation_5_loss: 5.9757 \n",
      "epoch=3, exact match score=0.00\n",
      "45/45 [==============================] - 50s 1s/sample - loss: 11.8325 - activation_4_loss: 5.8357 - activation_5_loss: 5.9978\n",
      "Epoch 4/10\n",
      "40/45 [=========================>....] - ETA: 4s - loss: 11.8331 - activation_4_loss: 5.8464 - activation_5_loss: 5.9867 \n",
      "epoch=4, exact match score=0.00\n",
      "45/45 [==============================] - 48s 1s/sample - loss: 11.8257 - activation_4_loss: 5.8355 - activation_5_loss: 5.9865\n",
      "Epoch 5/10\n",
      "40/45 [=========================>....] - ETA: 4s - loss: 11.8643 - activation_4_loss: 5.8657 - activation_5_loss: 5.9986 \n",
      "epoch=5, exact match score=0.00\n",
      "45/45 [==============================] - 48s 1s/sample - loss: 11.8191 - activation_4_loss: 5.8216 - activation_5_loss: 5.9750\n",
      "Epoch 6/10\n",
      "40/45 [=========================>....] - ETA: 4s - loss: 11.8707 - activation_4_loss: 5.8728 - activation_5_loss: 5.9980 \n",
      "epoch=6, exact match score=0.00\n",
      "45/45 [==============================] - 52s 1s/sample - loss: 11.8122 - activation_4_loss: 5.8137 - activation_5_loss: 5.9693\n",
      "Epoch 7/10\n",
      "40/45 [=========================>....] - ETA: 4s - loss: 11.8168 - activation_4_loss: 5.8433 - activation_5_loss: 5.9736 \n",
      "epoch=7, exact match score=0.00\n",
      "45/45 [==============================] - 59s 1s/sample - loss: 11.8055 - activation_4_loss: 5.8241 - activation_5_loss: 5.9757\n",
      "Epoch 8/10\n",
      "40/45 [=========================>....] - ETA: 4s - loss: 11.7734 - activation_4_loss: 5.7993 - activation_5_loss: 5.9741 \n",
      "epoch=8, exact match score=0.00\n",
      "45/45 [==============================] - 56s 1s/sample - loss: 11.7991 - activation_4_loss: 5.8418 - activation_5_loss: 5.9701\n",
      "Epoch 9/10\n",
      "40/45 [=========================>....] - ETA: 4s - loss: 11.8457 - activation_4_loss: 5.8268 - activation_5_loss: 6.0190 \n",
      "epoch=9, exact match score=0.00\n",
      "45/45 [==============================] - 53s 1s/sample - loss: 11.7921 - activation_4_loss: 5.8236 - activation_5_loss: 5.9417\n",
      "Epoch 10/10\n",
      "40/45 [=========================>....] - ETA: 4s - loss: 11.8018 - activation_4_loss: 5.8487 - activation_5_loss: 5.9531 \n",
      "epoch=10, exact match score=0.00\n",
      "45/45 [==============================] - 48s 1s/sample - loss: 11.7855 - activation_4_loss: 5.8084 - activation_5_loss: 5.9690\n"
     ]
    }
   ],
   "source": [
    "input_word_ids = tf.keras.layers.Input(shape=(max_seq_length,), dtype=tf.int32, name='input_word_ids')\n",
    "input_mask = tf.keras.layers.Input(shape=(max_seq_length,), dtype=tf.int32, name='input_mask')\n",
    "input_type_ids = tf.keras.layers.Input(shape=(max_seq_length,), dtype=tf.int32, name='input_type_ids')\n",
    "bert_layer = hub.KerasLayer(\"https://tfhub.dev/tensorflow/bert_en_uncased_L-12_H-768_A-12/2\")\n",
    "pooled_output, sequence_output = bert_layer([input_word_ids, input_mask, input_type_ids])\n",
    "vocab_file = bert_layer.resolved_object.vocab_file.asset_path.numpy().decode(\"utf-8\")\n",
    "do_lower_case = bert_layer.resolved_object.do_lower_case.numpy()\n",
    "tokenizer = BertWordPieceTokenizer(vocab=vocab_file, lowercase=True)\n",
    "train_squad_examples = create_squad_examples(raw_train_data)\n",
    "x_train, y_train = create_inputs_targets(train_squad_examples)\n",
    "print(f\"{len(train_squad_examples)} training points created.\")\n",
    "eval_squad_examples = create_squad_examples(raw_eval_data)\n",
    "x_eval, y_eval = create_inputs_targets(eval_squad_examples)\n",
    "print(f\"{len(eval_squad_examples)} evaluation points created.\")\n",
    "start_logits = layers.Dense(1, name=\"start_logit\", use_bias=False)(sequence_output)\n",
    "start_logits = layers.Flatten()(start_logits)\n",
    "end_logits = layers.Dense(1, name=\"end_logit\", use_bias=False)(sequence_output)\n",
    "end_logits = layers.Flatten()(end_logits)\n",
    "start_probs = layers.Activation(keras.activations.softmax)(start_logits)\n",
    "end_probs = layers.Activation(keras.activations.softmax)(end_logits)\n",
    "model = keras.Model(inputs=[input_word_ids, input_mask, input_type_ids], outputs=[start_probs, end_probs])\n",
    "loss = keras.losses.SparseCategoricalCrossentropy(from_logits=False)\n",
    "optimizer = keras.optimizers.Adam(lr=1e-5, beta_1=0.9, beta_2=0.98, epsilon=1e-9)\n",
    "model.compile(optimizer=optimizer, loss=[loss, loss])\n",
    "model.summary()\n",
    "model.fit(x_train, y_train, epochs=10, batch_size=8, callbacks=[ValidationCallback(x_eval, y_eval)])\n",
    "model.save_weights(\"./weights.h5\")"
   ]
  },
  {
   "cell_type": "code",
   "execution_count": 20,
   "id": "b614720f",
   "metadata": {},
   "outputs": [
    {
     "name": "stdout",
     "output_type": "stream",
     "text": [
      "Q: Do yo have special referral schemes ?\n",
      "A:  would fall under Employe\n"
     ]
    }
   ],
   "source": [
    "data = {\"data\":\n",
    "    [\n",
    "        {\"title\": \"Employee Referral Programme\",\n",
    "         \"paragraphs\": [\n",
    "             {\n",
    "                 \"context\": \"Scope defines the  process will be applicable for all referrals hired through the employee referral program, effective 1st October 2021.It covers all open positions in the Organization that would fall under Employee Referral Programme as announced by the Talent Acquisition Team and as approved by the Management.Special referral schemes catering to critical needs as announced by the Talent Acquisition Team and as approved by the management.\",\n",
    "            \n",
    "                 \"qas\": [\n",
    "                     {\"question\": \"Do yo have special referral schemes ?\",\n",
    "                      \"id\": \"Q1\"\n",
    "                      }\n",
    "                 ]}]}]}\n",
    "\n",
    "test_samples = create_squad_examples(data)\n",
    "x_test, _ = create_inputs_targets(test_samples)\n",
    "pred_start, pred_end = model.predict(x_test)\n",
    "for idx, (start, end) in enumerate(zip(pred_start, pred_end)):\n",
    "    test_sample = test_samples[idx]\n",
    "    offsets = test_sample.context_token_to_char\n",
    "    start = np.argmax(start)\n",
    "    end = np.argmax(end)\n",
    "    pred_ans = None\n",
    "    if start >= len(offsets):\n",
    "        continue\n",
    "    pred_char_start = offsets[start][0]\n",
    "    if end < len(offsets):\n",
    "        pred_ans = test_sample.context[pred_char_start:offsets[end][1]]\n",
    "    else:\n",
    "        pred_ans = test_sample.context[pred_char_start:]\n",
    "    print(\"Q: \" + test_sample.question)\n",
    "    print(\"A: \" + pred_ans)"
   ]
  },
  {
   "cell_type": "code",
   "execution_count": 21,
   "id": "f8a68a1a",
   "metadata": {},
   "outputs": [],
   "source": [
    "import requests\n",
    "import json\n",
    "import torch\n",
    "import os\n",
    "from tqdm import tqdm"
   ]
  },
  {
   "cell_type": "code",
   "execution_count": 22,
   "id": "1035d00b",
   "metadata": {},
   "outputs": [
    {
     "name": "stdout",
     "output_type": "stream",
     "text": [
      "Requirement already satisfied: transformers in e:\\entity_extraction_combined_model\\venv\\lib\\site-packages (3.5.0)\n",
      "Requirement already satisfied: packaging in e:\\entity_extraction_combined_model\\venv\\lib\\site-packages (from transformers) (21.3)\n",
      "Requirement already satisfied: regex!=2019.12.17 in e:\\entity_extraction_combined_model\\venv\\lib\\site-packages (from transformers) (2021.11.10)\n",
      "Requirement already satisfied: sacremoses in e:\\entity_extraction_combined_model\\venv\\lib\\site-packages (from transformers) (0.0.46)\n",
      "Requirement already satisfied: requests in e:\\entity_extraction_combined_model\\venv\\lib\\site-packages (from transformers) (2.28.2)\n",
      "Requirement already satisfied: tokenizers==0.9.3 in e:\\entity_extraction_combined_model\\venv\\lib\\site-packages (from transformers) (0.9.3)\n",
      "Requirement already satisfied: filelock in e:\\entity_extraction_combined_model\\venv\\lib\\site-packages (from transformers) (3.4.2)\n",
      "Requirement already satisfied: numpy in e:\\entity_extraction_combined_model\\venv\\lib\\site-packages (from transformers) (1.21.5)\n",
      "Requirement already satisfied: tqdm>=4.27 in e:\\entity_extraction_combined_model\\venv\\lib\\site-packages (from transformers) (4.62.3)\n",
      "Requirement already satisfied: sentencepiece==0.1.91 in e:\\entity_extraction_combined_model\\venv\\lib\\site-packages (from transformers) (0.1.91)\n",
      "Requirement already satisfied: protobuf in e:\\entity_extraction_combined_model\\venv\\lib\\site-packages (from transformers) (3.19.3)\n",
      "Requirement already satisfied: colorama in e:\\entity_extraction_combined_model\\venv\\lib\\site-packages (from tqdm>=4.27->transformers) (0.4.4)\n",
      "Requirement already satisfied: pyparsing!=3.0.5,>=2.0.2 in e:\\entity_extraction_combined_model\\venv\\lib\\site-packages (from packaging->transformers) (3.0.6)\n",
      "Requirement already satisfied: certifi>=2017.4.17 in e:\\entity_extraction_combined_model\\venv\\lib\\site-packages (from requests->transformers) (2021.10.8)\n",
      "Requirement already satisfied: idna<4,>=2.5 in e:\\entity_extraction_combined_model\\venv\\lib\\site-packages (from requests->transformers) (3.3)\n",
      "Requirement already satisfied: urllib3<1.27,>=1.21.1 in e:\\entity_extraction_combined_model\\venv\\lib\\site-packages (from requests->transformers) (1.26.7)\n",
      "Requirement already satisfied: charset-normalizer<4,>=2 in e:\\entity_extraction_combined_model\\venv\\lib\\site-packages (from requests->transformers) (2.0.9)\n",
      "Requirement already satisfied: click in e:\\entity_extraction_combined_model\\venv\\lib\\site-packages (from sacremoses->transformers) (8.1.3)\n",
      "Requirement already satisfied: joblib in e:\\entity_extraction_combined_model\\venv\\lib\\site-packages (from sacremoses->transformers) (1.1.0)\n",
      "Requirement already satisfied: six in e:\\entity_extraction_combined_model\\venv\\lib\\site-packages (from sacremoses->transformers) (1.16.0)\n",
      "Requirement already satisfied: importlib-metadata in e:\\entity_extraction_combined_model\\venv\\lib\\site-packages (from click->sacremoses->transformers) (4.10.0)\n",
      "Requirement already satisfied: typing-extensions>=3.6.4 in e:\\entity_extraction_combined_model\\venv\\lib\\site-packages (from importlib-metadata->click->sacremoses->transformers) (3.10.0.2)\n",
      "Requirement already satisfied: zipp>=0.5 in e:\\entity_extraction_combined_model\\venv\\lib\\site-packages (from importlib-metadata->click->sacremoses->transformers) (3.6.0)\n"
     ]
    },
    {
     "name": "stderr",
     "output_type": "stream",
     "text": [
      "WARNING: You are using pip version 21.3.1; however, version 23.0.1 is available.\n",
      "You should consider upgrading via the 'e:\\entity_extraction_combined_model\\venv\\scripts\\python.exe -m pip install --upgrade pip' command.\n"
     ]
    }
   ],
   "source": [
    "!pip install transformers"
   ]
  },
  {
   "cell_type": "code",
   "execution_count": 37,
   "id": "129a1bbf",
   "metadata": {},
   "outputs": [],
   "source": [
    "# Load the training dataset and take a look at it\n",
    "with open(\"C:\\\\Users\\\\JaiGatiri\\\\Documents\\\\cdqa-pred\\\\annotated_data\\\\cdqa-v1_updated_referral_annot.json\", 'rb') as f:\n",
    "  squad = json.load(f)"
   ]
  },
  {
   "cell_type": "code",
   "execution_count": 38,
   "id": "34601ccc",
   "metadata": {},
   "outputs": [
    {
     "ename": "IndexError",
     "evalue": "list index out of range",
     "output_type": "error",
     "traceback": [
      "\u001b[1;31m---------------------------------------------------------------------------\u001b[0m",
      "\u001b[1;31mIndexError\u001b[0m                                Traceback (most recent call last)",
      "\u001b[1;32mC:\\Users\\JAIGAT~1\\AppData\\Local\\Temp/ipykernel_10756/2941597733.py\u001b[0m in \u001b[0;36m<module>\u001b[1;34m\u001b[0m\n\u001b[0;32m      1\u001b[0m \u001b[1;31m# Each 'data' dict has two keys (title and paragraphs)\u001b[0m\u001b[1;33m\u001b[0m\u001b[1;33m\u001b[0m\u001b[1;33m\u001b[0m\u001b[0m\n\u001b[1;32m----> 2\u001b[1;33m \u001b[0msquad\u001b[0m\u001b[1;33m[\u001b[0m\u001b[1;34m'data'\u001b[0m\u001b[1;33m]\u001b[0m\u001b[1;33m[\u001b[0m\u001b[1;36m186\u001b[0m\u001b[1;33m]\u001b[0m\u001b[1;33m.\u001b[0m\u001b[0mkeys\u001b[0m\u001b[1;33m(\u001b[0m\u001b[1;33m)\u001b[0m\u001b[1;33m\u001b[0m\u001b[1;33m\u001b[0m\u001b[0m\n\u001b[0m",
      "\u001b[1;31mIndexError\u001b[0m: list index out of range"
     ]
    }
   ],
   "source": [
    "# Each 'data' dict has two keys (title and paragraphs)\n",
    "squad['data'][186].keys()"
   ]
  },
  {
   "cell_type": "code",
   "execution_count": 25,
   "id": "c589f442",
   "metadata": {},
   "outputs": [
    {
     "name": "stdout",
     "output_type": "stream",
     "text": [
      "Employee Referral Programme\n",
      "0\n"
     ]
    }
   ],
   "source": [
    "# Find the group about Greece\n",
    "gr = -1\n",
    "for idx, group in enumerate(squad['data']):\n",
    "  print(group['title'])\n",
    "  if group['title'] == 'Employee Referral Programme':\n",
    "    gr = idx\n",
    "    print(gr)\n",
    "    break"
   ]
  },
  {
   "cell_type": "code",
   "execution_count": 28,
   "id": "1d3234ce",
   "metadata": {},
   "outputs": [
    {
     "data": {
      "text/plain": [
       "{'title': 'Employee Referral Programme',\n",
       " 'paragraphs': [{'context': 'Purpose and objective  of  the  Employee  Referral  Programme  process  document  is  to  provide guidelines necessary to assist all  employees at Techversant who refer talent profiles to the Organization. This program  is  designed  to  help  source  talent, build  diversity,  and  find  the  right  candidates  for  open positions  and  to  reward  our  employees  for  the  right  referrals. This  programme  will  encourage  all  at Techversant to act as talent ambassadors for the Organization.Techversant is an equal opportunity employer with a diverse workforce.All referred candidates  will be given  the  same  consideration  and  will  pass  through  the  established  process  and  procedures  of  the Organization.Please note that it is not the intent for these  guidelines to  describe every situation. Management judgment will / may be necessary in certain situations which are not addressed here,or where special considerations may be required.',\n",
       "   'qas': [{'question': 'What is the purpose of Employee Referral Programme ?',\n",
       "     'id': '6e92ad9e-f1ea-4fbd-a2b9-aff731717e09',\n",
       "     'answers': [{'answer_start': 0,\n",
       "       'text': 'Purpose and objective  of  the  Employee  Referral  Programme  process  document  is  to  provide guidelines necessary to assist all  employees at Techversant who refer talent profiles to the Organization.'}]},\n",
       "    {'question': 'How is the Employee Referral Programme designed ?',\n",
       "     'id': '7f39c022-a582-4484-9037-b13c6f0f866a',\n",
       "     'answers': [{'answer_start': 205,\n",
       "       'text': ' This program  is  designed  to  help  source  talent, build  diversity,  and  find  the  right  candidates  for  open positions  and  to  reward  our  employees  for  the  right  referrals. This  programme  will  encourage  all  at Techversant to act as talent ambassadors for the Organization.'}]},\n",
       "    {'question': 'Does the company give equal opportunity to referred candidate ? ',\n",
       "     'id': 'db196f9e-6fd5-4cfc-b7a6-c77496d38d21',\n",
       "     'answers': [{'answer_start': 500,\n",
       "       'text': 'Techversant is an equal opportunity employer with a diverse workforce.All referred candidates  will be given  the  same  consideration  and  will  pass  through  the  established  process  and  procedures  of  the Organization.'}]},\n",
       "    {'question': 'Does the guideline change ?',\n",
       "     'id': 'ac951a59-ceb2-4888-a120-f2968e64350b',\n",
       "     'answers': [{'answer_start': 727,\n",
       "       'text': 'Please note that it is not the intent for these  guidelines to  describe every situation. Management judgment will / may be necessary in certain situations which are not addressed here,or where special considerations may be required.'}]},\n",
       "    {'question': 'what is the objective of employee referral programme?',\n",
       "     'id': '1eee1ec0-a88f-45bf-82b3-1e5efc414533',\n",
       "     'answers': [{'answer_start': 32,\n",
       "       'text': 'Employee  Referral  Programme  process  document  is  to  provide guidelines necessary to assist all  employees at Techversant who refer talent profiles to the Organization'}]},\n",
       "    {'question': 'Does Techversant an equal opportunity employer?',\n",
       "     'id': 'bc7b8b85-6c98-426d-bc20-87d591082ed2',\n",
       "     'answers': [{'answer_start': 500,\n",
       "       'text': 'Techversant is an equal opportunity employer with a diverse workforce'}]},\n",
       "    {'question': 'How the employee referral programme helps the company?',\n",
       "     'id': '642031ce-047d-4569-a6a9-efa68f668813',\n",
       "     'answers': [{'answer_start': 206,\n",
       "       'text': 'This program  is  designed  to  help  source  talent, build  diversity,  and  find  the  right  candidates  for  open positions  and  to  reward  our  employees  for  the  right  referrals'}]},\n",
       "    {'question': 'How the employee referral programme encourages the company employees for giving referrals?',\n",
       "     'id': 'fb03bd28-7d75-4d6d-b1ec-65eba63d7b8d',\n",
       "     'answers': [{'answer_start': 206,\n",
       "       'text': 'This program  is  designed  to  help  source  talent, build  diversity,  and  find  the  right  candidates  for  open positions  and  to  reward  our  employees  for  the  right  referrals'}]},\n",
       "    {'question': 'Does the employee gets reward for the referral?',\n",
       "     'id': 'fe0d08d9-f0ce-45fc-a61a-c4c45f240d2b',\n",
       "     'answers': [{'answer_start': 206,\n",
       "       'text': 'This program  is  designed  to  help  source  talent, build  diversity,  and  find  the  right  candidates  for  open positions  and  to  reward  our  employees  for  the  right  referrals'}]}]},\n",
       "  {'context': 'Scope defines the  process will be applicable for all referrals hired through the employee referral program, effective 1st October 2021.It covers all open positions in the Organization that would fall under Employee Referral Programme as announced by the Talent Acquisition Team and as approved by the Management.Special referral schemes catering to critical needs as announced by the Talent Acquisition Team and as approved by the management.',\n",
       "   'qas': [{'question': 'Does the referral program applicable for all open position in the organization ?',\n",
       "     'id': '49bbb7fd-bd23-4390-a2fc-a118be8bbb59',\n",
       "     'answers': [{'answer_start': 136,\n",
       "       'text': 'It covers all open positions in the Organization that would fall under Employee Referral Programme as announced by the Talent Acquisition Team and as approved by the Management.'}]},\n",
       "    {'question': 'Do yo have special referral schemes ?',\n",
       "     'id': '987f1b62-fcac-40eb-9dda-c000291f2721',\n",
       "     'answers': [{'answer_start': 313,\n",
       "       'text': 'Special referral schemes catering to critical needs as announced by the Talent Acquisition Team and as approved by the management.'}]},\n",
       "    {'question': 'What is the scope of referral program ?',\n",
       "     'id': 'ff0c2186-2f84-4701-b1b2-2e59ffe4b2aa',\n",
       "     'answers': [{'answer_start': 0,\n",
       "       'text': 'Scope defines the  process will be applicable for all referrals hired through the employee referral program, effective 1st October 2021.'}]},\n",
       "    {'question': 'when does the employee referral program came into effect?',\n",
       "     'id': 'e82cc623-ed10-48ec-a062-b8be6fd76cc3',\n",
       "     'answers': [{'answer_start': 109, 'text': 'effective 1st October 2021'}]},\n",
       "    {'question': 'who is managing the employee referral programme?',\n",
       "     'id': '8d3f35b4-3162-4126-a417-7e7803b5d422',\n",
       "     'answers': [{'answer_start': 207,\n",
       "       'text': 'Employee Referral Programme as announced by the Talent Acquisition Team and as approved by the Management'}]}]},\n",
       "  {'context': 'Guidelines for Referrals and Eligibility for referring candidates are All employees of Techversant are eligible to refer candidates under the employee referral program.Referrer should not be involved in the hiring process of the referred candidate (viz. prescreening, interview and offer release).All those directly involved in the hiring process for the referral positions will not be part of this programme',\n",
       "   'qas': [{'question': 'What are the Eligibility for referring candidates ?',\n",
       "     'id': '627f487e-fb8b-4cdb-a3e9-505b6445e22e',\n",
       "     'answers': [{'answer_start': 0,\n",
       "       'text': 'Guidelines for Referrals and Eligibility for referring candidates are All employees of Techversant are eligible to refer candidates under the employee referral program.'}]},\n",
       "    {'question': 'Can the Referrer be involved in hiring process ?',\n",
       "     'id': 'b683d77f-235e-4ee9-828c-79e62565cdc2',\n",
       "     'answers': [{'answer_start': 168,\n",
       "       'text': 'Referrer should not be involved in the hiring process of the referred candidate (viz. prescreening, interview and offer release).All those directly involved in the hiring process for the referral positions will not be part of this programme'}]},\n",
       "    {'question': 'Is the referrer allowed for prescreening or interview during hiring process?',\n",
       "     'id': '4aa4d6f8-fae3-4f13-b5d7-41edd19a0175',\n",
       "     'answers': [{'answer_start': 168,\n",
       "       'text': 'Referrer should not be involved in the hiring process of the referred candidate (viz. prescreening, interview and offer release)'}]},\n",
       "    {'question': 'Do all the employees eligible for referring candidates?',\n",
       "     'id': '35202c6a-2a69-4a28-b90b-ddf32b27c81f',\n",
       "     'answers': [{'answer_start': 70,\n",
       "       'text': 'All employees of Techversant are eligible to refer candidates under the employee referral program'}]},\n",
       "    {'question': 'Do the people involved in hiring for referral be a part of employee referral programme?',\n",
       "     'id': '78b23230-0fb0-4a18-be2d-453076a1637d',\n",
       "     'answers': [{'answer_start': 297,\n",
       "       'text': 'All those directly involved in the hiring process for the referral positions will not be part of this programme'}]}]},\n",
       "  {'context': 'The employee referral process will be as below,the Talent Acquisition Team will declare the open positions which would come under the employee referral program. It will have the referral category mentioning the bonus amount for the referral positions and the date until which the program is open  for the respective referral bonus along with the other relevant position details. Only positions announced under the employee referral bonus programme will be considered for processing. The Referral Bonus Amount will be notified for the open positions, based on the criticality  and priority of the position, availability in the market, the role and designation of the position and the quality of the candidate hired. The  Referral  Bonus  amount  could  range  from  INR  5000  to  INR  50,000  or  an amount  as  decided  by  the  Talent  Acquisition  Team  and  approved  by  the Management based on the open position.All referrals are to be sent to the HR Email id or uploaded to a portal, as notified, along with other relevant details.Response emails on the progress of referral would be send to the referrers, as and when an activity happens against the referral.Rejected profiles may get considered only after six (6) months, subject to final approval and  discretion of the Management.',\n",
       "   'qas': [{'question': 'What are the process in employee referral ?',\n",
       "     'id': 'a23f24c9-4ede-48a0-950a-8c06b8f438aa',\n",
       "     'answers': [{'answer_start': 0,\n",
       "       'text': 'The employee referral process will be as below,the Talent Acquisition Team will declare the open positions which would come under the employee referral program. It will have the referral category mentioning the bonus amount for the referral positions and the date until which the program is open  for the respective referral bonus along with the other relevant position details. '}]},\n",
       "    {'question': 'Will the referral bonus be applicable for all the open position ?',\n",
       "     'id': '4ed3b884-84ac-4c40-8079-fe2f2902e9bf',\n",
       "     'answers': [{'answer_start': 379,\n",
       "       'text': 'Only positions announced under the employee referral bonus programme will be considered for processing. The Referral Bonus Amount will be notified for the open positions, based on the criticality  and priority of the position, availability in the market, the role and designation of the position and the quality of the candidate hired.'}]},\n",
       "    {'question': 'What is the referral bonus amount range ?',\n",
       "     'id': '354e7028-abcb-49f3-b1fc-1c2a2d516734',\n",
       "     'answers': [{'answer_start': 715,\n",
       "       'text': 'The  Referral  Bonus  amount  could  range  from  INR  5000  to  INR  50,000  or  an amount  as  decided  by  the  Talent  Acquisition  Team  and  approved  by  the Management based on the open position.'}]},\n",
       "    {'question': 'To whom should the Referral be sent?',\n",
       "     'id': 'd0d565c9-6cc1-49c5-853b-305494371e4b',\n",
       "     'answers': [{'answer_start': 918,\n",
       "       'text': 'All referrals are to be sent to the HR Email id or uploaded to a portal, as notified, along with other relevant details.Response emails on the progress of referral would be send to the referrers, as and when an activity happens against the referral.'}]},\n",
       "    {'question': 'What is timeline for rejected profile to reapply ?',\n",
       "     'id': '025c2a50-d2ee-4a30-965f-f6316786d525',\n",
       "     'answers': [{'answer_start': 1167,\n",
       "       'text': 'Rejected profiles may get considered only after six (6) months, subject to final approval and  discretion of the Management.'}]},\n",
       "    {'question': 'who would be announcing the open positions for referral?',\n",
       "     'id': '38df62c7-0a8b-43d2-ab10-5575a1194fa6',\n",
       "     'answers': [{'answer_start': 51,\n",
       "       'text': 'Talent Acquisition Team will declare the open positions which would come under the employee referral program'}]},\n",
       "    {'question': 'Is there any specific referral category for the referral positions?',\n",
       "     'id': '157b480f-3da5-4da6-ab86-92a346a4430c',\n",
       "     'answers': [{'answer_start': 161,\n",
       "       'text': 'It will have the referral category mentioning the bonus amount for the referral positions and the date until which the program is open  for the respective referral bonus along with the other relevant position details'}]},\n",
       "    {'question': 'Do all the referral positions have the bonus?',\n",
       "     'id': '2dc59701-d068-4c20-8206-5b2de1450964',\n",
       "     'answers': [{'answer_start': 379,\n",
       "       'text': 'Only positions announced under the employee referral bonus programme will be considered for processing'}]},\n",
       "    {'question': 'who decides the bonus amount for referral?',\n",
       "     'id': '5e1c9903-c656-4b19-a32d-0188fafeb422',\n",
       "     'answers': [{'answer_start': 812,\n",
       "       'text': 'decided  by  the  Talent  Acquisition  Team  and  approved  by  the Management based on the open position'}]},\n",
       "    {'question': 'Can a rejected referral considered again for referral?',\n",
       "     'id': '5d5c4bb5-66cb-4ef2-a191-7cfee79d4b25',\n",
       "     'answers': [{'answer_start': 1167,\n",
       "       'text': 'Rejected profiles may get considered only after six (6) months, subject to final approval and  discretion of the Management'}]},\n",
       "    {'question': 'How to sent the referrals?',\n",
       "     'id': '3251d270-8570-4753-bc13-d1979bb1bd0c',\n",
       "     'answers': [{'answer_start': 918,\n",
       "       'text': 'All referrals are to be sent to the HR Email id or uploaded to a portal, as notified, along with other relevant details'}]}]},\n",
       "  {'context': 'Eligibility for Referral Bonus are as follows, all employees are eligible to refer candidates under the employee referral programme. All employees who are active at the time of the employee referral bonus payment date - both referrer and the referee will need to on rolls with Techversant and not serving the notice period.All who are directly involved in external recruitment are not eligible The  referral  bonus  programme  is applicable  only  for  permanent  employee  hires  and  fixed  term consultants. If the referral candidate joins as contractors, the referrer will be eligible for referral bonus only upon their successful conversion to regular rolls of the company.To  be  eligible  for  referral  bonus,  the  profile  has  to  be  sent  to  the  Talent  Acquisition  team  by  the employee at the mentioned email id or portal as applicable.  Any application processed without the involvement of the Talent Acquisition team will not be eligible for a referral bonus.In the event a referral is received through multiple referrers, the first referrer becomes eligible for thereferral  bonus.  The  Talent  Acquisition  Team  shall  intimate  the  other  referrers  before  initiating  the recruitment process.Referral bonus will not be applicable for fresher recruitment.Referral  bonus  will  not be  applicable  for  positions  under  the  Enabling  /  Support  Functions,unless there is an exception as approved by the Management.',\n",
       "   'qas': [{'question': 'Who are not eligible for Referral Bonus ?',\n",
       "     'id': '1e346d4f-afb3-4368-ba3b-ce2a2b59cb60',\n",
       "     'answers': [{'answer_start': 323,\n",
       "       'text': 'All who are directly involved in external recruitment are not eligible'}]},\n",
       "    {'question': 'What is Referral Bonus ?',\n",
       "     'id': '82d37149-13a9-4af9-958c-0abfa76d549d',\n",
       "     'answers': [{'answer_start': 0,\n",
       "       'text': 'Eligibility for Referral Bonus are as follows, all employees are eligible to refer candidates under the employee referral programme. All employees who are active at the time of the employee referral bonus payment date - both referrer and the referee will need to on rolls with Techversant and not serving the notice period.'}]},\n",
       "    {'question': 'Who are eligible for Referral Bonus ?',\n",
       "     'id': '574a8149-777a-47a0-9e08-828ec0597a00',\n",
       "     'answers': [{'answer_start': 394,\n",
       "       'text': 'The  referral  bonus  programme  is applicable  only  for  permanent  employee  hires  and  fixed  term consultants. If the referral candidate joins as contractors, the referrer will be eligible for referral bonus only upon their successful conversion to regular rolls of the company.'}]},\n",
       "    {'question': 'What if a referral is received through multiple referrers ?',\n",
       "     'id': 'aaed7157-6d0a-43a3-811a-97a26c826caf',\n",
       "     'answers': [{'answer_start': 980,\n",
       "       'text': 'In the event a referral is received through multiple referrers, the first referrer becomes eligible for thereferral  bonus.  The  Talent  Acquisition  Team  shall  intimate  the  other  referrers  before  initiating  the recruitment process.'}]},\n",
       "    {'question': 'What is the process to get eligible for Referral Bonus ?',\n",
       "     'id': '9f1780d7-bcb5-496d-a457-bfd51090e26d',\n",
       "     'answers': [{'answer_start': 678,\n",
       "       'text': 'To  be  eligible  for  referral  bonus,  the  profile  has  to  be  sent  to  the  Talent  Acquisition  team  by  the employee at the mentioned email id or portal as applicable.  Any application processed without the involvement of the Talent Acquisition team will not be eligible for a referral bonus.'}]},\n",
       "    {'question': 'What are the positions not applicable for Referral Bonus ?',\n",
       "     'id': 'dc4e8b12-c2b7-4ddb-8554-0e991bdba0dd',\n",
       "     'answers': [{'answer_start': 1105,\n",
       "       'text': 'The  Talent  Acquisition  Team  shall  intimate  the  other  referrers  before  initiating  the recruitment process.Referral bonus will not be applicable for fresher recruitment.Referral  bonus  will  not be  applicable  for  positions  under  the  Enabling  /  Support  Functions,unless there is an exception as approved by the Management.'}]},\n",
       "    {'question': 'when a referrer on notice period gets employee referral bonus?',\n",
       "     'id': 'e91a8959-4912-467c-901a-9efafc5e5f5b',\n",
       "     'answers': [{'answer_start': 133,\n",
       "       'text': 'All employees who are active at the time of the employee referral bonus payment date - both referrer and the referee will need to on rolls with Techversant and not serving the notice period'}]},\n",
       "    {'question': 'when the referee is on notice period would the referrer gets referral bonus payment?',\n",
       "     'id': '4f82acd7-65ac-4195-8e01-a8cc2a1f97cf',\n",
       "     'answers': [{'answer_start': 133,\n",
       "       'text': 'All employees who are active at the time of the employee referral bonus payment date - both referrer and the referee will need to on rolls with Techversant and not serving the notice period'}]},\n",
       "    {'question': 'Does the referrer gets referral bonus only for permanent hiring?',\n",
       "     'id': '8b955682-66da-42dd-bada-8e88fd2b8962',\n",
       "     'answers': [{'answer_start': 394,\n",
       "       'text': 'The  referral  bonus  programme  is applicable  only  for  permanent  employee  hires  and  fixed  term consultants'}]},\n",
       "    {'question': 'Does the referrer gets referral bonus if the candidate joins as contractors?',\n",
       "     'id': 'eb9d0f38-e956-4609-a4a0-c4f5bb6cece2',\n",
       "     'answers': [{'answer_start': 511,\n",
       "       'text': 'If the referral candidate joins as contractors, the referrer will be eligible for referral bonus only upon their successful conversion to regular rolls of the company'}]},\n",
       "    {'question': 'To whom the referral profile to be sent to get the referral bonus?',\n",
       "     'id': '3c84aaf8-feb2-4bef-93a3-232c55be1c82',\n",
       "     'answers': [{'answer_start': 678,\n",
       "       'text': 'To  be  eligible  for  referral  bonus,  the  profile  has  to  be  sent  to  the  Talent  Acquisition  team  by  the employee at the mentioned email id or portal as applicable'}]},\n",
       "    {'question': 'Does the referrer gets referral bonus for hiring freshers?',\n",
       "     'id': '7fd27f7e-6066-4264-8102-cb494850fb3c',\n",
       "     'answers': [{'answer_start': 1221,\n",
       "       'text': 'Referral bonus will not be applicable for fresher recruitment'}]}]},\n",
       "  {'context': 'Regarding Referral Bonus Payout Details,the Referral bonus would be paid in the subsequent month payroll once the selected referral completes  minimum  6  months  or  the  probation  period,  whichever  is  more,  at  Techversant and upon successful completion of background verification of the  referral, as the case may be.Both Referrer and Referral should be on Techversant?s payroll at the time of bonus payout and not serving the notice period.Bonus payment for the employees on long leave would be credited when the employee returns to active duty.The referral bonus will be paid along with salary and is a taxable income. Any tax applicable will be deducted at source.',\n",
       "   'qas': [{'question': 'What is the timeline for Referral Bonus Payout Details ?',\n",
       "     'id': '76b0e3ea-9c17-4164-a1e9-8b246f3f1a1c',\n",
       "     'answers': [{'answer_start': 0,\n",
       "       'text': 'Regarding Referral Bonus Payout Details,the Referral bonus would be paid in the subsequent month payroll once the selected referral completes  minimum  6  months  or  the  probation  period,  whichever  is  more,  at  Techversant and upon successful completion of background verification of the  referral, as the case may be.'}]},\n",
       "    {'question': 'What if the Referrer serving notice period ?',\n",
       "     'id': '47d69387-14ca-48e5-9725-8bd5dd04be0d',\n",
       "     'answers': [{'answer_start': 325,\n",
       "       'text': 'Both Referrer and Referral should be on Techversant?s payroll at the time of bonus payout and not serving the notice period.'}]},\n",
       "    {'question': 'What is the Bonus payment for the employees is on long leave ?',\n",
       "     'id': 'c582760c-2640-431d-9a60-f26ffd542114',\n",
       "     'answers': [{'answer_start': 449,\n",
       "       'text': 'Bonus payment for the employees on long leave would be credited when the employee returns to active duty.'}]},\n",
       "    {'question': 'Do you detect tax for referral bonus ?',\n",
       "     'id': 'a82fe829-eefb-4c5e-a079-2d3ff170d151',\n",
       "     'answers': [{'answer_start': 554,\n",
       "       'text': 'The referral bonus will be paid along with salary and is a taxable income. Any tax applicable will be deducted at source.'}]},\n",
       "    {'question': 'when would the referral bonus be paid?',\n",
       "     'id': 'a38969b8-b66b-48f4-813d-b42b483f0fd1',\n",
       "     'answers': [{'answer_start': 40,\n",
       "       'text': 'the Referral bonus would be paid in the subsequent month payroll once the selected referral completes  minimum  6  months  or  the  probation  period,  whichever  is  more,  at  Techversant and upon successful completion of background verification of the  referral, as the case may be'}]},\n",
       "    {'question': 'Does the referrer gets the referral bonus after the probation period of the selected referral?',\n",
       "     'id': '8f46ecd2-423b-4924-9cbb-1107c5816a88',\n",
       "     'answers': [{'answer_start': 44,\n",
       "       'text': 'Referral bonus would be paid in the subsequent month payroll once the selected referral completes  minimum  6  months  or  the  probation  period,  whichever  is  more'}]},\n",
       "    {'question': 'Is the referral bonus taxable?',\n",
       "     'id': 'f9755386-ffe7-4a7e-a056-4191b34d2240',\n",
       "     'answers': [{'answer_start': 554,\n",
       "       'text': 'The referral bonus will be paid along with salary and is a taxable income'}]},\n",
       "    {'question': 'would the employee gets referral bonus if he/she is on long leave?',\n",
       "     'id': '7113fbfa-8f0b-42f7-8e47-4472f2fc5d40',\n",
       "     'answers': [{'answer_start': 449,\n",
       "       'text': 'Bonus payment for the employees on long leave would be credited when the employee returns to active duty'}]}]},\n",
       "  {'context': 'Authority of the Management and Human Resources Group reserves the right to revise or eliminate this policy. Any such changes will be communicated.All ?exceptions? to the statements of this policy document must be appealed the HR Function Head and will be considered on an individual case basis, subject to review and approval from the Management.',\n",
       "   'qas': [{'question': 'Who reserves the right to revise or eliminate Employee Referral Policy?',\n",
       "     'id': '96d70cf0-1b4b-44cd-8334-d7387d0615ee',\n",
       "     'answers': [{'answer_start': 0,\n",
       "       'text': 'Authority of the Management and Human Resources Group reserves the right to revise or eliminate this policy. Any such changes will be communicated.'}]},\n",
       "    {'question': 'Is there is any exceptions for Employee Referral Programme guidelines ?',\n",
       "     'id': '9434c98b-9a97-44a8-9c73-c7e2b311694d',\n",
       "     'answers': [{'answer_start': 147,\n",
       "       'text': 'All ?exceptions? to the statements of this policy document must be appealed the HR Function Head and will be considered on an individual case basis, subject to review and approval from the Management.'}]},\n",
       "    {'question': 'who are authorized to revise the employee referral policy?',\n",
       "     'id': '26eedd1e-42b4-477a-8f6a-b7b0233058a2',\n",
       "     'answers': [{'answer_start': 0,\n",
       "       'text': 'Authority of the Management and Human Resources Group reserves the right to revise or eliminate this policy'}]},\n",
       "    {'question': 'How to communicate the case of exceptions to the employee referral policy?',\n",
       "     'id': 'f22fe61b-36f4-44bb-bff6-ca5dcff4505e',\n",
       "     'answers': [{'answer_start': 147,\n",
       "       'text': 'All ?exceptions? to the statements of this policy document must be appealed the HR Function Head and will be considered on an individual case basis, subject to review and approval from the Management'}]}]}]}"
      ]
     },
     "execution_count": 28,
     "metadata": {},
     "output_type": "execute_result"
    }
   ],
   "source": [
    "squad['data'][0]"
   ]
  },
  {
   "cell_type": "code",
   "execution_count": 32,
   "id": "15be43f1",
   "metadata": {},
   "outputs": [
    {
     "data": {
      "text/plain": [
       "'Purpose and objective  of  the  Employee  Referral  Programme  process  document  is  to  provide guidelines necessary to assist all  employees at Techversant who refer talent profiles to the Organization. This program  is  designed  to  help  source  talent, build  diversity,  and  find  the  right  candidates  for  open positions  and  to  reward  our  employees  for  the  right  referrals. This  programme  will  encourage  all  at Techversant to act as talent ambassadors for the Organization.Techversant is an equal opportunity employer with a diverse workforce.All referred candidates  will be given  the  same  consideration  and  will  pass  through  the  established  process  and  procedures  of  the Organization.Please note that it is not the intent for these  guidelines to  describe every situation. Management judgment will / may be necessary in certain situations which are not addressed here,or where special considerations may be required.'"
      ]
     },
     "execution_count": 32,
     "metadata": {},
     "output_type": "execute_result"
    }
   ],
   "source": [
    "# and this is the context given for NYC\n",
    "squad['data'][0]['paragraphs'][0]['context']"
   ]
  },
  {
   "cell_type": "code",
   "execution_count": 5,
   "id": "d85c1627",
   "metadata": {},
   "outputs": [
    {
     "name": "stdout",
     "output_type": "stream",
     "text": [
      "Requirement already satisfied: sentencepiece in e:\\entity_extraction_combined_model\\venv\\lib\\site-packages (0.1.91)\n"
     ]
    },
    {
     "name": "stderr",
     "output_type": "stream",
     "text": [
      "WARNING: You are using pip version 21.3.1; however, version 23.0.1 is available.\n",
      "You should consider upgrading via the 'e:\\entity_extraction_combined_model\\venv\\scripts\\python.exe -m pip install --upgrade pip' command.\n"
     ]
    }
   ],
   "source": [
    "!pip install sentencepiece"
   ]
  },
  {
   "cell_type": "code",
   "execution_count": 26,
   "id": "f7c45a5a",
   "metadata": {},
   "outputs": [
    {
     "name": "stdout",
     "output_type": "stream",
     "text": [
      "C:\\Users\\JaiGatiri\\Downloads\\BERT-SQuAD-master\\BERT-SQuAD-master\n"
     ]
    }
   ],
   "source": [
    "%cd C:\\Users\\JaiGatiri\\Downloads\\BERT-SQuAD-master\\BERT-SQuAD-master"
   ]
  },
  {
   "cell_type": "code",
   "execution_count": 22,
   "id": "d8e810a7",
   "metadata": {},
   "outputs": [
    {
     "data": {
      "text/plain": [
       "'1.4.0+cpu'"
      ]
     },
     "execution_count": 22,
     "metadata": {},
     "output_type": "execute_result"
    }
   ],
   "source": [
    "torch. __version__"
   ]
  },
  {
   "cell_type": "code",
   "execution_count": 15,
   "id": "784572a5",
   "metadata": {},
   "outputs": [],
   "source": [
    "import os\n",
    "import torch\n",
    "import time\n",
    "from torch.utils.data import DataLoader, RandomSampler, SequentialSampler\n",
    "\n",
    "from transformers import (\n",
    "   XLNetConfig,\n",
    "   XLNetForQuestionAnswering,\n",
    "   XLNetTokenizer,\n",
    "   squad_convert_examples_to_features\n",
    ")"
   ]
  },
  {
   "cell_type": "code",
   "execution_count": 31,
   "id": "d92df8d5",
   "metadata": {},
   "outputs": [
    {
     "name": "stderr",
     "output_type": "stream",
     "text": [
      "'list' is not recognized as an internal or external command,\n",
      "operable program or batch file.\n"
     ]
    }
   ],
   "source": [
    "!list"
   ]
  },
  {
   "cell_type": "code",
   "execution_count": 35,
   "id": "441e7ba8",
   "metadata": {},
   "outputs": [
    {
     "name": "stdout",
     "output_type": "stream",
     "text": [
      "Collecting Pytorch\n",
      "  Using cached pytorch-1.0.2.tar.gz (689 bytes)\n",
      "  Preparing metadata (setup.py): started\n",
      "  Preparing metadata (setup.py): finished with status 'done'\n",
      "Building wheels for collected packages: Pytorch\n",
      "  Building wheel for Pytorch (setup.py): started\n",
      "  Building wheel for Pytorch (setup.py): finished with status 'error'\n",
      "  Running setup.py clean for Pytorch\n",
      "Failed to build Pytorch\n",
      "Installing collected packages: Pytorch\n",
      "    Running setup.py install for Pytorch: started\n",
      "    Running setup.py install for Pytorch: finished with status 'error'\n"
     ]
    },
    {
     "name": "stderr",
     "output_type": "stream",
     "text": [
      "  ERROR: Command errored out with exit status 1:\n",
      "   command: 'e:\\entity_extraction_combined_model\\venv\\scripts\\python.exe' -u -c 'import io, os, sys, setuptools, tokenize; sys.argv[0] = '\"'\"'C:\\\\Users\\\\JAIGAT~1\\\\AppData\\\\Local\\\\Temp\\\\pip-install-frg0gkyy\\\\pytorch_9ba77d4bbc9d4ec5a7a238ab70a696c6\\\\setup.py'\"'\"'; __file__='\"'\"'C:\\\\Users\\\\JAIGAT~1\\\\AppData\\\\Local\\\\Temp\\\\pip-install-frg0gkyy\\\\pytorch_9ba77d4bbc9d4ec5a7a238ab70a696c6\\\\setup.py'\"'\"';f = getattr(tokenize, '\"'\"'open'\"'\"', open)(__file__) if os.path.exists(__file__) else io.StringIO('\"'\"'from setuptools import setup; setup()'\"'\"');code = f.read().replace('\"'\"'\\r\\n'\"'\"', '\"'\"'\\n'\"'\"');f.close();exec(compile(code, __file__, '\"'\"'exec'\"'\"'))' bdist_wheel -d 'C:\\Users\\JAIGAT~1\\AppData\\Local\\Temp\\pip-wheel-2d2t49mf'\n",
      "       cwd: C:\\Users\\JAIGAT~1\\AppData\\Local\\Temp\\pip-install-frg0gkyy\\pytorch_9ba77d4bbc9d4ec5a7a238ab70a696c6\\\n",
      "  Complete output (5 lines):\n",
      "  Traceback (most recent call last):\n",
      "    File \"<string>\", line 1, in <module>\n",
      "    File \"C:\\Users\\JAIGAT~1\\AppData\\Local\\Temp\\pip-install-frg0gkyy\\pytorch_9ba77d4bbc9d4ec5a7a238ab70a696c6\\setup.py\", line 15, in <module>\n",
      "      raise Exception(message)\n",
      "  Exception: You tried to install \"pytorch\". The package named for PyTorch is \"torch\"\n",
      "  ----------------------------------------\n",
      "  ERROR: Failed building wheel for Pytorch\n",
      "    ERROR: Command errored out with exit status 1:\n",
      "     command: 'e:\\entity_extraction_combined_model\\venv\\scripts\\python.exe' -u -c 'import io, os, sys, setuptools, tokenize; sys.argv[0] = '\"'\"'C:\\\\Users\\\\JAIGAT~1\\\\AppData\\\\Local\\\\Temp\\\\pip-install-frg0gkyy\\\\pytorch_9ba77d4bbc9d4ec5a7a238ab70a696c6\\\\setup.py'\"'\"'; __file__='\"'\"'C:\\\\Users\\\\JAIGAT~1\\\\AppData\\\\Local\\\\Temp\\\\pip-install-frg0gkyy\\\\pytorch_9ba77d4bbc9d4ec5a7a238ab70a696c6\\\\setup.py'\"'\"';f = getattr(tokenize, '\"'\"'open'\"'\"', open)(__file__) if os.path.exists(__file__) else io.StringIO('\"'\"'from setuptools import setup; setup()'\"'\"');code = f.read().replace('\"'\"'\\r\\n'\"'\"', '\"'\"'\\n'\"'\"');f.close();exec(compile(code, __file__, '\"'\"'exec'\"'\"'))' install --record 'C:\\Users\\JAIGAT~1\\AppData\\Local\\Temp\\pip-record-no2deub7\\install-record.txt' --single-version-externally-managed --compile --install-headers 'e:\\entity_extraction_combined_model\\venv\\include\\site\\python3.7\\Pytorch'\n",
      "         cwd: C:\\Users\\JAIGAT~1\\AppData\\Local\\Temp\\pip-install-frg0gkyy\\pytorch_9ba77d4bbc9d4ec5a7a238ab70a696c6\\\n",
      "    Complete output (5 lines):\n",
      "    Traceback (most recent call last):\n",
      "      File \"<string>\", line 1, in <module>\n",
      "      File \"C:\\Users\\JAIGAT~1\\AppData\\Local\\Temp\\pip-install-frg0gkyy\\pytorch_9ba77d4bbc9d4ec5a7a238ab70a696c6\\setup.py\", line 11, in <module>\n",
      "        raise Exception(message)\n",
      "    Exception: You tried to install \"pytorch\". The package named for PyTorch is \"torch\"\n",
      "    ----------------------------------------\n",
      "ERROR: Command errored out with exit status 1: 'e:\\entity_extraction_combined_model\\venv\\scripts\\python.exe' -u -c 'import io, os, sys, setuptools, tokenize; sys.argv[0] = '\"'\"'C:\\\\Users\\\\JAIGAT~1\\\\AppData\\\\Local\\\\Temp\\\\pip-install-frg0gkyy\\\\pytorch_9ba77d4bbc9d4ec5a7a238ab70a696c6\\\\setup.py'\"'\"'; __file__='\"'\"'C:\\\\Users\\\\JAIGAT~1\\\\AppData\\\\Local\\\\Temp\\\\pip-install-frg0gkyy\\\\pytorch_9ba77d4bbc9d4ec5a7a238ab70a696c6\\\\setup.py'\"'\"';f = getattr(tokenize, '\"'\"'open'\"'\"', open)(__file__) if os.path.exists(__file__) else io.StringIO('\"'\"'from setuptools import setup; setup()'\"'\"');code = f.read().replace('\"'\"'\\r\\n'\"'\"', '\"'\"'\\n'\"'\"');f.close();exec(compile(code, __file__, '\"'\"'exec'\"'\"'))' install --record 'C:\\Users\\JAIGAT~1\\AppData\\Local\\Temp\\pip-record-no2deub7\\install-record.txt' --single-version-externally-managed --compile --install-headers 'e:\\entity_extraction_combined_model\\venv\\include\\site\\python3.7\\Pytorch' Check the logs for full command output.\n",
      "WARNING: You are using pip version 21.3.1; however, version 23.0.1 is available.\n",
      "You should consider upgrading via the 'e:\\entity_extraction_combined_model\\venv\\scripts\\python.exe -m pip install --upgrade pip' command.\n"
     ]
    }
   ],
   "source": [
    "!pip install pytorch"
   ]
  },
  {
   "cell_type": "code",
   "execution_count": 36,
   "id": "d600178b",
   "metadata": {},
   "outputs": [
    {
     "name": "stdout",
     "output_type": "stream",
     "text": [
      "Requirement already satisfied: transformers in e:\\entity_extraction_combined_model\\venv\\lib\\site-packages (4.27.1)\n",
      "Requirement already satisfied: filelock in e:\\entity_extraction_combined_model\\venv\\lib\\site-packages (from transformers) (3.4.2)\n",
      "Requirement already satisfied: huggingface-hub<1.0,>=0.11.0 in e:\\entity_extraction_combined_model\\venv\\lib\\site-packages (from transformers) (0.13.2)\n",
      "Requirement already satisfied: pyyaml>=5.1 in e:\\entity_extraction_combined_model\\venv\\lib\\site-packages (from transformers) (6.0)\n",
      "Requirement already satisfied: importlib-metadata in e:\\entity_extraction_combined_model\\venv\\lib\\site-packages (from transformers) (4.10.0)\n",
      "Requirement already satisfied: requests in e:\\entity_extraction_combined_model\\venv\\lib\\site-packages (from transformers) (2.28.2)\n",
      "Requirement already satisfied: tokenizers!=0.11.3,<0.14,>=0.11.1 in e:\\entity_extraction_combined_model\\venv\\lib\\site-packages (from transformers) (0.13.2)\n",
      "Requirement already satisfied: numpy>=1.17 in e:\\entity_extraction_combined_model\\venv\\lib\\site-packages (from transformers) (1.21.5)\n",
      "Requirement already satisfied: packaging>=20.0 in e:\\entity_extraction_combined_model\\venv\\lib\\site-packages (from transformers) (21.3)\n",
      "Requirement already satisfied: tqdm>=4.27 in e:\\entity_extraction_combined_model\\venv\\lib\\site-packages (from transformers) (4.62.3)\n",
      "Requirement already satisfied: regex!=2019.12.17 in e:\\entity_extraction_combined_model\\venv\\lib\\site-packages (from transformers) (2021.11.10)\n",
      "Requirement already satisfied: typing-extensions>=3.7.4.3 in e:\\entity_extraction_combined_model\\venv\\lib\\site-packages (from huggingface-hub<1.0,>=0.11.0->transformers) (4.5.0)\n",
      "Requirement already satisfied: pyparsing!=3.0.5,>=2.0.2 in e:\\entity_extraction_combined_model\\venv\\lib\\site-packages (from packaging>=20.0->transformers) (3.0.6)\n",
      "Requirement already satisfied: colorama in e:\\entity_extraction_combined_model\\venv\\lib\\site-packages (from tqdm>=4.27->transformers) (0.4.4)\n",
      "Requirement already satisfied: zipp>=0.5 in e:\\entity_extraction_combined_model\\venv\\lib\\site-packages (from importlib-metadata->transformers) (3.6.0)\n",
      "Requirement already satisfied: idna<4,>=2.5 in e:\\entity_extraction_combined_model\\venv\\lib\\site-packages (from requests->transformers) (3.3)\n",
      "Requirement already satisfied: urllib3<1.27,>=1.21.1 in e:\\entity_extraction_combined_model\\venv\\lib\\site-packages (from requests->transformers) (1.26.15)\n",
      "Requirement already satisfied: charset-normalizer<4,>=2 in e:\\entity_extraction_combined_model\\venv\\lib\\site-packages (from requests->transformers) (2.0.9)\n",
      "Requirement already satisfied: certifi>=2017.4.17 in e:\\entity_extraction_combined_model\\venv\\lib\\site-packages (from requests->transformers) (2021.10.8)\n"
     ]
    },
    {
     "name": "stderr",
     "output_type": "stream",
     "text": [
      "WARNING: You are using pip version 21.3.1; however, version 23.0.1 is available.\n",
      "You should consider upgrading via the 'e:\\entity_extraction_combined_model\\venv\\scripts\\python.exe -m pip install --upgrade pip' command.\n"
     ]
    }
   ],
   "source": [
    "!pip install transformers"
   ]
  },
  {
   "cell_type": "code",
   "execution_count": 39,
   "id": "ee732f83",
   "metadata": {},
   "outputs": [],
   "source": [
    "SQUAD_DIR=\"C:\\\\Users\\\\JaiGatiri\\\\Downloads\\\\BERT-SQuAD-master\\\\BERT-SQuAD-master\""
   ]
  },
  {
   "cell_type": "code",
   "execution_count": 42,
   "id": "f9da2b9a",
   "metadata": {},
   "outputs": [
    {
     "ename": "SyntaxError",
     "evalue": "invalid syntax (Temp/ipykernel_11476/1412944235.py, line 1)",
     "output_type": "error",
     "traceback": [
      "\u001b[1;36m  File \u001b[1;32m\"C:\\Users\\JAIGAT~1\\AppData\\Local\\Temp/ipykernel_11476/1412944235.py\"\u001b[1;36m, line \u001b[1;32m1\u001b[0m\n\u001b[1;33m    python run_squad.py \\\u001b[0m\n\u001b[1;37m                   ^\u001b[0m\n\u001b[1;31mSyntaxError\u001b[0m\u001b[1;31m:\u001b[0m invalid syntax\n"
     ]
    }
   ],
   "source": [
    "python run_squad.py \\\n",
    "  --model_type xlnet \\\n",
    "  --model_name_or_path xlnet-large-cased \\\n",
    "  --do_train \\\n",
    "  --do_lower_case \\\n",
    "  --train_file ${SQUAD_DIR}/all_3docs_annotn_cdqa.json\\\n",
    "  --predict_file ${SQUAD_DIR}/test-er.json \\\n",
    "  --num_train_epochs 3 \\\n",
    "  --learning_rate 3e-5 \\\n",
    "  --max_seq_length 384 \\\n",
    "  --doc_stride 128 \\\n",
    "  --save_steps=10000 \\\n",
    "  --per_gpu_train_batch_size 1 \\\n",
    "  --gradient_accumulation_steps 4 \\\n",
    "  --output_dir ./xlnet_large_squad1_dist_X \\"
   ]
  },
  {
   "cell_type": "code",
   "execution_count": 43,
   "id": "91f929e3",
   "metadata": {},
   "outputs": [
    {
     "ename": "RuntimeError",
     "evalue": "version_ <= kMaxSupportedFileFormatVersion INTERNAL ASSERT FAILED at ..\\caffe2\\serialize\\inline_container.cc:132, please report a bug to PyTorch. Attempted to read a PyTorch file with version 3, but the maximum supported version for reading is 2. Your PyTorch installation may be too old. (init at ..\\caffe2\\serialize\\inline_container.cc:132)\n(no backtrace available)",
     "output_type": "error",
     "traceback": [
      "\u001b[1;31m---------------------------------------------------------------------------\u001b[0m",
      "\u001b[1;31mRuntimeError\u001b[0m                              Traceback (most recent call last)",
      "\u001b[1;32mC:\\Users\\JAIGAT~1\\AppData\\Local\\Temp/ipykernel_11476/2263383494.py\u001b[0m in \u001b[0;36m<module>\u001b[1;34m\u001b[0m\n\u001b[0;32m     44\u001b[0m \u001b[1;31m#model = model_class.from_pretrained(model_name_or_path, config=config)\u001b[0m\u001b[1;33m\u001b[0m\u001b[1;33m\u001b[0m\u001b[1;33m\u001b[0m\u001b[0m\n\u001b[0;32m     45\u001b[0m \u001b[1;33m\u001b[0m\u001b[0m\n\u001b[1;32m---> 46\u001b[1;33m \u001b[0mmodel\u001b[0m \u001b[1;33m=\u001b[0m \u001b[0mtorch\u001b[0m\u001b[1;33m.\u001b[0m\u001b[0mload\u001b[0m\u001b[1;33m(\u001b[0m\u001b[1;34m\"C:\\\\Users\\\\JaiGatiri\\\\Downloads\\\\BERT-SQuAD-master\\\\BERT-SQuAD-master\\\\model\\\\pytorch_model.bin\"\u001b[0m\u001b[1;33m,\u001b[0m\u001b[0mmap_location\u001b[0m\u001b[1;33m=\u001b[0m\u001b[1;34m\"cpu\"\u001b[0m\u001b[1;33m)\u001b[0m\u001b[1;33m\u001b[0m\u001b[1;33m\u001b[0m\u001b[0m\n\u001b[0m\u001b[0;32m     47\u001b[0m \u001b[1;33m\u001b[0m\u001b[0m\n\u001b[0;32m     48\u001b[0m \u001b[0mdevice\u001b[0m \u001b[1;33m=\u001b[0m \u001b[0mtorch\u001b[0m\u001b[1;33m.\u001b[0m\u001b[0mdevice\u001b[0m\u001b[1;33m(\u001b[0m\u001b[1;34m\"cuda\"\u001b[0m \u001b[1;32mif\u001b[0m \u001b[0mtorch\u001b[0m\u001b[1;33m.\u001b[0m\u001b[0mcuda\u001b[0m\u001b[1;33m.\u001b[0m\u001b[0mis_available\u001b[0m\u001b[1;33m(\u001b[0m\u001b[1;33m)\u001b[0m \u001b[1;32melse\u001b[0m \u001b[1;34m\"cpu\"\u001b[0m\u001b[1;33m)\u001b[0m\u001b[1;33m\u001b[0m\u001b[1;33m\u001b[0m\u001b[0m\n",
      "\u001b[1;32me:\\entity_extraction_combined_model\\venv\\lib\\site-packages\\torch\\serialization.py\u001b[0m in \u001b[0;36mload\u001b[1;34m(f, map_location, pickle_module, **pickle_load_args)\u001b[0m\n\u001b[0;32m    525\u001b[0m     \u001b[1;32mwith\u001b[0m \u001b[0m_open_file_like\u001b[0m\u001b[1;33m(\u001b[0m\u001b[0mf\u001b[0m\u001b[1;33m,\u001b[0m \u001b[1;34m'rb'\u001b[0m\u001b[1;33m)\u001b[0m \u001b[1;32mas\u001b[0m \u001b[0mopened_file\u001b[0m\u001b[1;33m:\u001b[0m\u001b[1;33m\u001b[0m\u001b[1;33m\u001b[0m\u001b[0m\n\u001b[0;32m    526\u001b[0m         \u001b[1;32mif\u001b[0m \u001b[0m_is_zipfile\u001b[0m\u001b[1;33m(\u001b[0m\u001b[0mopened_file\u001b[0m\u001b[1;33m)\u001b[0m\u001b[1;33m:\u001b[0m\u001b[1;33m\u001b[0m\u001b[1;33m\u001b[0m\u001b[0m\n\u001b[1;32m--> 527\u001b[1;33m             \u001b[1;32mwith\u001b[0m \u001b[0m_open_zipfile_reader\u001b[0m\u001b[1;33m(\u001b[0m\u001b[0mf\u001b[0m\u001b[1;33m)\u001b[0m \u001b[1;32mas\u001b[0m \u001b[0mopened_zipfile\u001b[0m\u001b[1;33m:\u001b[0m\u001b[1;33m\u001b[0m\u001b[1;33m\u001b[0m\u001b[0m\n\u001b[0m\u001b[0;32m    528\u001b[0m                 \u001b[1;32mreturn\u001b[0m \u001b[0m_load\u001b[0m\u001b[1;33m(\u001b[0m\u001b[0mopened_zipfile\u001b[0m\u001b[1;33m,\u001b[0m \u001b[0mmap_location\u001b[0m\u001b[1;33m,\u001b[0m \u001b[0mpickle_module\u001b[0m\u001b[1;33m,\u001b[0m \u001b[1;33m**\u001b[0m\u001b[0mpickle_load_args\u001b[0m\u001b[1;33m)\u001b[0m\u001b[1;33m\u001b[0m\u001b[1;33m\u001b[0m\u001b[0m\n\u001b[0;32m    529\u001b[0m         \u001b[1;32mreturn\u001b[0m \u001b[0m_legacy_load\u001b[0m\u001b[1;33m(\u001b[0m\u001b[0mopened_file\u001b[0m\u001b[1;33m,\u001b[0m \u001b[0mmap_location\u001b[0m\u001b[1;33m,\u001b[0m \u001b[0mpickle_module\u001b[0m\u001b[1;33m,\u001b[0m \u001b[1;33m**\u001b[0m\u001b[0mpickle_load_args\u001b[0m\u001b[1;33m)\u001b[0m\u001b[1;33m\u001b[0m\u001b[1;33m\u001b[0m\u001b[0m\n",
      "\u001b[1;32me:\\entity_extraction_combined_model\\venv\\lib\\site-packages\\torch\\serialization.py\u001b[0m in \u001b[0;36m__init__\u001b[1;34m(self, name_or_buffer)\u001b[0m\n\u001b[0;32m    222\u001b[0m \u001b[1;32mclass\u001b[0m \u001b[0m_open_zipfile_reader\u001b[0m\u001b[1;33m(\u001b[0m\u001b[0m_opener\u001b[0m\u001b[1;33m)\u001b[0m\u001b[1;33m:\u001b[0m\u001b[1;33m\u001b[0m\u001b[1;33m\u001b[0m\u001b[0m\n\u001b[0;32m    223\u001b[0m     \u001b[1;32mdef\u001b[0m \u001b[0m__init__\u001b[0m\u001b[1;33m(\u001b[0m\u001b[0mself\u001b[0m\u001b[1;33m,\u001b[0m \u001b[0mname_or_buffer\u001b[0m\u001b[1;33m)\u001b[0m\u001b[1;33m:\u001b[0m\u001b[1;33m\u001b[0m\u001b[1;33m\u001b[0m\u001b[0m\n\u001b[1;32m--> 224\u001b[1;33m         \u001b[0msuper\u001b[0m\u001b[1;33m(\u001b[0m\u001b[0m_open_zipfile_reader\u001b[0m\u001b[1;33m,\u001b[0m \u001b[0mself\u001b[0m\u001b[1;33m)\u001b[0m\u001b[1;33m.\u001b[0m\u001b[0m__init__\u001b[0m\u001b[1;33m(\u001b[0m\u001b[0mtorch\u001b[0m\u001b[1;33m.\u001b[0m\u001b[0m_C\u001b[0m\u001b[1;33m.\u001b[0m\u001b[0mPyTorchFileReader\u001b[0m\u001b[1;33m(\u001b[0m\u001b[0mname_or_buffer\u001b[0m\u001b[1;33m)\u001b[0m\u001b[1;33m)\u001b[0m\u001b[1;33m\u001b[0m\u001b[1;33m\u001b[0m\u001b[0m\n\u001b[0m\u001b[0;32m    225\u001b[0m \u001b[1;33m\u001b[0m\u001b[0m\n\u001b[0;32m    226\u001b[0m \u001b[1;33m\u001b[0m\u001b[0m\n",
      "\u001b[1;31mRuntimeError\u001b[0m: version_ <= kMaxSupportedFileFormatVersion INTERNAL ASSERT FAILED at ..\\caffe2\\serialize\\inline_container.cc:132, please report a bug to PyTorch. Attempted to read a PyTorch file with version 3, but the maximum supported version for reading is 2. Your PyTorch installation may be too old. (init at ..\\caffe2\\serialize\\inline_container.cc:132)\n(no backtrace available)"
     ]
    }
   ],
   "source": [
    "import os\n",
    "import torch\n",
    "import time\n",
    "from torch.utils.data import DataLoader, RandomSampler, SequentialSampler\n",
    "\n",
    "from transformers import (\n",
    "   XLNetConfig,\n",
    "   XLNetForQuestionAnswering,\n",
    "   XLNetTokenizer,\n",
    "   squad_convert_examples_to_features\n",
    ")\n",
    "\n",
    "from transformers.data.processors.squad import SquadResult, SquadV2Processor, SquadExample\n",
    "\n",
    "from transformers.data.metrics.squad_metrics import compute_predictions_logits\n",
    "\n",
    "# READER NOTE: Set this flag to use own model, or use pretrained model in the Hugging Face repository\n",
    "use_own_model = True\n",
    "\n",
    "if use_own_model:\n",
    "  model_name_or_path = \"C:\\\\Users\\\\JaiGatiri\\\\Downloads\\\\BERT-SQuAD-master\\\\BERT-SQuAD-master\\\\model\\\\\"\n",
    "else:\n",
    "  model_name_or_path = \"ktrapeznikov/albert-xlarge-v2-squad-v2\"\n",
    "\n",
    "output_dir = \"\"\n",
    "\n",
    "# Config\n",
    "n_best_size = 1\n",
    "max_answer_length = 30\n",
    "do_lower_case = True\n",
    "null_score_diff_threshold = 0.0\n",
    "\n",
    "def to_list(tensor):\n",
    "    return tensor.detach().cpu().tolist()\n",
    "\n",
    "# # Setup model\n",
    "# config_class, model_class, tokenizer_class = (\n",
    "#    XLNetConfig,\n",
    "#    XLNetForQuestionAnswering,\n",
    "#    XLNetTokenizer)\n",
    "# config = config_class.from_pretrained(model_name_or_path)\n",
    "# tokenizer = tokenizer_class.from_pretrained(\n",
    "#     model_name_or_path, do_lower_case=True)\n",
    "#model = model_class.from_pretrained(model_name_or_path, config=config)\n",
    "\n",
    "model = torch.load(\"C:\\\\Users\\\\JaiGatiri\\\\Downloads\\\\BERT-SQuAD-master\\\\BERT-SQuAD-master\\\\model\\\\pytorch_model.bin\",map_location=\"cpu\")\n",
    "\n",
    "device = torch.device(\"cuda\" if torch.cuda.is_available() else \"cpu\")\n",
    "\n",
    "model.to(device)\n",
    "\n",
    "processor = SquadV2Processor()\n",
    "\n",
    "def run_prediction(question_texts, context_text):\n",
    "    \"\"\"Setup function to compute predictions\"\"\"\n",
    "    examples = []\n",
    "\n",
    "    for i, question_text in enumerate(question_texts):\n",
    "        example = SquadExample(\n",
    "            qas_id=str(i),\n",
    "            question_text=question_text,\n",
    "            context_text=context_text,\n",
    "            answer_text=None,\n",
    "            start_position_character=None,\n",
    "            title=\"Predict\",\n",
    "            is_impossible=False,\n",
    "            answers=None,\n",
    "        )\n",
    "\n",
    "        examples.append(example)\n",
    "\n",
    "    features, dataset = squad_convert_examples_to_features(\n",
    "        examples=examples,\n",
    "        tokenizer=tokenizer,\n",
    "        max_seq_length=384,\n",
    "        doc_stride=128,\n",
    "        max_query_length=64,\n",
    "        is_training=False,\n",
    "        return_dataset=\"pt\",\n",
    "        threads=1,\n",
    "    )\n",
    "\n",
    "    eval_sampler = SequentialSampler(dataset)\n",
    "    eval_dataloader = DataLoader(dataset, sampler=eval_sampler, batch_size=10)\n",
    "\n",
    "    all_results = []\n",
    "\n",
    "    for batch in eval_dataloader:\n",
    "        model.eval()\n",
    "        batch = tuple(t.to(device) for t in batch)\n",
    "\n",
    "        with torch.no_grad():\n",
    "            inputs = {\n",
    "                \"input_ids\": batch[0],\n",
    "                \"attention_mask\": batch[1],\n",
    "                \"token_type_ids\": batch[2],\n",
    "            }\n",
    "\n",
    "            example_indices = batch[3]\n",
    "\n",
    "            outputs = model(**inputs)\n",
    "\n",
    "            for i, example_index in enumerate(example_indices):\n",
    "                eval_feature = features[example_index.item()]\n",
    "                unique_id = int(eval_feature.unique_id)\n",
    "\n",
    "                output = [to_list(output[i]) for output in outputs]\n",
    "\n",
    "                start_logits, end_logits = output\n",
    "                result = SquadResult(unique_id, start_logits, end_logits)\n",
    "                all_results.append(result)\n",
    "\n",
    "    output_prediction_file = \"predictions.json\"\n",
    "    output_nbest_file = \"nbest_predictions.json\"\n",
    "    output_null_log_odds_file = \"null_predictions.json\"\n",
    "\n",
    "    predictions = compute_predictions_logits(\n",
    "        examples,\n",
    "        features,\n",
    "        all_results,\n",
    "        n_best_size,\n",
    "        max_answer_length,\n",
    "        do_lower_case,\n",
    "        output_prediction_file,\n",
    "        output_nbest_file,\n",
    "        output_null_log_odds_file,\n",
    "        False,  # verbose_logging\n",
    "        True,  # version_2_with_negative\n",
    "        null_score_diff_threshold,\n",
    "        tokenizer,\n",
    "    )\n",
    "\n",
    "    return predictions"
   ]
  },
  {
   "cell_type": "code",
   "execution_count": null,
   "id": "715650c3",
   "metadata": {},
   "outputs": [],
   "source": []
  },
  {
   "cell_type": "code",
   "execution_count": null,
   "id": "eec13cd5",
   "metadata": {},
   "outputs": [],
   "source": []
  },
  {
   "cell_type": "code",
   "execution_count": null,
   "id": "2258cd48",
   "metadata": {},
   "outputs": [],
   "source": []
  },
  {
   "cell_type": "code",
   "execution_count": null,
   "id": "767859f1",
   "metadata": {},
   "outputs": [],
   "source": []
  },
  {
   "cell_type": "code",
   "execution_count": null,
   "id": "1dc79c69",
   "metadata": {},
   "outputs": [],
   "source": []
  },
  {
   "cell_type": "code",
   "execution_count": 6,
   "id": "ed307e91",
   "metadata": {},
   "outputs": [],
   "source": [
    "from transformers import (WEIGHTS_NAME, XLNetConfig,\n",
    "                                  XLNetForQuestionAnswering, XLNetTokenizer)"
   ]
  },
  {
   "cell_type": "code",
   "execution_count": 7,
   "id": "bb4ae40e",
   "metadata": {},
   "outputs": [],
   "source": [
    "MODEL_NAME = 'xlnet-large-cased' \n",
    "config = XLNetConfig.from_pretrained(MODEL_NAME)"
   ]
  },
  {
   "cell_type": "code",
   "execution_count": 13,
   "id": "5770a161",
   "metadata": {},
   "outputs": [
    {
     "data": {
      "application/vnd.jupyter.widget-view+json": {
       "model_id": "eeb986a0980240218f233c6bff97b060",
       "version_major": 2,
       "version_minor": 0
      },
      "text/plain": [
       "Downloading pytorch_model.bin:   0%|          | 0.00/1.44G [00:00<?, ?B/s]"
      ]
     },
     "metadata": {},
     "output_type": "display_data"
    },
    {
     "ename": "KeyboardInterrupt",
     "evalue": "",
     "output_type": "error",
     "traceback": [
      "\u001b[1;31m---------------------------------------------------------------------------\u001b[0m",
      "\u001b[1;31mKeyboardInterrupt\u001b[0m                         Traceback (most recent call last)",
      "\u001b[1;32mC:\\Users\\JAIGAT~1\\AppData\\Local\\Temp/ipykernel_11476/918951123.py\u001b[0m in \u001b[0;36m<module>\u001b[1;34m\u001b[0m\n\u001b[0;32m      1\u001b[0m \u001b[0mtokenizer\u001b[0m \u001b[1;33m=\u001b[0m \u001b[0mXLNetTokenizer\u001b[0m\u001b[1;33m.\u001b[0m\u001b[0mfrom_pretrained\u001b[0m\u001b[1;33m(\u001b[0m\u001b[0mMODEL_NAME\u001b[0m\u001b[1;33m)\u001b[0m\u001b[1;33m\u001b[0m\u001b[1;33m\u001b[0m\u001b[0m\n\u001b[1;32m----> 2\u001b[1;33m \u001b[0mmodel\u001b[0m \u001b[1;33m=\u001b[0m \u001b[0mXLNetForQuestionAnswering\u001b[0m\u001b[1;33m.\u001b[0m\u001b[0mfrom_pretrained\u001b[0m\u001b[1;33m(\u001b[0m\u001b[0mMODEL_NAME\u001b[0m\u001b[1;33m)\u001b[0m\u001b[1;33m\u001b[0m\u001b[1;33m\u001b[0m\u001b[0m\n\u001b[0m",
      "\u001b[1;32me:\\entity_extraction_combined_model\\venv\\lib\\site-packages\\transformers\\modeling_utils.py\u001b[0m in \u001b[0;36mfrom_pretrained\u001b[1;34m(cls, pretrained_model_name_or_path, *model_args, **kwargs)\u001b[0m\n\u001b[0;32m   2317\u001b[0m                         \u001b[1;34m\"_commit_hash\"\u001b[0m\u001b[1;33m:\u001b[0m \u001b[0mcommit_hash\u001b[0m\u001b[1;33m,\u001b[0m\u001b[1;33m\u001b[0m\u001b[1;33m\u001b[0m\u001b[0m\n\u001b[0;32m   2318\u001b[0m                     }\n\u001b[1;32m-> 2319\u001b[1;33m                     \u001b[0mresolved_archive_file\u001b[0m \u001b[1;33m=\u001b[0m \u001b[0mcached_file\u001b[0m\u001b[1;33m(\u001b[0m\u001b[0mpretrained_model_name_or_path\u001b[0m\u001b[1;33m,\u001b[0m \u001b[0mfilename\u001b[0m\u001b[1;33m,\u001b[0m \u001b[1;33m**\u001b[0m\u001b[0mcached_file_kwargs\u001b[0m\u001b[1;33m)\u001b[0m\u001b[1;33m\u001b[0m\u001b[1;33m\u001b[0m\u001b[0m\n\u001b[0m\u001b[0;32m   2320\u001b[0m \u001b[1;33m\u001b[0m\u001b[0m\n\u001b[0;32m   2321\u001b[0m                     \u001b[1;31m# Since we set _raise_exceptions_for_missing_entries=False, we don't get an exception but a None\u001b[0m\u001b[1;33m\u001b[0m\u001b[1;33m\u001b[0m\u001b[1;33m\u001b[0m\u001b[0m\n",
      "\u001b[1;32me:\\entity_extraction_combined_model\\venv\\lib\\site-packages\\transformers\\utils\\hub.py\u001b[0m in \u001b[0;36mcached_file\u001b[1;34m(path_or_repo_id, filename, cache_dir, force_download, resume_download, proxies, use_auth_token, revision, local_files_only, subfolder, user_agent, _raise_exceptions_for_missing_entries, _raise_exceptions_for_connection_errors, _commit_hash)\u001b[0m\n\u001b[0;32m    418\u001b[0m             \u001b[0mresume_download\u001b[0m\u001b[1;33m=\u001b[0m\u001b[0mresume_download\u001b[0m\u001b[1;33m,\u001b[0m\u001b[1;33m\u001b[0m\u001b[1;33m\u001b[0m\u001b[0m\n\u001b[0;32m    419\u001b[0m             \u001b[0muse_auth_token\u001b[0m\u001b[1;33m=\u001b[0m\u001b[0muse_auth_token\u001b[0m\u001b[1;33m,\u001b[0m\u001b[1;33m\u001b[0m\u001b[1;33m\u001b[0m\u001b[0m\n\u001b[1;32m--> 420\u001b[1;33m             \u001b[0mlocal_files_only\u001b[0m\u001b[1;33m=\u001b[0m\u001b[0mlocal_files_only\u001b[0m\u001b[1;33m,\u001b[0m\u001b[1;33m\u001b[0m\u001b[1;33m\u001b[0m\u001b[0m\n\u001b[0m\u001b[0;32m    421\u001b[0m         )\n\u001b[0;32m    422\u001b[0m \u001b[1;33m\u001b[0m\u001b[0m\n",
      "\u001b[1;32me:\\entity_extraction_combined_model\\venv\\lib\\site-packages\\huggingface_hub\\utils\\_validators.py\u001b[0m in \u001b[0;36m_inner_fn\u001b[1;34m(*args, **kwargs)\u001b[0m\n\u001b[0;32m    118\u001b[0m             \u001b[0mkwargs\u001b[0m \u001b[1;33m=\u001b[0m \u001b[0msmoothly_deprecate_use_auth_token\u001b[0m\u001b[1;33m(\u001b[0m\u001b[0mfn_name\u001b[0m\u001b[1;33m=\u001b[0m\u001b[0mfn\u001b[0m\u001b[1;33m.\u001b[0m\u001b[0m__name__\u001b[0m\u001b[1;33m,\u001b[0m \u001b[0mhas_token\u001b[0m\u001b[1;33m=\u001b[0m\u001b[0mhas_token\u001b[0m\u001b[1;33m,\u001b[0m \u001b[0mkwargs\u001b[0m\u001b[1;33m=\u001b[0m\u001b[0mkwargs\u001b[0m\u001b[1;33m)\u001b[0m\u001b[1;33m\u001b[0m\u001b[1;33m\u001b[0m\u001b[0m\n\u001b[0;32m    119\u001b[0m \u001b[1;33m\u001b[0m\u001b[0m\n\u001b[1;32m--> 120\u001b[1;33m         \u001b[1;32mreturn\u001b[0m \u001b[0mfn\u001b[0m\u001b[1;33m(\u001b[0m\u001b[1;33m*\u001b[0m\u001b[0margs\u001b[0m\u001b[1;33m,\u001b[0m \u001b[1;33m**\u001b[0m\u001b[0mkwargs\u001b[0m\u001b[1;33m)\u001b[0m\u001b[1;33m\u001b[0m\u001b[1;33m\u001b[0m\u001b[0m\n\u001b[0m\u001b[0;32m    121\u001b[0m \u001b[1;33m\u001b[0m\u001b[0m\n\u001b[0;32m    122\u001b[0m     \u001b[1;32mreturn\u001b[0m \u001b[0m_inner_fn\u001b[0m  \u001b[1;31m# type: ignore\u001b[0m\u001b[1;33m\u001b[0m\u001b[1;33m\u001b[0m\u001b[0m\n",
      "\u001b[1;32me:\\entity_extraction_combined_model\\venv\\lib\\site-packages\\huggingface_hub\\file_download.py\u001b[0m in \u001b[0;36mhf_hub_download\u001b[1;34m(repo_id, filename, subfolder, repo_type, revision, library_name, library_version, cache_dir, local_dir, local_dir_use_symlinks, user_agent, force_download, force_filename, proxies, etag_timeout, resume_download, token, local_files_only, legacy_cache_layout)\u001b[0m\n\u001b[0;32m   1303\u001b[0m                 \u001b[0mproxies\u001b[0m\u001b[1;33m=\u001b[0m\u001b[0mproxies\u001b[0m\u001b[1;33m,\u001b[0m\u001b[1;33m\u001b[0m\u001b[1;33m\u001b[0m\u001b[0m\n\u001b[0;32m   1304\u001b[0m                 \u001b[0mresume_size\u001b[0m\u001b[1;33m=\u001b[0m\u001b[0mresume_size\u001b[0m\u001b[1;33m,\u001b[0m\u001b[1;33m\u001b[0m\u001b[1;33m\u001b[0m\u001b[0m\n\u001b[1;32m-> 1305\u001b[1;33m                 \u001b[0mheaders\u001b[0m\u001b[1;33m=\u001b[0m\u001b[0mheaders\u001b[0m\u001b[1;33m,\u001b[0m\u001b[1;33m\u001b[0m\u001b[1;33m\u001b[0m\u001b[0m\n\u001b[0m\u001b[0;32m   1306\u001b[0m             )\n\u001b[0;32m   1307\u001b[0m \u001b[1;33m\u001b[0m\u001b[0m\n",
      "\u001b[1;32me:\\entity_extraction_combined_model\\venv\\lib\\site-packages\\huggingface_hub\\file_download.py\u001b[0m in \u001b[0;36mhttp_get\u001b[1;34m(url, temp_file, proxies, resume_size, headers, timeout, max_retries)\u001b[0m\n\u001b[0;32m    536\u001b[0m         \u001b[0mdisable\u001b[0m\u001b[1;33m=\u001b[0m\u001b[0mbool\u001b[0m\u001b[1;33m(\u001b[0m\u001b[0mlogger\u001b[0m\u001b[1;33m.\u001b[0m\u001b[0mgetEffectiveLevel\u001b[0m\u001b[1;33m(\u001b[0m\u001b[1;33m)\u001b[0m \u001b[1;33m==\u001b[0m \u001b[0mlogging\u001b[0m\u001b[1;33m.\u001b[0m\u001b[0mNOTSET\u001b[0m\u001b[1;33m)\u001b[0m\u001b[1;33m,\u001b[0m\u001b[1;33m\u001b[0m\u001b[1;33m\u001b[0m\u001b[0m\n\u001b[0;32m    537\u001b[0m     )\n\u001b[1;32m--> 538\u001b[1;33m     \u001b[1;32mfor\u001b[0m \u001b[0mchunk\u001b[0m \u001b[1;32min\u001b[0m \u001b[0mr\u001b[0m\u001b[1;33m.\u001b[0m\u001b[0miter_content\u001b[0m\u001b[1;33m(\u001b[0m\u001b[0mchunk_size\u001b[0m\u001b[1;33m=\u001b[0m\u001b[1;36m10\u001b[0m \u001b[1;33m*\u001b[0m \u001b[1;36m1024\u001b[0m \u001b[1;33m*\u001b[0m \u001b[1;36m1024\u001b[0m\u001b[1;33m)\u001b[0m\u001b[1;33m:\u001b[0m\u001b[1;33m\u001b[0m\u001b[1;33m\u001b[0m\u001b[0m\n\u001b[0m\u001b[0;32m    539\u001b[0m         \u001b[1;32mif\u001b[0m \u001b[0mchunk\u001b[0m\u001b[1;33m:\u001b[0m  \u001b[1;31m# filter out keep-alive new chunks\u001b[0m\u001b[1;33m\u001b[0m\u001b[1;33m\u001b[0m\u001b[0m\n\u001b[0;32m    540\u001b[0m             \u001b[0mprogress\u001b[0m\u001b[1;33m.\u001b[0m\u001b[0mupdate\u001b[0m\u001b[1;33m(\u001b[0m\u001b[0mlen\u001b[0m\u001b[1;33m(\u001b[0m\u001b[0mchunk\u001b[0m\u001b[1;33m)\u001b[0m\u001b[1;33m)\u001b[0m\u001b[1;33m\u001b[0m\u001b[1;33m\u001b[0m\u001b[0m\n",
      "\u001b[1;32me:\\entity_extraction_combined_model\\venv\\lib\\site-packages\\requests\\models.py\u001b[0m in \u001b[0;36mgenerate\u001b[1;34m()\u001b[0m\n\u001b[0;32m    814\u001b[0m             \u001b[1;32mif\u001b[0m \u001b[0mhasattr\u001b[0m\u001b[1;33m(\u001b[0m\u001b[0mself\u001b[0m\u001b[1;33m.\u001b[0m\u001b[0mraw\u001b[0m\u001b[1;33m,\u001b[0m \u001b[1;34m\"stream\"\u001b[0m\u001b[1;33m)\u001b[0m\u001b[1;33m:\u001b[0m\u001b[1;33m\u001b[0m\u001b[1;33m\u001b[0m\u001b[0m\n\u001b[0;32m    815\u001b[0m                 \u001b[1;32mtry\u001b[0m\u001b[1;33m:\u001b[0m\u001b[1;33m\u001b[0m\u001b[1;33m\u001b[0m\u001b[0m\n\u001b[1;32m--> 816\u001b[1;33m                     \u001b[1;32myield\u001b[0m \u001b[1;32mfrom\u001b[0m \u001b[0mself\u001b[0m\u001b[1;33m.\u001b[0m\u001b[0mraw\u001b[0m\u001b[1;33m.\u001b[0m\u001b[0mstream\u001b[0m\u001b[1;33m(\u001b[0m\u001b[0mchunk_size\u001b[0m\u001b[1;33m,\u001b[0m \u001b[0mdecode_content\u001b[0m\u001b[1;33m=\u001b[0m\u001b[1;32mTrue\u001b[0m\u001b[1;33m)\u001b[0m\u001b[1;33m\u001b[0m\u001b[1;33m\u001b[0m\u001b[0m\n\u001b[0m\u001b[0;32m    817\u001b[0m                 \u001b[1;32mexcept\u001b[0m \u001b[0mProtocolError\u001b[0m \u001b[1;32mas\u001b[0m \u001b[0me\u001b[0m\u001b[1;33m:\u001b[0m\u001b[1;33m\u001b[0m\u001b[1;33m\u001b[0m\u001b[0m\n\u001b[0;32m    818\u001b[0m                     \u001b[1;32mraise\u001b[0m \u001b[0mChunkedEncodingError\u001b[0m\u001b[1;33m(\u001b[0m\u001b[0me\u001b[0m\u001b[1;33m)\u001b[0m\u001b[1;33m\u001b[0m\u001b[1;33m\u001b[0m\u001b[0m\n",
      "\u001b[1;32me:\\entity_extraction_combined_model\\venv\\lib\\site-packages\\urllib3\\response.py\u001b[0m in \u001b[0;36mstream\u001b[1;34m(self, amt, decode_content)\u001b[0m\n\u001b[0;32m    626\u001b[0m         \u001b[1;32melse\u001b[0m\u001b[1;33m:\u001b[0m\u001b[1;33m\u001b[0m\u001b[1;33m\u001b[0m\u001b[0m\n\u001b[0;32m    627\u001b[0m             \u001b[1;32mwhile\u001b[0m \u001b[1;32mnot\u001b[0m \u001b[0mis_fp_closed\u001b[0m\u001b[1;33m(\u001b[0m\u001b[0mself\u001b[0m\u001b[1;33m.\u001b[0m\u001b[0m_fp\u001b[0m\u001b[1;33m)\u001b[0m\u001b[1;33m:\u001b[0m\u001b[1;33m\u001b[0m\u001b[1;33m\u001b[0m\u001b[0m\n\u001b[1;32m--> 628\u001b[1;33m                 \u001b[0mdata\u001b[0m \u001b[1;33m=\u001b[0m \u001b[0mself\u001b[0m\u001b[1;33m.\u001b[0m\u001b[0mread\u001b[0m\u001b[1;33m(\u001b[0m\u001b[0mamt\u001b[0m\u001b[1;33m=\u001b[0m\u001b[0mamt\u001b[0m\u001b[1;33m,\u001b[0m \u001b[0mdecode_content\u001b[0m\u001b[1;33m=\u001b[0m\u001b[0mdecode_content\u001b[0m\u001b[1;33m)\u001b[0m\u001b[1;33m\u001b[0m\u001b[1;33m\u001b[0m\u001b[0m\n\u001b[0m\u001b[0;32m    629\u001b[0m \u001b[1;33m\u001b[0m\u001b[0m\n\u001b[0;32m    630\u001b[0m                 \u001b[1;32mif\u001b[0m \u001b[0mdata\u001b[0m\u001b[1;33m:\u001b[0m\u001b[1;33m\u001b[0m\u001b[1;33m\u001b[0m\u001b[0m\n",
      "\u001b[1;32me:\\entity_extraction_combined_model\\venv\\lib\\site-packages\\urllib3\\response.py\u001b[0m in \u001b[0;36mread\u001b[1;34m(self, amt, decode_content, cache_content)\u001b[0m\n\u001b[0;32m    565\u001b[0m \u001b[1;33m\u001b[0m\u001b[0m\n\u001b[0;32m    566\u001b[0m         \u001b[1;32mwith\u001b[0m \u001b[0mself\u001b[0m\u001b[1;33m.\u001b[0m\u001b[0m_error_catcher\u001b[0m\u001b[1;33m(\u001b[0m\u001b[1;33m)\u001b[0m\u001b[1;33m:\u001b[0m\u001b[1;33m\u001b[0m\u001b[1;33m\u001b[0m\u001b[0m\n\u001b[1;32m--> 567\u001b[1;33m             \u001b[0mdata\u001b[0m \u001b[1;33m=\u001b[0m \u001b[0mself\u001b[0m\u001b[1;33m.\u001b[0m\u001b[0m_fp_read\u001b[0m\u001b[1;33m(\u001b[0m\u001b[0mamt\u001b[0m\u001b[1;33m)\u001b[0m \u001b[1;32mif\u001b[0m \u001b[1;32mnot\u001b[0m \u001b[0mfp_closed\u001b[0m \u001b[1;32melse\u001b[0m \u001b[1;34mb\"\"\u001b[0m\u001b[1;33m\u001b[0m\u001b[1;33m\u001b[0m\u001b[0m\n\u001b[0m\u001b[0;32m    568\u001b[0m             \u001b[1;32mif\u001b[0m \u001b[0mamt\u001b[0m \u001b[1;32mis\u001b[0m \u001b[1;32mNone\u001b[0m\u001b[1;33m:\u001b[0m\u001b[1;33m\u001b[0m\u001b[1;33m\u001b[0m\u001b[0m\n\u001b[0;32m    569\u001b[0m                 \u001b[0mflush_decoder\u001b[0m \u001b[1;33m=\u001b[0m \u001b[1;32mTrue\u001b[0m\u001b[1;33m\u001b[0m\u001b[1;33m\u001b[0m\u001b[0m\n",
      "\u001b[1;32me:\\entity_extraction_combined_model\\venv\\lib\\site-packages\\urllib3\\response.py\u001b[0m in \u001b[0;36m_fp_read\u001b[1;34m(self, amt)\u001b[0m\n\u001b[0;32m    531\u001b[0m         \u001b[1;32melse\u001b[0m\u001b[1;33m:\u001b[0m\u001b[1;33m\u001b[0m\u001b[1;33m\u001b[0m\u001b[0m\n\u001b[0;32m    532\u001b[0m             \u001b[1;31m# StringIO doesn't like amt=None\u001b[0m\u001b[1;33m\u001b[0m\u001b[1;33m\u001b[0m\u001b[1;33m\u001b[0m\u001b[0m\n\u001b[1;32m--> 533\u001b[1;33m             \u001b[1;32mreturn\u001b[0m \u001b[0mself\u001b[0m\u001b[1;33m.\u001b[0m\u001b[0m_fp\u001b[0m\u001b[1;33m.\u001b[0m\u001b[0mread\u001b[0m\u001b[1;33m(\u001b[0m\u001b[0mamt\u001b[0m\u001b[1;33m)\u001b[0m \u001b[1;32mif\u001b[0m \u001b[0mamt\u001b[0m \u001b[1;32mis\u001b[0m \u001b[1;32mnot\u001b[0m \u001b[1;32mNone\u001b[0m \u001b[1;32melse\u001b[0m \u001b[0mself\u001b[0m\u001b[1;33m.\u001b[0m\u001b[0m_fp\u001b[0m\u001b[1;33m.\u001b[0m\u001b[0mread\u001b[0m\u001b[1;33m(\u001b[0m\u001b[1;33m)\u001b[0m\u001b[1;33m\u001b[0m\u001b[1;33m\u001b[0m\u001b[0m\n\u001b[0m\u001b[0;32m    534\u001b[0m \u001b[1;33m\u001b[0m\u001b[0m\n\u001b[0;32m    535\u001b[0m     \u001b[1;32mdef\u001b[0m \u001b[0mread\u001b[0m\u001b[1;33m(\u001b[0m\u001b[0mself\u001b[0m\u001b[1;33m,\u001b[0m \u001b[0mamt\u001b[0m\u001b[1;33m=\u001b[0m\u001b[1;32mNone\u001b[0m\u001b[1;33m,\u001b[0m \u001b[0mdecode_content\u001b[0m\u001b[1;33m=\u001b[0m\u001b[1;32mNone\u001b[0m\u001b[1;33m,\u001b[0m \u001b[0mcache_content\u001b[0m\u001b[1;33m=\u001b[0m\u001b[1;32mFalse\u001b[0m\u001b[1;33m)\u001b[0m\u001b[1;33m:\u001b[0m\u001b[1;33m\u001b[0m\u001b[1;33m\u001b[0m\u001b[0m\n",
      "\u001b[1;32m~\\AppData\\Local\\Programs\\Python\\Python37\\lib\\http\\client.py\u001b[0m in \u001b[0;36mread\u001b[1;34m(self, amt)\u001b[0m\n\u001b[0;32m    459\u001b[0m             \u001b[1;31m# Amount is given, implement using readinto\u001b[0m\u001b[1;33m\u001b[0m\u001b[1;33m\u001b[0m\u001b[1;33m\u001b[0m\u001b[0m\n\u001b[0;32m    460\u001b[0m             \u001b[0mb\u001b[0m \u001b[1;33m=\u001b[0m \u001b[0mbytearray\u001b[0m\u001b[1;33m(\u001b[0m\u001b[0mamt\u001b[0m\u001b[1;33m)\u001b[0m\u001b[1;33m\u001b[0m\u001b[1;33m\u001b[0m\u001b[0m\n\u001b[1;32m--> 461\u001b[1;33m             \u001b[0mn\u001b[0m \u001b[1;33m=\u001b[0m \u001b[0mself\u001b[0m\u001b[1;33m.\u001b[0m\u001b[0mreadinto\u001b[0m\u001b[1;33m(\u001b[0m\u001b[0mb\u001b[0m\u001b[1;33m)\u001b[0m\u001b[1;33m\u001b[0m\u001b[1;33m\u001b[0m\u001b[0m\n\u001b[0m\u001b[0;32m    462\u001b[0m             \u001b[1;32mreturn\u001b[0m \u001b[0mmemoryview\u001b[0m\u001b[1;33m(\u001b[0m\u001b[0mb\u001b[0m\u001b[1;33m)\u001b[0m\u001b[1;33m[\u001b[0m\u001b[1;33m:\u001b[0m\u001b[0mn\u001b[0m\u001b[1;33m]\u001b[0m\u001b[1;33m.\u001b[0m\u001b[0mtobytes\u001b[0m\u001b[1;33m(\u001b[0m\u001b[1;33m)\u001b[0m\u001b[1;33m\u001b[0m\u001b[1;33m\u001b[0m\u001b[0m\n\u001b[0;32m    463\u001b[0m         \u001b[1;32melse\u001b[0m\u001b[1;33m:\u001b[0m\u001b[1;33m\u001b[0m\u001b[1;33m\u001b[0m\u001b[0m\n",
      "\u001b[1;32m~\\AppData\\Local\\Programs\\Python\\Python37\\lib\\http\\client.py\u001b[0m in \u001b[0;36mreadinto\u001b[1;34m(self, b)\u001b[0m\n\u001b[0;32m    503\u001b[0m         \u001b[1;31m# connection, and the user is reading more bytes than will be provided\u001b[0m\u001b[1;33m\u001b[0m\u001b[1;33m\u001b[0m\u001b[1;33m\u001b[0m\u001b[0m\n\u001b[0;32m    504\u001b[0m         \u001b[1;31m# (for example, reading in 1k chunks)\u001b[0m\u001b[1;33m\u001b[0m\u001b[1;33m\u001b[0m\u001b[1;33m\u001b[0m\u001b[0m\n\u001b[1;32m--> 505\u001b[1;33m         \u001b[0mn\u001b[0m \u001b[1;33m=\u001b[0m \u001b[0mself\u001b[0m\u001b[1;33m.\u001b[0m\u001b[0mfp\u001b[0m\u001b[1;33m.\u001b[0m\u001b[0mreadinto\u001b[0m\u001b[1;33m(\u001b[0m\u001b[0mb\u001b[0m\u001b[1;33m)\u001b[0m\u001b[1;33m\u001b[0m\u001b[1;33m\u001b[0m\u001b[0m\n\u001b[0m\u001b[0;32m    506\u001b[0m         \u001b[1;32mif\u001b[0m \u001b[1;32mnot\u001b[0m \u001b[0mn\u001b[0m \u001b[1;32mand\u001b[0m \u001b[0mb\u001b[0m\u001b[1;33m:\u001b[0m\u001b[1;33m\u001b[0m\u001b[1;33m\u001b[0m\u001b[0m\n\u001b[0;32m    507\u001b[0m             \u001b[1;31m# Ideally, we would raise IncompleteRead if the content-length\u001b[0m\u001b[1;33m\u001b[0m\u001b[1;33m\u001b[0m\u001b[1;33m\u001b[0m\u001b[0m\n",
      "\u001b[1;32m~\\AppData\\Local\\Programs\\Python\\Python37\\lib\\socket.py\u001b[0m in \u001b[0;36mreadinto\u001b[1;34m(self, b)\u001b[0m\n\u001b[0;32m    587\u001b[0m         \u001b[1;32mwhile\u001b[0m \u001b[1;32mTrue\u001b[0m\u001b[1;33m:\u001b[0m\u001b[1;33m\u001b[0m\u001b[1;33m\u001b[0m\u001b[0m\n\u001b[0;32m    588\u001b[0m             \u001b[1;32mtry\u001b[0m\u001b[1;33m:\u001b[0m\u001b[1;33m\u001b[0m\u001b[1;33m\u001b[0m\u001b[0m\n\u001b[1;32m--> 589\u001b[1;33m                 \u001b[1;32mreturn\u001b[0m \u001b[0mself\u001b[0m\u001b[1;33m.\u001b[0m\u001b[0m_sock\u001b[0m\u001b[1;33m.\u001b[0m\u001b[0mrecv_into\u001b[0m\u001b[1;33m(\u001b[0m\u001b[0mb\u001b[0m\u001b[1;33m)\u001b[0m\u001b[1;33m\u001b[0m\u001b[1;33m\u001b[0m\u001b[0m\n\u001b[0m\u001b[0;32m    590\u001b[0m             \u001b[1;32mexcept\u001b[0m \u001b[0mtimeout\u001b[0m\u001b[1;33m:\u001b[0m\u001b[1;33m\u001b[0m\u001b[1;33m\u001b[0m\u001b[0m\n\u001b[0;32m    591\u001b[0m                 \u001b[0mself\u001b[0m\u001b[1;33m.\u001b[0m\u001b[0m_timeout_occurred\u001b[0m \u001b[1;33m=\u001b[0m \u001b[1;32mTrue\u001b[0m\u001b[1;33m\u001b[0m\u001b[1;33m\u001b[0m\u001b[0m\n",
      "\u001b[1;32m~\\AppData\\Local\\Programs\\Python\\Python37\\lib\\ssl.py\u001b[0m in \u001b[0;36mrecv_into\u001b[1;34m(self, buffer, nbytes, flags)\u001b[0m\n\u001b[0;32m   1069\u001b[0m                   \u001b[1;34m\"non-zero flags not allowed in calls to recv_into() on %s\"\u001b[0m \u001b[1;33m%\u001b[0m\u001b[1;33m\u001b[0m\u001b[1;33m\u001b[0m\u001b[0m\n\u001b[0;32m   1070\u001b[0m                   self.__class__)\n\u001b[1;32m-> 1071\u001b[1;33m             \u001b[1;32mreturn\u001b[0m \u001b[0mself\u001b[0m\u001b[1;33m.\u001b[0m\u001b[0mread\u001b[0m\u001b[1;33m(\u001b[0m\u001b[0mnbytes\u001b[0m\u001b[1;33m,\u001b[0m \u001b[0mbuffer\u001b[0m\u001b[1;33m)\u001b[0m\u001b[1;33m\u001b[0m\u001b[1;33m\u001b[0m\u001b[0m\n\u001b[0m\u001b[0;32m   1072\u001b[0m         \u001b[1;32melse\u001b[0m\u001b[1;33m:\u001b[0m\u001b[1;33m\u001b[0m\u001b[1;33m\u001b[0m\u001b[0m\n\u001b[0;32m   1073\u001b[0m             \u001b[1;32mreturn\u001b[0m \u001b[0msuper\u001b[0m\u001b[1;33m(\u001b[0m\u001b[1;33m)\u001b[0m\u001b[1;33m.\u001b[0m\u001b[0mrecv_into\u001b[0m\u001b[1;33m(\u001b[0m\u001b[0mbuffer\u001b[0m\u001b[1;33m,\u001b[0m \u001b[0mnbytes\u001b[0m\u001b[1;33m,\u001b[0m \u001b[0mflags\u001b[0m\u001b[1;33m)\u001b[0m\u001b[1;33m\u001b[0m\u001b[1;33m\u001b[0m\u001b[0m\n",
      "\u001b[1;32m~\\AppData\\Local\\Programs\\Python\\Python37\\lib\\ssl.py\u001b[0m in \u001b[0;36mread\u001b[1;34m(self, len, buffer)\u001b[0m\n\u001b[0;32m    927\u001b[0m         \u001b[1;32mtry\u001b[0m\u001b[1;33m:\u001b[0m\u001b[1;33m\u001b[0m\u001b[1;33m\u001b[0m\u001b[0m\n\u001b[0;32m    928\u001b[0m             \u001b[1;32mif\u001b[0m \u001b[0mbuffer\u001b[0m \u001b[1;32mis\u001b[0m \u001b[1;32mnot\u001b[0m \u001b[1;32mNone\u001b[0m\u001b[1;33m:\u001b[0m\u001b[1;33m\u001b[0m\u001b[1;33m\u001b[0m\u001b[0m\n\u001b[1;32m--> 929\u001b[1;33m                 \u001b[1;32mreturn\u001b[0m \u001b[0mself\u001b[0m\u001b[1;33m.\u001b[0m\u001b[0m_sslobj\u001b[0m\u001b[1;33m.\u001b[0m\u001b[0mread\u001b[0m\u001b[1;33m(\u001b[0m\u001b[0mlen\u001b[0m\u001b[1;33m,\u001b[0m \u001b[0mbuffer\u001b[0m\u001b[1;33m)\u001b[0m\u001b[1;33m\u001b[0m\u001b[1;33m\u001b[0m\u001b[0m\n\u001b[0m\u001b[0;32m    930\u001b[0m             \u001b[1;32melse\u001b[0m\u001b[1;33m:\u001b[0m\u001b[1;33m\u001b[0m\u001b[1;33m\u001b[0m\u001b[0m\n\u001b[0;32m    931\u001b[0m                 \u001b[1;32mreturn\u001b[0m \u001b[0mself\u001b[0m\u001b[1;33m.\u001b[0m\u001b[0m_sslobj\u001b[0m\u001b[1;33m.\u001b[0m\u001b[0mread\u001b[0m\u001b[1;33m(\u001b[0m\u001b[0mlen\u001b[0m\u001b[1;33m)\u001b[0m\u001b[1;33m\u001b[0m\u001b[1;33m\u001b[0m\u001b[0m\n",
      "\u001b[1;31mKeyboardInterrupt\u001b[0m: "
     ]
    }
   ],
   "source": [
    "tokenizer = XLNetTokenizer.from_pretrained(MODEL_NAME)\n",
    "model = XLNetForQuestionAnswering.from_pretrained(MODEL_NAME)"
   ]
  },
  {
   "cell_type": "code",
   "execution_count": null,
   "id": "721ec22b",
   "metadata": {},
   "outputs": [],
   "source": [
    "model.eval()\n",
    "model.load_state_dict(torch.load(\"../input/savedbertmodelandtokenizer/model/pytorch_model.bin\",map_location=torch.device('cpu')) ,strict=False)"
   ]
  },
  {
   "cell_type": "code",
   "execution_count": null,
   "id": "2cf91a3a",
   "metadata": {},
   "outputs": [],
   "source": [
    "model.load_state_dict(torch.load(\"../input/savedbertmodelandtokenizer/model/pytorch_model.bin\""
   ]
  },
  {
   "cell_type": "code",
   "execution_count": null,
   "id": "cca5e5ae",
   "metadata": {},
   "outputs": [],
   "source": [
    "tokenizer = XLMTokenizer.from_pretrained('xlm-mlm-en-2048')\n",
    "        model = XLMForQuestionAnswering.from_pretrained('xlnet-large-cased')\n",
    "        input_ids = torch.tensor(tokenizer.encode(\"Hello, my dog is cute\")).unsqueeze(0)  # Batch size 1\n",
    "        start_positions = torch.tensor([1])\n",
    "        end_positions = torch.tensor([3])\n",
    "        outputs = model(input_ids, start_positions=start_positions, end_positions=end_positions)\n",
    "        loss, start_scores, end_scores = outputs[:2]"
   ]
  },
  {
   "cell_type": "code",
   "execution_count": 1,
   "id": "21729ea7",
   "metadata": {},
   "outputs": [
    {
     "ename": "ModuleNotFoundError",
     "evalue": "No module named 'bert'",
     "output_type": "error",
     "traceback": [
      "\u001b[1;31m---------------------------------------------------------------------------\u001b[0m",
      "\u001b[1;31mModuleNotFoundError\u001b[0m                       Traceback (most recent call last)",
      "\u001b[1;32mC:\\Users\\JAIGAT~1\\AppData\\Local\\Temp/ipykernel_15636/2547170335.py\u001b[0m in \u001b[0;36m<module>\u001b[1;34m\u001b[0m\n\u001b[1;32m----> 1\u001b[1;33m \u001b[1;32mfrom\u001b[0m \u001b[0mbert\u001b[0m \u001b[1;32mimport\u001b[0m \u001b[0mQA\u001b[0m\u001b[1;33m\u001b[0m\u001b[1;33m\u001b[0m\u001b[0m\n\u001b[0m",
      "\u001b[1;31mModuleNotFoundError\u001b[0m: No module named 'bert'"
     ]
    }
   ],
   "source": [
    "from bert import QA"
   ]
  },
  {
   "cell_type": "code",
   "execution_count": 8,
   "id": "69ae9303",
   "metadata": {},
   "outputs": [
    {
     "name": "stdout",
     "output_type": "stream",
     "text": [
      "empty\n",
      "dict_keys(['answer', 'start', 'end', 'confidence', 'document'])\n"
     ]
    }
   ],
   "source": [
    "from bert import QA\n",
    "\n",
    "model = QA(\"C:\\\\Users\\\\JaiGatiri\\\\Downloads\\\\BERT-SQuAD-master\\\\model-oldversion\")\n",
    "\n",
    "doc = (\"Scope defines the  process will be applicable for all referrals hired through the employee referral program, effective 1st October 2021.It covers all open positions in the Organization that would fall under Employee Referral Programme as announced by the Talent Acquisition Team and as approved by the Management.Special referral schemes catering to critical needs as announced by the Talent Acquisition Team and as approved by the management.\")\n",
    "\n",
    "q = ('Do yo have special referral schemes ?')\n",
    "\n",
    "answer = model.predict(doc,q)\n",
    "\n",
    "print(answer['answer'])\n",
    "# 1975\n",
    "print(answer.keys())"
   ]
  },
  {
   "cell_type": "code",
   "execution_count": 6,
   "id": "3a9ffed1",
   "metadata": {},
   "outputs": [
    {
     "ename": "SyntaxError",
     "evalue": "invalid syntax (Temp/ipykernel_3512/504374866.py, line 1)",
     "output_type": "error",
     "traceback": [
      "\u001b[1;36m  File \u001b[1;32m\"C:\\Users\\JAIGAT~1\\AppData\\Local\\Temp/ipykernel_3512/504374866.py\"\u001b[1;36m, line \u001b[1;32m1\u001b[0m\n\u001b[1;33m    python $SQUAD_DIR/evaluate-v1.1.py dev-v1.1.json ../models/wwm_uncased_finetuned_squad/predictions.json\u001b[0m\n\u001b[1;37m           ^\u001b[0m\n\u001b[1;31mSyntaxError\u001b[0m\u001b[1;31m:\u001b[0m invalid syntax\n"
     ]
    }
   ],
   "source": [
    "python $SQUAD_DIR/evaluate-v1.1.py dev-v1.1.json ../models/wwm_uncased_finetuned_squad/predictions.json\n",
    "{\"exact_match\": 86.91579943235573, \"f1\": 93.1532499015869}"
   ]
  },
  {
   "cell_type": "code",
   "execution_count": null,
   "id": "a5fa4ebb",
   "metadata": {},
   "outputs": [],
   "source": [
    "with open(r\"C:\\\\Users\\\\JaiGatiri\\\\Downloads\\\\test-er.json\", \"r\") as read_file:\n",
    "    test = json.load(read_file)"
   ]
  },
  {
   "cell_type": "code",
   "execution_count": 8,
   "id": "c4c3f1cf",
   "metadata": {},
   "outputs": [],
   "source": [
    "model = \"C:\\\\Users\\\\JaiGatiri\\\\Downloads\\\\BERT-SQuAD-master\\\\BERT-SQuAD-master\\\\model\""
   ]
  },
  {
   "cell_type": "code",
   "execution_count": 7,
   "id": "bfb91ab7",
   "metadata": {},
   "outputs": [
    {
     "name": "stdout",
     "output_type": "stream",
     "text": [
      "Collecting simpletransformers\n",
      "  Downloading simpletransformers-0.63.11-py3-none-any.whl (250 kB)\n",
      "     -------------------------------------- 250.7/250.7 kB 3.1 MB/s eta 0:00:00\n",
      "Requirement already satisfied: scikit-learn in c:\\users\\jaigatiri\\appdata\\local\\programs\\python\\python310\\lib\\site-packages (from simpletransformers) (1.2.2)\n",
      "Collecting seqeval\n",
      "  Using cached seqeval-1.2.2.tar.gz (43 kB)\n",
      "  Preparing metadata (setup.py): started\n",
      "  Preparing metadata (setup.py): finished with status 'done'\n",
      "Collecting sentencepiece\n",
      "  Using cached sentencepiece-0.1.99-cp310-cp310-win_amd64.whl (977 kB)\n",
      "Requirement already satisfied: pandas in c:\\users\\jaigatiri\\appdata\\local\\programs\\python\\python310\\lib\\site-packages (from simpletransformers) (1.5.3)\n",
      "Requirement already satisfied: transformers>=4.6.0 in c:\\users\\jaigatiri\\appdata\\local\\programs\\python\\python310\\lib\\site-packages (from simpletransformers) (4.29.2)\n",
      "Collecting tensorboard\n",
      "  Downloading tensorboard-2.13.0-py3-none-any.whl (5.6 MB)\n",
      "     ---------------------------------------- 5.6/5.6 MB 10.8 MB/s eta 0:00:00\n",
      "Requirement already satisfied: streamlit in c:\\users\\jaigatiri\\appdata\\local\\programs\\python\\python310\\lib\\site-packages (from simpletransformers) (1.21.0)\n",
      "Requirement already satisfied: requests in c:\\users\\jaigatiri\\appdata\\local\\programs\\python\\python310\\lib\\site-packages (from simpletransformers) (2.27.1)\n",
      "Requirement already satisfied: tokenizers in c:\\users\\jaigatiri\\appdata\\local\\programs\\python\\python310\\lib\\site-packages (from simpletransformers) (0.13.3)\n",
      "Collecting wandb>=0.10.32\n",
      "  Downloading wandb-0.15.5-py3-none-any.whl (2.1 MB)\n",
      "     ---------------------------------------- 2.1/2.1 MB 10.1 MB/s eta 0:00:00\n",
      "Requirement already satisfied: regex in c:\\users\\jaigatiri\\appdata\\local\\programs\\python\\python310\\lib\\site-packages (from simpletransformers) (2023.3.23)\n",
      "Collecting datasets\n",
      "  Downloading datasets-2.13.1-py3-none-any.whl (486 kB)\n",
      "     ------------------------------------- 486.2/486.2 kB 10.1 MB/s eta 0:00:00\n",
      "Requirement already satisfied: scipy in c:\\users\\jaigatiri\\appdata\\local\\programs\\python\\python310\\lib\\site-packages (from simpletransformers) (1.9.3)\n",
      "Requirement already satisfied: tqdm>=4.47.0 in c:\\users\\jaigatiri\\appdata\\local\\programs\\python\\python310\\lib\\site-packages (from simpletransformers) (4.64.1)\n",
      "Requirement already satisfied: numpy in c:\\users\\jaigatiri\\appdata\\local\\programs\\python\\python310\\lib\\site-packages (from simpletransformers) (1.23.5)\n",
      "Requirement already satisfied: colorama in c:\\users\\jaigatiri\\appdata\\local\\programs\\python\\python310\\lib\\site-packages (from tqdm>=4.47.0->simpletransformers) (0.4.6)\n",
      "Requirement already satisfied: filelock in c:\\users\\jaigatiri\\appdata\\local\\programs\\python\\python310\\lib\\site-packages (from transformers>=4.6.0->simpletransformers) (3.12.0)\n",
      "Requirement already satisfied: packaging>=20.0 in c:\\users\\jaigatiri\\appdata\\local\\programs\\python\\python310\\lib\\site-packages (from transformers>=4.6.0->simpletransformers) (23.0)\n",
      "Requirement already satisfied: huggingface-hub<1.0,>=0.14.1 in c:\\users\\jaigatiri\\appdata\\local\\programs\\python\\python310\\lib\\site-packages (from transformers>=4.6.0->simpletransformers) (0.15.1)\n",
      "Requirement already satisfied: pyyaml>=5.1 in c:\\users\\jaigatiri\\appdata\\local\\programs\\python\\python310\\lib\\site-packages (from transformers>=4.6.0->simpletransformers) (6.0)\n",
      "Collecting setproctitle\n",
      "  Downloading setproctitle-1.3.2-cp310-cp310-win_amd64.whl (11 kB)\n",
      "Requirement already satisfied: psutil>=5.0.0 in c:\\users\\jaigatiri\\appdata\\local\\programs\\python\\python310\\lib\\site-packages (from wandb>=0.10.32->simpletransformers) (5.9.5)\n",
      "Requirement already satisfied: appdirs>=1.4.3 in c:\\users\\jaigatiri\\appdata\\local\\programs\\python\\python310\\lib\\site-packages (from wandb>=0.10.32->simpletransformers) (1.4.4)\n",
      "Requirement already satisfied: GitPython!=3.1.29,>=1.0.0 in c:\\users\\jaigatiri\\appdata\\local\\programs\\python\\python310\\lib\\site-packages (from wandb>=0.10.32->simpletransformers) (3.1.31)\n",
      "Collecting sentry-sdk>=1.0.0\n",
      "  Downloading sentry_sdk-1.28.1-py2.py3-none-any.whl (214 kB)\n",
      "     ------------------------------------- 214.7/214.7 kB 12.8 MB/s eta 0:00:00\n",
      "Collecting pathtools\n",
      "  Using cached pathtools-0.1.2.tar.gz (11 kB)\n",
      "  Preparing metadata (setup.py): started\n",
      "  Preparing metadata (setup.py): finished with status 'done'\n",
      "Requirement already satisfied: protobuf!=4.21.0,<5,>=3.19.0 in c:\\users\\jaigatiri\\appdata\\local\\programs\\python\\python310\\lib\\site-packages (from wandb>=0.10.32->simpletransformers) (3.20.3)\n",
      "Collecting docker-pycreds>=0.4.0\n",
      "  Using cached docker_pycreds-0.4.0-py2.py3-none-any.whl (9.0 kB)\n",
      "Requirement already satisfied: Click!=8.0.0,>=7.1 in c:\\users\\jaigatiri\\appdata\\local\\programs\\python\\python310\\lib\\site-packages (from wandb>=0.10.32->simpletransformers) (8.1.3)\n",
      "Requirement already satisfied: setuptools in c:\\users\\jaigatiri\\appdata\\local\\programs\\python\\python310\\lib\\site-packages (from wandb>=0.10.32->simpletransformers) (62.3.4)\n",
      "Requirement already satisfied: charset-normalizer~=2.0.0 in c:\\users\\jaigatiri\\appdata\\local\\programs\\python\\python310\\lib\\site-packages (from requests->simpletransformers) (2.0.12)\n",
      "Requirement already satisfied: urllib3<1.27,>=1.21.1 in c:\\users\\jaigatiri\\appdata\\local\\programs\\python\\python310\\lib\\site-packages (from requests->simpletransformers) (1.26.15)\n",
      "Requirement already satisfied: certifi>=2017.4.17 in c:\\users\\jaigatiri\\appdata\\local\\programs\\python\\python310\\lib\\site-packages (from requests->simpletransformers) (2022.12.7)\n",
      "Requirement already satisfied: idna<4,>=2.5 in c:\\users\\jaigatiri\\appdata\\local\\programs\\python\\python310\\lib\\site-packages (from requests->simpletransformers) (3.4)\n",
      "Requirement already satisfied: aiohttp in c:\\users\\jaigatiri\\appdata\\local\\programs\\python\\python310\\lib\\site-packages (from datasets->simpletransformers) (3.8.4)\n",
      "Requirement already satisfied: dill<0.3.7,>=0.3.0 in c:\\users\\jaigatiri\\appdata\\local\\programs\\python\\python310\\lib\\site-packages (from datasets->simpletransformers) (0.3.6)\n",
      "Requirement already satisfied: pyarrow>=8.0.0 in c:\\users\\jaigatiri\\appdata\\local\\programs\\python\\python310\\lib\\site-packages (from datasets->simpletransformers) (11.0.0)\n",
      "Collecting multiprocess\n",
      "  Downloading multiprocess-0.70.14-py310-none-any.whl (134 kB)\n",
      "     -------------------------------------- 134.3/134.3 kB 7.8 MB/s eta 0:00:00\n",
      "Requirement already satisfied: fsspec[http]>=2021.11.1 in c:\\users\\jaigatiri\\appdata\\local\\programs\\python\\python310\\lib\\site-packages (from datasets->simpletransformers) (2023.4.0)\n",
      "Collecting xxhash\n",
      "  Downloading xxhash-3.2.0-cp310-cp310-win_amd64.whl (30 kB)\n",
      "Requirement already satisfied: python-dateutil>=2.8.1 in c:\\users\\jaigatiri\\appdata\\local\\programs\\python\\python310\\lib\\site-packages (from pandas->simpletransformers) (2.8.2)\n",
      "Requirement already satisfied: pytz>=2020.1 in c:\\users\\jaigatiri\\appdata\\local\\programs\\python\\python310\\lib\\site-packages (from pandas->simpletransformers) (2023.3)\n",
      "Requirement already satisfied: joblib>=1.1.1 in c:\\users\\jaigatiri\\appdata\\local\\programs\\python\\python310\\lib\\site-packages (from scikit-learn->simpletransformers) (1.2.0)\n",
      "Requirement already satisfied: threadpoolctl>=2.0.0 in c:\\users\\jaigatiri\\appdata\\local\\programs\\python\\python310\\lib\\site-packages (from scikit-learn->simpletransformers) (3.1.0)\n",
      "Requirement already satisfied: validators>=0.2 in c:\\users\\jaigatiri\\appdata\\local\\programs\\python\\python310\\lib\\site-packages (from streamlit->simpletransformers) (0.20.0)\n",
      "Requirement already satisfied: tornado>=6.0.3 in c:\\users\\jaigatiri\\appdata\\local\\programs\\python\\python310\\lib\\site-packages (from streamlit->simpletransformers) (6.3)\n",
      "Requirement already satisfied: watchdog in c:\\users\\jaigatiri\\appdata\\local\\programs\\python\\python310\\lib\\site-packages (from streamlit->simpletransformers) (2.1.9)\n",
      "Requirement already satisfied: pillow>=6.2.0 in c:\\users\\jaigatiri\\appdata\\local\\programs\\python\\python310\\lib\\site-packages (from streamlit->simpletransformers) (9.5.0)\n",
      "Requirement already satisfied: importlib-metadata>=1.4 in c:\\users\\jaigatiri\\appdata\\local\\programs\\python\\python310\\lib\\site-packages (from streamlit->simpletransformers) (6.5.0)\n",
      "Requirement already satisfied: pydeck>=0.1.dev5 in c:\\users\\jaigatiri\\appdata\\local\\programs\\python\\python310\\lib\\site-packages (from streamlit->simpletransformers) (0.8.1b0)\n",
      "Requirement already satisfied: tzlocal>=1.1 in c:\\users\\jaigatiri\\appdata\\local\\programs\\python\\python310\\lib\\site-packages (from streamlit->simpletransformers) (4.3)\n",
      "Requirement already satisfied: typing-extensions>=3.10.0.0 in c:\\users\\jaigatiri\\appdata\\local\\programs\\python\\python310\\lib\\site-packages (from streamlit->simpletransformers) (4.5.0)\n",
      "Requirement already satisfied: blinker>=1.0.0 in c:\\users\\jaigatiri\\appdata\\local\\programs\\python\\python310\\lib\\site-packages (from streamlit->simpletransformers) (1.6.2)\n",
      "Requirement already satisfied: toml in c:\\users\\jaigatiri\\appdata\\local\\programs\\python\\python310\\lib\\site-packages (from streamlit->simpletransformers) (0.10.2)\n",
      "Requirement already satisfied: cachetools>=4.0 in c:\\users\\jaigatiri\\appdata\\local\\programs\\python\\python310\\lib\\site-packages (from streamlit->simpletransformers) (5.3.0)\n",
      "Requirement already satisfied: rich>=10.11.0 in c:\\users\\jaigatiri\\appdata\\local\\programs\\python\\python310\\lib\\site-packages (from streamlit->simpletransformers) (13.3.4)\n",
      "Requirement already satisfied: pympler>=0.9 in c:\\users\\jaigatiri\\appdata\\local\\programs\\python\\python310\\lib\\site-packages (from streamlit->simpletransformers) (1.0.1)\n",
      "Requirement already satisfied: altair<5,>=3.2.0 in c:\\users\\jaigatiri\\appdata\\local\\programs\\python\\python310\\lib\\site-packages (from streamlit->simpletransformers) (4.2.2)\n",
      "Collecting markdown>=2.6.8\n",
      "  Downloading Markdown-3.4.3-py3-none-any.whl (93 kB)\n",
      "     ---------------------------------------- 93.9/93.9 kB ? eta 0:00:00\n",
      "Collecting google-auth-oauthlib<1.1,>=0.5\n",
      "  Downloading google_auth_oauthlib-1.0.0-py2.py3-none-any.whl (18 kB)\n",
      "Requirement already satisfied: wheel>=0.26 in c:\\users\\jaigatiri\\appdata\\local\\programs\\python\\python310\\lib\\site-packages (from tensorboard->simpletransformers) (0.40.0)\n",
      "Collecting grpcio>=1.48.2\n",
      "  Downloading grpcio-1.56.0-cp310-cp310-win_amd64.whl (4.2 MB)\n",
      "     ---------------------------------------- 4.2/4.2 MB 10.8 MB/s eta 0:00:00\n",
      "Collecting google-auth<3,>=1.6.3\n",
      "  Downloading google_auth-2.22.0-py2.py3-none-any.whl (181 kB)\n",
      "     -------------------------------------- 181.8/181.8 kB 5.4 MB/s eta 0:00:00\n",
      "Collecting absl-py>=0.4\n",
      "  Using cached absl_py-1.4.0-py3-none-any.whl (126 kB)\n",
      "Collecting tensorboard-data-server<0.8.0,>=0.7.0\n",
      "  Downloading tensorboard_data_server-0.7.1-py3-none-any.whl (2.4 kB)\n",
      "Requirement already satisfied: werkzeug>=1.0.1 in c:\\users\\jaigatiri\\appdata\\local\\programs\\python\\python310\\lib\\site-packages (from tensorboard->simpletransformers) (2.2.3)\n",
      "Requirement already satisfied: jinja2 in c:\\users\\jaigatiri\\appdata\\local\\programs\\python\\python310\\lib\\site-packages (from altair<5,>=3.2.0->streamlit->simpletransformers) (3.1.2)\n",
      "Requirement already satisfied: jsonschema>=3.0 in c:\\users\\jaigatiri\\appdata\\local\\programs\\python\\python310\\lib\\site-packages (from altair<5,>=3.2.0->streamlit->simpletransformers) (4.17.3)\n",
      "Requirement already satisfied: entrypoints in c:\\users\\jaigatiri\\appdata\\local\\programs\\python\\python310\\lib\\site-packages (from altair<5,>=3.2.0->streamlit->simpletransformers) (0.4)\n",
      "Requirement already satisfied: toolz in c:\\users\\jaigatiri\\appdata\\local\\programs\\python\\python310\\lib\\site-packages (from altair<5,>=3.2.0->streamlit->simpletransformers) (0.12.0)\n",
      "Requirement already satisfied: six>=1.4.0 in c:\\users\\jaigatiri\\appdata\\local\\programs\\python\\python310\\lib\\site-packages (from docker-pycreds>=0.4.0->wandb>=0.10.32->simpletransformers) (1.16.0)\n",
      "Requirement already satisfied: async-timeout<5.0,>=4.0.0a3 in c:\\users\\jaigatiri\\appdata\\local\\programs\\python\\python310\\lib\\site-packages (from aiohttp->datasets->simpletransformers) (4.0.2)\n",
      "Requirement already satisfied: frozenlist>=1.1.1 in c:\\users\\jaigatiri\\appdata\\local\\programs\\python\\python310\\lib\\site-packages (from aiohttp->datasets->simpletransformers) (1.3.3)\n",
      "Requirement already satisfied: attrs>=17.3.0 in c:\\users\\jaigatiri\\appdata\\local\\programs\\python\\python310\\lib\\site-packages (from aiohttp->datasets->simpletransformers) (22.2.0)\n",
      "Requirement already satisfied: yarl<2.0,>=1.0 in c:\\users\\jaigatiri\\appdata\\local\\programs\\python\\python310\\lib\\site-packages (from aiohttp->datasets->simpletransformers) (1.8.2)\n",
      "Requirement already satisfied: multidict<7.0,>=4.5 in c:\\users\\jaigatiri\\appdata\\local\\programs\\python\\python310\\lib\\site-packages (from aiohttp->datasets->simpletransformers) (6.0.4)\n",
      "Requirement already satisfied: aiosignal>=1.1.2 in c:\\users\\jaigatiri\\appdata\\local\\programs\\python\\python310\\lib\\site-packages (from aiohttp->datasets->simpletransformers) (1.3.1)\n",
      "Requirement already satisfied: gitdb<5,>=4.0.1 in c:\\users\\jaigatiri\\appdata\\local\\programs\\python\\python310\\lib\\site-packages (from GitPython!=3.1.29,>=1.0.0->wandb>=0.10.32->simpletransformers) (4.0.10)\n",
      "Collecting rsa<5,>=3.1.4\n",
      "  Using cached rsa-4.9-py3-none-any.whl (34 kB)\n",
      "Collecting pyasn1-modules>=0.2.1\n",
      "  Downloading pyasn1_modules-0.3.0-py2.py3-none-any.whl (181 kB)\n",
      "     ------------------------------------- 181.3/181.3 kB 11.4 MB/s eta 0:00:00\n",
      "Collecting requests-oauthlib>=0.7.0\n",
      "  Using cached requests_oauthlib-1.3.1-py2.py3-none-any.whl (23 kB)\n",
      "Requirement already satisfied: zipp>=0.5 in c:\\users\\jaigatiri\\appdata\\local\\programs\\python\\python310\\lib\\site-packages (from importlib-metadata>=1.4->streamlit->simpletransformers) (3.15.0)\n",
      "Requirement already satisfied: pygments<3.0.0,>=2.13.0 in c:\\users\\jaigatiri\\appdata\\local\\programs\\python\\python310\\lib\\site-packages (from rich>=10.11.0->streamlit->simpletransformers) (2.15.1)\n",
      "Requirement already satisfied: markdown-it-py<3.0.0,>=2.2.0 in c:\\users\\jaigatiri\\appdata\\local\\programs\\python\\python310\\lib\\site-packages (from rich>=10.11.0->streamlit->simpletransformers) (2.2.0)\n",
      "Requirement already satisfied: tzdata in c:\\users\\jaigatiri\\appdata\\local\\programs\\python\\python310\\lib\\site-packages (from tzlocal>=1.1->streamlit->simpletransformers) (2023.3)\n",
      "Requirement already satisfied: pytz-deprecation-shim in c:\\users\\jaigatiri\\appdata\\local\\programs\\python\\python310\\lib\\site-packages (from tzlocal>=1.1->streamlit->simpletransformers) (0.1.0.post0)\n",
      "Requirement already satisfied: decorator>=3.4.0 in c:\\users\\jaigatiri\\appdata\\local\\programs\\python\\python310\\lib\\site-packages (from validators>=0.2->streamlit->simpletransformers) (5.1.1)\n",
      "Requirement already satisfied: MarkupSafe>=2.1.1 in c:\\users\\jaigatiri\\appdata\\local\\programs\\python\\python310\\lib\\site-packages (from werkzeug>=1.0.1->tensorboard->simpletransformers) (2.1.2)\n",
      "Requirement already satisfied: smmap<6,>=3.0.1 in c:\\users\\jaigatiri\\appdata\\local\\programs\\python\\python310\\lib\\site-packages (from gitdb<5,>=4.0.1->GitPython!=3.1.29,>=1.0.0->wandb>=0.10.32->simpletransformers) (5.0.0)\n",
      "Requirement already satisfied: pyrsistent!=0.17.0,!=0.17.1,!=0.17.2,>=0.14.0 in c:\\users\\jaigatiri\\appdata\\local\\programs\\python\\python310\\lib\\site-packages (from jsonschema>=3.0->altair<5,>=3.2.0->streamlit->simpletransformers) (0.19.3)\n",
      "Requirement already satisfied: mdurl~=0.1 in c:\\users\\jaigatiri\\appdata\\local\\programs\\python\\python310\\lib\\site-packages (from markdown-it-py<3.0.0,>=2.2.0->rich>=10.11.0->streamlit->simpletransformers) (0.1.2)\n",
      "Collecting pyasn1<0.6.0,>=0.4.6\n",
      "  Downloading pyasn1-0.5.0-py2.py3-none-any.whl (83 kB)\n",
      "     ---------------------------------------- 83.9/83.9 kB 4.6 MB/s eta 0:00:00\n",
      "Collecting oauthlib>=3.0.0\n",
      "  Using cached oauthlib-3.2.2-py3-none-any.whl (151 kB)\n",
      "Building wheels for collected packages: seqeval, pathtools\n",
      "  Building wheel for seqeval (setup.py): started\n",
      "  Building wheel for seqeval (setup.py): finished with status 'done'\n",
      "  Created wheel for seqeval: filename=seqeval-1.2.2-py3-none-any.whl size=16190 sha256=a5e85c4c5cbf7279ee114c240852866bc37c72104cb056f547a67a2f97297c24\n",
      "  Stored in directory: c:\\users\\jaigatiri\\appdata\\local\\pip\\cache\\wheels\\ba\\ef\\95\\d29a28e6aefb85dae6cd361a97add9c6a3e3d00687b954d7a4\n",
      "  Building wheel for pathtools (setup.py): started\n",
      "  Building wheel for pathtools (setup.py): finished with status 'done'\n",
      "  Created wheel for pathtools: filename=pathtools-0.1.2-py3-none-any.whl size=8803 sha256=4b3ce791ea54ac4d926cc8fd6bc4c33080cc7de883cf6c26ffd74a9224945b4f\n",
      "  Stored in directory: c:\\users\\jaigatiri\\appdata\\local\\pip\\cache\\wheels\\44\\1b\\54\\249c94316d4e1030e2d0683fba1d8ea06197de866f5a4de738\n",
      "Successfully built seqeval pathtools\n",
      "Installing collected packages: sentencepiece, pathtools, xxhash, tensorboard-data-server, setproctitle, sentry-sdk, pyasn1, oauthlib, multiprocess, markdown, grpcio, docker-pycreds, absl-py, rsa, requests-oauthlib, pyasn1-modules, wandb, seqeval, google-auth, google-auth-oauthlib, datasets, tensorboard, simpletransformers\n",
      "Successfully installed absl-py-1.4.0 datasets-2.13.1 docker-pycreds-0.4.0 google-auth-2.22.0 google-auth-oauthlib-1.0.0 grpcio-1.56.0 markdown-3.4.3 multiprocess-0.70.14 oauthlib-3.2.2 pathtools-0.1.2 pyasn1-0.5.0 pyasn1-modules-0.3.0 requests-oauthlib-1.3.1 rsa-4.9 sentencepiece-0.1.99 sentry-sdk-1.28.1 seqeval-1.2.2 setproctitle-1.3.2 simpletransformers-0.63.11 tensorboard-2.13.0 tensorboard-data-server-0.7.1 wandb-0.15.5 xxhash-3.2.0\n"
     ]
    },
    {
     "name": "stderr",
     "output_type": "stream",
     "text": [
      "\n",
      "[notice] A new release of pip available: 22.3.1 -> 23.2\n",
      "[notice] To update, run: python.exe -m pip install --upgrade pip\n"
     ]
    }
   ],
   "source": [
    "!pip install simpletransformers"
   ]
  },
  {
   "cell_type": "code",
   "execution_count": 9,
   "id": "69093e7c",
   "metadata": {},
   "outputs": [
    {
     "ename": "AttributeError",
     "evalue": "'str' object has no attribute 'eval_model'",
     "output_type": "error",
     "traceback": [
      "\u001b[1;31m---------------------------------------------------------------------------\u001b[0m",
      "\u001b[1;31mAttributeError\u001b[0m                            Traceback (most recent call last)",
      "\u001b[1;32mC:\\Users\\JAIGAT~1\\AppData\\Local\\Temp/ipykernel_15092/3903567533.py\u001b[0m in \u001b[0;36m<module>\u001b[1;34m\u001b[0m\n\u001b[0;32m      1\u001b[0m \u001b[1;31m# Evaluate the model\u001b[0m\u001b[1;33m\u001b[0m\u001b[1;33m\u001b[0m\u001b[1;33m\u001b[0m\u001b[0m\n\u001b[1;32m----> 2\u001b[1;33m \u001b[0mresult\u001b[0m\u001b[1;33m,\u001b[0m \u001b[0mtexts\u001b[0m \u001b[1;33m=\u001b[0m \u001b[0mmodel\u001b[0m\u001b[1;33m.\u001b[0m\u001b[0meval_model\u001b[0m\u001b[1;33m(\u001b[0m\u001b[0mtest\u001b[0m\u001b[1;33m)\u001b[0m\u001b[1;33m\u001b[0m\u001b[1;33m\u001b[0m\u001b[0m\n\u001b[0m",
      "\u001b[1;31mAttributeError\u001b[0m: 'str' object has no attribute 'eval_model'"
     ]
    }
   ],
   "source": [
    "# Evaluate the model\n",
    "result, texts = model.eval_model(test)"
   ]
  },
  {
   "cell_type": "code",
   "execution_count": null,
   "id": "90e64c24",
   "metadata": {},
   "outputs": [],
   "source": [
    "python $SQUAD_DIR/evaluate-v1.1.py $SQUAD_DIR/dev-v1.1.json ../models/wwm_uncased_finetuned_squad/predictions.json\n",
    "{\"exact_match\": 86.91579943235573, \"f1\": 93.1532499015869}"
   ]
  },
  {
   "cell_type": "code",
   "execution_count": 9,
   "id": "3f407e0b",
   "metadata": {},
   "outputs": [
    {
     "name": "stderr",
     "output_type": "stream",
     "text": [
      "\n",
      "Usage:   \n",
      "  pip uninstall [options] <package> ...\n",
      "  pip uninstall [options] -r <requirements file> ...\n",
      "\n",
      "no such option: -f\n"
     ]
    }
   ],
   "source": [
    "!pip uninstall torch==1.2.0+cpu torchvision==0.4.0+cpu -f https://download.pytorch.org/whl/torch_stable.html"
   ]
  },
  {
   "cell_type": "code",
   "execution_count": 3,
   "id": "f3ed848c",
   "metadata": {},
   "outputs": [
    {
     "name": "stdout",
     "output_type": "stream",
     "text": [
      "Looking in links: https://download.pytorch.org/whl/torch_stable.html\n",
      "Collecting torch==1.6.0+cpu\n",
      "  Using cached https://download.pytorch.org/whl/cpu/torch-1.6.0%2Bcpu-cp37-cp37m-win_amd64.whl (167.7 MB)\n",
      "Collecting torchvision==0.7.0+cpu\n",
      "  Using cached https://download.pytorch.org/whl/cpu/torchvision-0.7.0%2Bcpu-cp37-cp37m-win_amd64.whl (362 kB)\n",
      "Requirement already satisfied: future in c:\\users\\jaigatiri\\appdata\\local\\programs\\python\\python37\\lib\\site-packages (from torch==1.6.0+cpu) (0.18.2)\n",
      "Requirement already satisfied: numpy in c:\\users\\jaigatiri\\appdata\\local\\programs\\python\\python37\\lib\\site-packages (from torch==1.6.0+cpu) (1.21.6)\n",
      "Requirement already satisfied: pillow>=4.1.1 in c:\\users\\jaigatiri\\appdata\\local\\programs\\python\\python37\\lib\\site-packages (from torchvision==0.7.0+cpu) (9.2.0)\n",
      "Installing collected packages: torch, torchvision\n",
      "  Attempting uninstall: torchvision\n",
      "    Found existing installation: torchvision 0.12.0\n",
      "    Uninstalling torchvision-0.12.0:\n",
      "      Successfully uninstalled torchvision-0.12.0\n",
      "Successfully installed torch-1.6.0+cpu torchvision-0.7.0+cpu\n",
      "Note: you may need to restart the kernel to use updated packages.\n"
     ]
    },
    {
     "name": "stderr",
     "output_type": "stream",
     "text": [
      "ERROR: pip's dependency resolver does not currently take into account all the packages that are installed. This behaviour is the source of the following dependency conflicts.\n",
      "easyocr 1.4.1 requires Pillow<8.3.0, but you have pillow 9.2.0 which is incompatible.\n",
      "\n",
      "[notice] A new release of pip available: 22.3 -> 23.2\n",
      "[notice] To update, run: c:\\users\\jaigatiri\\appdata\\local\\programs\\python\\python37\\python.exe -m pip install --upgrade pip\n"
     ]
    }
   ],
   "source": [
    "pip install torch==1.6.0+cpu torchvision==0.7.0+cpu -f https://download.pytorch.org/whl/torch_stable.html"
   ]
  },
  {
   "cell_type": "code",
   "execution_count": 5,
   "id": "d43ed605",
   "metadata": {},
   "outputs": [
    {
     "name": "stdout",
     "output_type": "stream",
     "text": [
      "c:\\users\\jaigatiri\\appdata\\local\\programs\\python\\python310\\lib\\site-packages\n"
     ]
    }
   ],
   "source": [
    "%cd c:\\users\\jaigatiri\\appdata\\local\\programs\\python\\python310\\lib\\site-packages"
   ]
  },
  {
   "cell_type": "code",
   "execution_count": 12,
   "id": "be16ac96",
   "metadata": {},
   "outputs": [
    {
     "name": "stdout",
     "output_type": "stream",
     "text": [
      "Requirement already satisfied: transformers in c:\\users\\jaigatiri\\appdata\\local\\programs\\python\\python310\\lib\\site-packages (4.29.2)\n",
      "Requirement already satisfied: filelock in c:\\users\\jaigatiri\\appdata\\local\\programs\\python\\python310\\lib\\site-packages (from transformers) (3.12.0)\n",
      "Requirement already satisfied: huggingface-hub<1.0,>=0.14.1 in c:\\users\\jaigatiri\\appdata\\local\\programs\\python\\python310\\lib\\site-packages (from transformers) (0.15.1)\n",
      "Requirement already satisfied: tokenizers!=0.11.3,<0.14,>=0.11.1 in c:\\users\\jaigatiri\\appdata\\local\\programs\\python\\python310\\lib\\site-packages (from transformers) (0.13.3)\n",
      "Requirement already satisfied: pyyaml>=5.1 in c:\\users\\jaigatiri\\appdata\\local\\programs\\python\\python310\\lib\\site-packages (from transformers) (6.0)\n",
      "Requirement already satisfied: requests in c:\\users\\jaigatiri\\appdata\\local\\programs\\python\\python310\\lib\\site-packages (from transformers) (2.27.1)\n",
      "Requirement already satisfied: packaging>=20.0 in c:\\users\\jaigatiri\\appdata\\local\\programs\\python\\python310\\lib\\site-packages (from transformers) (23.0)\n",
      "Requirement already satisfied: regex!=2019.12.17 in c:\\users\\jaigatiri\\appdata\\local\\programs\\python\\python310\\lib\\site-packages (from transformers) (2023.3.23)\n",
      "Requirement already satisfied: tqdm>=4.27 in c:\\users\\jaigatiri\\appdata\\local\\programs\\python\\python310\\lib\\site-packages (from transformers) (4.64.1)\n",
      "Requirement already satisfied: numpy>=1.17 in c:\\users\\jaigatiri\\appdata\\local\\programs\\python\\python310\\lib\\site-packages (from transformers) (1.23.5)\n",
      "Requirement already satisfied: fsspec in c:\\users\\jaigatiri\\appdata\\local\\programs\\python\\python310\\lib\\site-packages (from huggingface-hub<1.0,>=0.14.1->transformers) (2023.4.0)\n",
      "Requirement already satisfied: typing-extensions>=3.7.4.3 in c:\\users\\jaigatiri\\appdata\\local\\programs\\python\\python310\\lib\\site-packages (from huggingface-hub<1.0,>=0.14.1->transformers) (4.5.0)\n",
      "Requirement already satisfied: colorama in c:\\users\\jaigatiri\\appdata\\local\\programs\\python\\python310\\lib\\site-packages (from tqdm>=4.27->transformers) (0.4.6)\n",
      "Requirement already satisfied: idna<4,>=2.5 in c:\\users\\jaigatiri\\appdata\\local\\programs\\python\\python310\\lib\\site-packages (from requests->transformers) (3.4)\n",
      "Requirement already satisfied: urllib3<1.27,>=1.21.1 in c:\\users\\jaigatiri\\appdata\\local\\programs\\python\\python310\\lib\\site-packages (from requests->transformers) (1.26.15)\n",
      "Requirement already satisfied: certifi>=2017.4.17 in c:\\users\\jaigatiri\\appdata\\local\\programs\\python\\python310\\lib\\site-packages (from requests->transformers) (2022.12.7)\n",
      "Requirement already satisfied: charset-normalizer~=2.0.0 in c:\\users\\jaigatiri\\appdata\\local\\programs\\python\\python310\\lib\\site-packages (from requests->transformers) (2.0.12)\n"
     ]
    },
    {
     "name": "stderr",
     "output_type": "stream",
     "text": [
      "\n",
      "[notice] A new release of pip available: 22.3.1 -> 23.2\n",
      "[notice] To update, run: python.exe -m pip install --upgrade pip\n"
     ]
    }
   ],
   "source": [
    "!python -m pip install transformers"
   ]
  },
  {
   "cell_type": "code",
   "execution_count": 13,
   "id": "62e9372f",
   "metadata": {},
   "outputs": [],
   "source": [
    "import torch"
   ]
  },
  {
   "cell_type": "code",
   "execution_count": 14,
   "id": "d440641f",
   "metadata": {},
   "outputs": [
    {
     "data": {
      "text/plain": [
       "'1.6.0+cpu'"
      ]
     },
     "execution_count": 14,
     "metadata": {},
     "output_type": "execute_result"
    }
   ],
   "source": [
    "torch. __version__"
   ]
  },
  {
   "cell_type": "code",
   "execution_count": 8,
   "id": "084ef3e3",
   "metadata": {},
   "outputs": [],
   "source": [
    "model_path = 'C:/Users/JaiGatiri/Documents/cdqa-pred/cdQA/squad-2.0-model'"
   ]
  },
  {
   "cell_type": "code",
   "execution_count": 18,
   "id": "2feb3d34",
   "metadata": {},
   "outputs": [
    {
     "name": "stdout",
     "output_type": "stream",
     "text": [
      "C:\\Users\\JaiGatiri\\Documents\\cdqa-pred\\BERT-SQuAD-master-jai\\model-oldversion\n"
     ]
    }
   ],
   "source": [
    "cd C:\\Users\\JaiGatiri\\Documents\\cdqa-pred\\BERT-SQuAD-master-jai\\model-oldversion\\"
   ]
  },
  {
   "cell_type": "code",
   "execution_count": 19,
   "id": "8ac02e2b",
   "metadata": {
    "scrolled": false
   },
   "outputs": [
    {
     "ename": "ModuleNotFoundError",
     "evalue": "No module named 'pytorch_transformers'",
     "output_type": "error",
     "traceback": [
      "\u001b[1;31m---------------------------------------------------------------------------\u001b[0m",
      "\u001b[1;31mModuleNotFoundError\u001b[0m                       Traceback (most recent call last)",
      "\u001b[1;32mC:\\Users\\JAIGAT~1\\AppData\\Local\\Temp/ipykernel_6256/2465633280.py\u001b[0m in \u001b[0;36m<module>\u001b[1;34m\u001b[0m\n\u001b[1;32m----> 1\u001b[1;33m \u001b[1;32mfrom\u001b[0m \u001b[0mbert\u001b[0m \u001b[1;32mimport\u001b[0m \u001b[0mQA\u001b[0m\u001b[1;33m\u001b[0m\u001b[1;33m\u001b[0m\u001b[0m\n\u001b[0m\u001b[0;32m      2\u001b[0m \u001b[1;32mfrom\u001b[0m \u001b[0mpathlib\u001b[0m \u001b[1;32mimport\u001b[0m \u001b[0mPath\u001b[0m\u001b[1;33m\u001b[0m\u001b[1;33m\u001b[0m\u001b[0m\n\u001b[0;32m      3\u001b[0m \u001b[1;33m\u001b[0m\u001b[0m\n\u001b[0;32m      4\u001b[0m \u001b[0mmodel\u001b[0m \u001b[1;33m=\u001b[0m \u001b[0mQA\u001b[0m\u001b[1;33m(\u001b[0m\u001b[1;34m\"model-oldversion\"\u001b[0m\u001b[1;33m)\u001b[0m\u001b[1;33m\u001b[0m\u001b[1;33m\u001b[0m\u001b[0m\n\u001b[0;32m      5\u001b[0m \u001b[1;33m\u001b[0m\u001b[0m\n",
      "\u001b[1;32m~\\Documents\\cdqa-pred\\BERT-SQuAD-master-jai\\bert.py\u001b[0m in \u001b[0;36m<module>\u001b[1;34m\u001b[0m\n\u001b[0;32m      7\u001b[0m \u001b[1;32mimport\u001b[0m \u001b[0mnumpy\u001b[0m \u001b[1;32mas\u001b[0m \u001b[0mnp\u001b[0m\u001b[1;33m\u001b[0m\u001b[1;33m\u001b[0m\u001b[0m\n\u001b[0;32m      8\u001b[0m \u001b[1;32mimport\u001b[0m \u001b[0mtorch\u001b[0m\u001b[1;33m\u001b[0m\u001b[1;33m\u001b[0m\u001b[0m\n\u001b[1;32m----> 9\u001b[1;33m from pytorch_transformers import( WEIGHTS_NAME, XLNetConfig,\n\u001b[0m\u001b[0;32m     10\u001b[0m                                   XLNetForQuestionAnswering, XLNetTokenizer)\n\u001b[0;32m     11\u001b[0m \u001b[1;32mfrom\u001b[0m \u001b[0mtorch\u001b[0m\u001b[1;33m.\u001b[0m\u001b[0mutils\u001b[0m\u001b[1;33m.\u001b[0m\u001b[0mdata\u001b[0m \u001b[1;32mimport\u001b[0m \u001b[0mDataLoader\u001b[0m\u001b[1;33m,\u001b[0m \u001b[0mSequentialSampler\u001b[0m\u001b[1;33m,\u001b[0m \u001b[0mTensorDataset\u001b[0m\u001b[1;33m\u001b[0m\u001b[1;33m\u001b[0m\u001b[0m\n",
      "\u001b[1;31mModuleNotFoundError\u001b[0m: No module named 'pytorch_transformers'"
     ]
    }
   ],
   "source": [
    "from bert import QA\n",
    "from pathlib import Path\n",
    "\n",
    "model = QA(\"model-oldversion\")\n",
    "\n",
    "doc = \"GENERAL ADMINISTRATIVE MATTERS sections includes Working hours which describes The work hours of the Employee shall be from 09:00 AM to 06:30 PM for General Shift.The COMPANY shall have the authority to change the time schedule and shall be intimated to the Employee in advance.Working hours shorter than 04:00 shall be considered as Half Day for the purpose of wages.\"\n",
    "q = 'what are the work hours of employees?'\n",
    "\n",
    "answer = model.predict(doc,q)\n",
    "\n",
    "print(answer['answer'])\n",
    "# 1975\n",
    "print(answer.keys())"
   ]
  },
  {
   "cell_type": "code",
   "execution_count": 10,
   "id": "b744e0b0",
   "metadata": {},
   "outputs": [
    {
     "name": "stdout",
     "output_type": "stream",
     "text": [
      "C:\\Users\\JaiGatiri\\Documents\\cdqa-pred\\BERT-SQuAD-master-jai\\transformers\n"
     ]
    }
   ],
   "source": [
    "%cd C:\\Users\\JaiGatiri\\Documents\\cdqa-pred\\BERT-SQuAD-master-jai\\transformers"
   ]
  },
  {
   "cell_type": "code",
   "execution_count": 9,
   "id": "4f719b09",
   "metadata": {},
   "outputs": [
    {
     "name": "stdout",
     "output_type": "stream",
     "text": [
      "Obtaining file:///C:/Users/JaiGatiri/Downloads/BERT-SQuAD-master/transformers\n",
      "  Preparing metadata (setup.py): started\n",
      "  Preparing metadata (setup.py): finished with status 'done'\n",
      "Requirement already satisfied: numpy in e:\\entity_extraction_combined_model\\venv\\lib\\site-packages (from transformers==2.1.1) (1.21.5)\n",
      "Requirement already satisfied: boto3 in e:\\entity_extraction_combined_model\\venv\\lib\\site-packages (from transformers==2.1.1) (1.26.93)\n",
      "Requirement already satisfied: requests in e:\\entity_extraction_combined_model\\venv\\lib\\site-packages (from transformers==2.1.1) (2.28.2)\n",
      "Requirement already satisfied: tqdm in e:\\entity_extraction_combined_model\\venv\\lib\\site-packages (from transformers==2.1.1) (4.62.3)\n",
      "Requirement already satisfied: regex in e:\\entity_extraction_combined_model\\venv\\lib\\site-packages (from transformers==2.1.1) (2021.11.10)\n",
      "Requirement already satisfied: sentencepiece in e:\\entity_extraction_combined_model\\venv\\lib\\site-packages (from transformers==2.1.1) (0.1.91)\n",
      "Requirement already satisfied: sacremoses in e:\\entity_extraction_combined_model\\venv\\lib\\site-packages (from transformers==2.1.1) (0.0.46)\n",
      "Requirement already satisfied: jmespath<2.0.0,>=0.7.1 in e:\\entity_extraction_combined_model\\venv\\lib\\site-packages (from boto3->transformers==2.1.1) (1.0.1)\n",
      "Requirement already satisfied: s3transfer<0.7.0,>=0.6.0 in e:\\entity_extraction_combined_model\\venv\\lib\\site-packages (from boto3->transformers==2.1.1) (0.6.0)\n",
      "Requirement already satisfied: botocore<1.30.0,>=1.29.93 in e:\\entity_extraction_combined_model\\venv\\lib\\site-packages (from boto3->transformers==2.1.1) (1.29.93)\n",
      "Requirement already satisfied: urllib3<1.27,>=1.21.1 in e:\\entity_extraction_combined_model\\venv\\lib\\site-packages (from requests->transformers==2.1.1) (1.26.15)\n",
      "Requirement already satisfied: idna<4,>=2.5 in e:\\entity_extraction_combined_model\\venv\\lib\\site-packages (from requests->transformers==2.1.1) (3.3)\n",
      "Requirement already satisfied: charset-normalizer<4,>=2 in e:\\entity_extraction_combined_model\\venv\\lib\\site-packages (from requests->transformers==2.1.1) (2.0.9)\n",
      "Requirement already satisfied: certifi>=2017.4.17 in e:\\entity_extraction_combined_model\\venv\\lib\\site-packages (from requests->transformers==2.1.1) (2021.10.8)\n",
      "Requirement already satisfied: six in e:\\entity_extraction_combined_model\\venv\\lib\\site-packages (from sacremoses->transformers==2.1.1) (1.16.0)\n",
      "Requirement already satisfied: click in e:\\entity_extraction_combined_model\\venv\\lib\\site-packages (from sacremoses->transformers==2.1.1) (8.1.3)\n",
      "Requirement already satisfied: joblib in e:\\entity_extraction_combined_model\\venv\\lib\\site-packages (from sacremoses->transformers==2.1.1) (1.1.0)\n",
      "Requirement already satisfied: colorama in e:\\entity_extraction_combined_model\\venv\\lib\\site-packages (from tqdm->transformers==2.1.1) (0.4.4)\n",
      "Requirement already satisfied: python-dateutil<3.0.0,>=2.1 in e:\\entity_extraction_combined_model\\venv\\lib\\site-packages (from botocore<1.30.0,>=1.29.93->boto3->transformers==2.1.1) (2.8.2)\n",
      "Requirement already satisfied: importlib-metadata in e:\\entity_extraction_combined_model\\venv\\lib\\site-packages (from click->sacremoses->transformers==2.1.1) (4.10.0)\n",
      "Requirement already satisfied: zipp>=0.5 in e:\\entity_extraction_combined_model\\venv\\lib\\site-packages (from importlib-metadata->click->sacremoses->transformers==2.1.1) (3.6.0)\n",
      "Requirement already satisfied: typing-extensions>=3.6.4 in e:\\entity_extraction_combined_model\\venv\\lib\\site-packages (from importlib-metadata->click->sacremoses->transformers==2.1.1) (4.5.0)\n",
      "Installing collected packages: transformersNote: you may need to restart the kernel to use updated packages.\n",
      "  Attempting uninstall: transformers\n",
      "    Found existing installation: transformers 4.28.0.dev0\n",
      "    Uninstalling transformers-4.28.0.dev0:\n",
      "      Successfully uninstalled transformers-4.28.0.dev0\n",
      "  Running setup.py develop for transformers\n",
      "Successfully installed transformers-2.1.1\n"
     ]
    },
    {
     "name": "stderr",
     "output_type": "stream",
     "text": [
      "WARNING: Ignoring invalid distribution -orch (e:\\entity_extraction_combined_model\\venv\\lib\\site-packages)\n",
      "WARNING: Ignoring invalid distribution -orch (e:\\entity_extraction_combined_model\\venv\\lib\\site-packages)\n",
      "  WARNING: Ignoring invalid distribution -orch (e:\\entity_extraction_combined_model\\venv\\lib\\site-packages)\n",
      "WARNING: Ignoring invalid distribution -orch (e:\\entity_extraction_combined_model\\venv\\lib\\site-packages)\n",
      "    WARNING: Ignoring invalid distribution -orch (e:\\entity_extraction_combined_model\\venv\\lib\\site-packages)\n",
      "WARNING: Ignoring invalid distribution -orch (e:\\entity_extraction_combined_model\\venv\\lib\\site-packages)\n",
      "WARNING: Ignoring invalid distribution -orch (e:\\entity_extraction_combined_model\\venv\\lib\\site-packages)\n",
      "ERROR: pip's dependency resolver does not currently take into account all the packages that are installed. This behaviour is the source of the following dependency conflicts.\n",
      "spacy-transformers 1.1.3 requires transformers<4.13.0,>=3.4.0, but you have transformers 2.1.1 which is incompatible.\n",
      "simpletransformers 0.63.9 requires transformers>=4.6.0, but you have transformers 2.1.1 which is incompatible.\n",
      "WARNING: Ignoring invalid distribution -orch (e:\\entity_extraction_combined_model\\venv\\lib\\site-packages)\n",
      "WARNING: Ignoring invalid distribution -orch (e:\\entity_extraction_combined_model\\venv\\lib\\site-packages)\n",
      "WARNING: Ignoring invalid distribution -orch (e:\\entity_extraction_combined_model\\venv\\lib\\site-packages)\n",
      "WARNING: You are using pip version 21.3.1; however, version 23.0.1 is available.\n",
      "You should consider upgrading via the 'e:\\entity_extraction_combined_model\\venv\\scripts\\python.exe -m pip install --upgrade pip' command.\n"
     ]
    },
    {
     "name": "stdout",
     "output_type": "stream",
     "text": [
      "\n"
     ]
    }
   ],
   "source": [
    "pip install -e ."
   ]
  },
  {
   "cell_type": "code",
   "execution_count": 7,
   "id": "6430242e",
   "metadata": {},
   "outputs": [
    {
     "ename": "SyntaxError",
     "evalue": "invalid syntax (Temp/ipykernel_15284/675483100.py, line 1)",
     "output_type": "error",
     "traceback": [
      "\u001b[1;36m  File \u001b[1;32m\"C:\\Users\\JAIGAT~1\\AppData\\Local\\Temp/ipykernel_15284/675483100.py\"\u001b[1;36m, line \u001b[1;32m1\u001b[0m\n\u001b[1;33m    export SQUAD_DIR=C:\\Users\\JaiGatiri\\Downloads\\BERT-SQuAD-master\u001b[0m\n\u001b[1;37m                   ^\u001b[0m\n\u001b[1;31mSyntaxError\u001b[0m\u001b[1;31m:\u001b[0m invalid syntax\n"
     ]
    }
   ],
   "source": [
    "export SQUAD_DIR=C:\\Users\\JaiGatiri\\Downloads\\BERT-SQuAD-master"
   ]
  },
  {
   "cell_type": "code",
   "execution_count": 1,
   "id": "9407f17b",
   "metadata": {},
   "outputs": [
    {
     "name": "stdout",
     "output_type": "stream",
     "text": [
      "C:\\Users\\JaiGatiri\\Downloads\\BERT-SQuAD-master\\transformers\n"
     ]
    }
   ],
   "source": [
    "%cd C:\\Users\\JaiGatiri\\Downloads\\BERT-SQuAD-master\\transformers"
   ]
  },
  {
   "cell_type": "code",
   "execution_count": 26,
   "id": "0751f756",
   "metadata": {},
   "outputs": [
    {
     "ename": "NameError",
     "evalue": "name 'python_version' is not defined",
     "output_type": "error",
     "traceback": [
      "\u001b[1;31m---------------------------------------------------------------------------\u001b[0m",
      "\u001b[1;31mNameError\u001b[0m                                 Traceback (most recent call last)",
      "\u001b[1;32mC:\\Users\\JAIGAT~1\\AppData\\Local\\Temp/ipykernel_15284/187840797.py\u001b[0m in \u001b[0;36m<module>\u001b[1;34m\u001b[0m\n\u001b[1;32m----> 1\u001b[1;33m \u001b[0mpython_version\u001b[0m\u001b[1;33m(\u001b[0m\u001b[1;33m)\u001b[0m\u001b[1;33m\u001b[0m\u001b[1;33m\u001b[0m\u001b[0m\n\u001b[0m",
      "\u001b[1;31mNameError\u001b[0m: name 'python_version' is not defined"
     ]
    }
   ],
   "source": [
    "python_version()"
   ]
  },
  {
   "cell_type": "code",
   "execution_count": 3,
   "id": "afcf0dbd",
   "metadata": {},
   "outputs": [],
   "source": [
    "from platform import python_version"
   ]
  },
  {
   "cell_type": "code",
   "execution_count": 4,
   "id": "e42849b7",
   "metadata": {},
   "outputs": [
    {
     "data": {
      "text/plain": [
       "'3.7.9'"
      ]
     },
     "execution_count": 4,
     "metadata": {},
     "output_type": "execute_result"
    }
   ],
   "source": [
    "python_version()"
   ]
  },
  {
   "cell_type": "code",
   "execution_count": 12,
   "id": "d9289d61",
   "metadata": {},
   "outputs": [
    {
     "name": "stdout",
     "output_type": "stream",
     "text": [
      "^C\n"
     ]
    }
   ],
   "source": [
    "!python C:\\Users\\JaiGatiri\\Downloads\\BERT-SQuAD-master\\transformers\\examples\\run_squad.py \\\n",
    "    --model_type xlnet \\\n",
    "    --model_name_or_path xlnet-large-cased \\\n",
    "    --do_train \\\n",
    "    --do_eval \\\n",
    "    --do_lower_case \\\n",
    "    --train_file C:\\Users\\JaiGatiri\\Downloads\\BERT-SQuAD-master\\all_3docs_annotn_cdqa.json \\\n",
    "    --predict_file C:\\Users\\JaiGatiri\\Downloa1s\\BERT-SQuAD-master\\test-er.json \\\n",
    "    --learning_rate 3e-5 \\\n",
    "    --num_train_epochs 1 \\\n",
    "    --max_seq_length 384 \\\n",
    "    --doc_stride 128 \\\n",
    "    --output_dir C:\\Users\\JaiGatiri\\Downloads\\BERT-SQuAD-master\\wwm_cased_finetuned_squad \\\n",
    "    --per_gpu_eval_batch_size  \\\n",
    "    --per_gpu_train_batch_size=64"
   ]
  },
  {
   "cell_type": "code",
   "execution_count": 1,
   "id": "faa3de15",
   "metadata": {},
   "outputs": [
    {
     "name": "stdout",
     "output_type": "stream",
     "text": [
      "C:\\Users\\JaiGatiri\\Downloads\\transformers-main\n"
     ]
    }
   ],
   "source": [
    "%cd \"C:\\Users\\JaiGatiri\\Downloads\\transformers-main\\\""
   ]
  },
  {
   "cell_type": "code",
   "execution_count": 15,
   "id": "40eb8bb3",
   "metadata": {},
   "outputs": [
    {
     "name": "stdout",
     "output_type": "stream",
     "text": [
      "Obtaining file:///C:/Users/JaiGatiri/Downloads/transformers-main\n",
      "  Installing build dependencies: started\n",
      "  Installing build dependencies: finished with status 'done'\n",
      "  Checking if build backend supports build_editable: started\n",
      "  Checking if build backend supports build_editable: finished with status 'done'\n",
      "  Getting requirements to build editable: started\n",
      "  Getting requirements to build editable: finished with status 'done'\n",
      "  Preparing editable metadata (pyproject.toml): started\n",
      "  Preparing editable metadata (pyproject.toml): finished with status 'done'\n",
      "Requirement already satisfied: packaging>=20.0 in e:\\entity_extraction_combined_model\\venv\\lib\\site-packages (from transformers==4.28.0.dev0) (21.3)\n",
      "Requirement already satisfied: importlib-metadata in e:\\entity_extraction_combined_model\\venv\\lib\\site-packages (from transformers==4.28.0.dev0) (4.10.0)\n",
      "Requirement already satisfied: requests in e:\\entity_extraction_combined_model\\venv\\lib\\site-packages (from transformers==4.28.0.dev0) (2.28.2)\n",
      "Requirement already satisfied: tqdm>=4.27 in e:\\entity_extraction_combined_model\\venv\\lib\\site-packages (from transformers==4.28.0.dev0) (4.62.3)\n",
      "Requirement already satisfied: tokenizers!=0.11.3,<0.14,>=0.11.1 in e:\\entity_extraction_combined_model\\venv\\lib\\site-packages (from transformers==4.28.0.dev0) (0.13.2)\n",
      "Requirement already satisfied: huggingface-hub<1.0,>=0.11.0 in e:\\entity_extraction_combined_model\\venv\\lib\\site-packages (from transformers==4.28.0.dev0) (0.13.2)\n",
      "Requirement already satisfied: pyyaml>=5.1 in e:\\entity_extraction_combined_model\\venv\\lib\\site-packages (from transformers==4.28.0.dev0) (6.0)\n",
      "Requirement already satisfied: filelock in e:\\entity_extraction_combined_model\\venv\\lib\\site-packages (from transformers==4.28.0.dev0) (3.4.2)\n",
      "Requirement already satisfied: regex!=2019.12.17 in e:\\entity_extraction_combined_model\\venv\\lib\\site-packages (from transformers==4.28.0.dev0) (2021.11.10)\n",
      "Requirement already satisfied: numpy>=1.17 in e:\\entity_extraction_combined_model\\venv\\lib\\site-packages (from transformers==4.28.0.dev0) (1.21.5)\n",
      "Requirement already satisfied: typing-extensions>=3.7.4.3 in e:\\entity_extraction_combined_model\\venv\\lib\\site-packages (from huggingface-hub<1.0,>=0.11.0->transformers==4.28.0.dev0) (4.5.0)\n",
      "Requirement already satisfied: pyparsing!=3.0.5,>=2.0.2 in e:\\entity_extraction_combined_model\\venv\\lib\\site-packages (from packaging>=20.0->transformers==4.28.0.dev0) (3.0.6)\n",
      "Requirement already satisfied: colorama in e:\\entity_extraction_combined_model\\venv\\lib\\site-packages (from tqdm>=4.27->transformers==4.28.0.dev0) (0.4.4)\n",
      "Requirement already satisfied: zipp>=0.5 in e:\\entity_extraction_combined_model\\venv\\lib\\site-packages (from importlib-metadata->transformers==4.28.0.dev0) (3.6.0)\n",
      "Requirement already satisfied: idna<4,>=2.5 in e:\\entity_extraction_combined_model\\venv\\lib\\site-packages (from requests->transformers==4.28.0.dev0) (3.3)\n",
      "Requirement already satisfied: certifi>=2017.4.17 in e:\\entity_extraction_combined_model\\venv\\lib\\site-packages (from requests->transformers==4.28.0.dev0) (2021.10.8)\n",
      "Requirement already satisfied: charset-normalizer<4,>=2 in e:\\entity_extraction_combined_model\\venv\\lib\\site-packages (from requests->transformers==4.28.0.dev0) (2.0.9)\n",
      "Requirement already satisfied: urllib3<1.27,>=1.21.1 in e:\\entity_extraction_combined_model\\venv\\lib\\site-packages (from requests->transformers==4.28.0.dev0) (1.26.15)\n",
      "Building wheels for collected packages: transformers\n",
      "  Building editable for transformers (pyproject.toml): started\n",
      "  Building editable for transformers (pyproject.toml): finished with status 'done'\n",
      "  Created wheel for transformers: filename=transformers-4.28.0.dev0-0.editable-py3-none-any.whl size=34850 sha256=e7fb5f1cdd1140f3792cd9bb388969b0abe920b629d172808e2e7202f287b219\n",
      "  Stored in directory: C:\\Users\\JAIGAT~1\\AppData\\Local\\Temp\\pip-ephem-wheel-cache-4tljuda0\\wheels\\b5\\06\\50\\94ba15c6b8b2a765280ec91650048f2fa07f25a2fdc8925f3b\n",
      "Successfully built transformers\n",
      "Installing collected packages: transformers\n",
      "  Attempting uninstall: transformers\n",
      "    Found existing installation: transformers 2.1.1\n",
      "    Uninstalling transformers-2.1.1:\n",
      "      Successfully uninstalled transformers-2.1.1\n",
      "Successfully installed transformers-4.28.0.dev0\n"
     ]
    },
    {
     "name": "stderr",
     "output_type": "stream",
     "text": [
      "WARNING: Ignoring invalid distribution -orch (e:\\entity_extraction_combined_model\\venv\\lib\\site-packages)\n",
      "WARNING: Ignoring invalid distribution -orch (e:\\entity_extraction_combined_model\\venv\\lib\\site-packages)\n",
      "  WARNING: Ignoring invalid distribution -orch (e:\\entity_extraction_combined_model\\venv\\lib\\site-packages)\n",
      "WARNING: Ignoring invalid distribution -orch (e:\\entity_extraction_combined_model\\venv\\lib\\site-packages)\n",
      "    WARNING: Ignoring invalid distribution -orch (e:\\entity_extraction_combined_model\\venv\\lib\\site-packages)\n",
      "WARNING: Ignoring invalid distribution -orch (e:\\entity_extraction_combined_model\\venv\\lib\\site-packages)\n",
      "ERROR: pip's dependency resolver does not currently take into account all the packages that are installed. This behaviour is the source of the following dependency conflicts.\n",
      "spacy-transformers 1.1.3 requires transformers<4.13.0,>=3.4.0, but you have transformers 4.28.0.dev0 which is incompatible.\n",
      "WARNING: Ignoring invalid distribution -orch (e:\\entity_extraction_combined_model\\venv\\lib\\site-packages)\n",
      "WARNING: Ignoring invalid distribution -orch (e:\\entity_extraction_combined_model\\venv\\lib\\site-packages)\n",
      "WARNING: Ignoring invalid distribution -orch (e:\\entity_extraction_combined_model\\venv\\lib\\site-packages)\n",
      "WARNING: You are using pip version 21.3.1; however, version 23.0.1 is available.\n",
      "You should consider upgrading via the 'e:\\entity_extraction_combined_model\\venv\\scripts\\python.exe -m pip install --upgrade pip' command.\n"
     ]
    }
   ],
   "source": [
    "!pip install -e ."
   ]
  },
  {
   "cell_type": "code",
   "execution_count": 1,
   "id": "c3716dda",
   "metadata": {},
   "outputs": [],
   "source": [
    "import os\n",
    "import torch\n",
    "import time\n",
    "from torch.utils.data import DataLoader, RandomSampler, SequentialSampler"
   ]
  },
  {
   "cell_type": "code",
   "execution_count": 3,
   "id": "5d069a1f",
   "metadata": {},
   "outputs": [],
   "source": [
    "from transformers import (\n",
    "    XLNetConfig,\n",
    "    XLNetForQuestionAnswering,\n",
    "    XLNetTokenizer,\n",
    "    squad_convert_examples_to_features)"
   ]
  },
  {
   "cell_type": "code",
   "execution_count": 4,
   "id": "a945df23",
   "metadata": {},
   "outputs": [],
   "source": [
    "from transformers.data.processors.squad import SquadResult, SquadV2Processor, SquadExample\n",
    "\n",
    "from transformers.data.metrics.squad_metrics import compute_predictions_logits"
   ]
  },
  {
   "cell_type": "code",
   "execution_count": 13,
   "id": "45602f9c",
   "metadata": {},
   "outputs": [
    {
     "ename": "ImportError",
     "evalue": "cannot import name 'squad_convert_examples_to_features' from 'transformers' (c:\\users\\jaigatiri\\downloads\\bert-squad-master\\transformers\\transformers\\__init__.py)",
     "output_type": "error",
     "traceback": [
      "\u001b[1;31m---------------------------------------------------------------------------\u001b[0m",
      "\u001b[1;31mImportError\u001b[0m                               Traceback (most recent call last)",
      "\u001b[1;32mC:\\Users\\JAIGAT~1\\AppData\\Local\\Temp/ipykernel_10964/3114846748.py\u001b[0m in \u001b[0;36m<module>\u001b[1;34m\u001b[0m\n\u001b[0;32m      4\u001b[0m \u001b[1;32mfrom\u001b[0m \u001b[0mtorch\u001b[0m\u001b[1;33m.\u001b[0m\u001b[0mutils\u001b[0m\u001b[1;33m.\u001b[0m\u001b[0mdata\u001b[0m \u001b[1;32mimport\u001b[0m \u001b[0mDataLoader\u001b[0m\u001b[1;33m,\u001b[0m \u001b[0mRandomSampler\u001b[0m\u001b[1;33m,\u001b[0m \u001b[0mSequentialSampler\u001b[0m\u001b[1;33m\u001b[0m\u001b[1;33m\u001b[0m\u001b[0m\n\u001b[0;32m      5\u001b[0m \u001b[1;33m\u001b[0m\u001b[0m\n\u001b[1;32m----> 6\u001b[1;33m from transformers import (\n\u001b[0m\u001b[0;32m      7\u001b[0m     \u001b[0mXLNetConfig\u001b[0m\u001b[1;33m,\u001b[0m\u001b[1;33m\u001b[0m\u001b[1;33m\u001b[0m\u001b[0m\n\u001b[0;32m      8\u001b[0m     \u001b[0mXLNetForQuestionAnswering\u001b[0m\u001b[1;33m,\u001b[0m\u001b[1;33m\u001b[0m\u001b[1;33m\u001b[0m\u001b[0m\n",
      "\u001b[1;31mImportError\u001b[0m: cannot import name 'squad_convert_examples_to_features' from 'transformers' (c:\\users\\jaigatiri\\downloads\\bert-squad-master\\transformers\\transformers\\__init__.py)"
     ]
    }
   ],
   "source": [
    "import os\n",
    "import torch\n",
    "import time\n",
    "from torch.utils.data import DataLoader, RandomSampler, SequentialSampler\n",
    "\n",
    "from transformers import (\n",
    "    XLNetConfig,\n",
    "    XLNetForQuestionAnswering,\n",
    "    XLNetTokenizer,\n",
    "    squad_convert_examples_to_features\n",
    ")\n",
    "\n",
    "from transformers.data.processors.squad import SquadResult, SquadV2Processor, SquadExample\n",
    "\n",
    "from transformers.data.metrics.squad_metrics import compute_predictions_logits\n",
    "\n",
    "# READER NOTE: Set this flag to use own model, or use pretrained model in the Hugging Face repository\n",
    "use_own_model = True\n",
    "\n",
    "if use_own_model:\n",
    "  model_name_or_path = \"C:\\\\Users\\\\JaiGatiri\\\\Downloads\\\\BERT-SQuAD-master\\\\model-oldversion\"\n",
    "else:\n",
    "  model_name_or_path = \"ktrapeznikov/albert-xlarge-v2-squad-v2\"\n",
    "\n",
    "output_dir = \"\"\n",
    "\n",
    "# Config\n",
    "n_best_size = 1\n",
    "max_answer_length = 30\n",
    "do_lower_case = True\n",
    "null_score_diff_threshold = 0.0\n",
    "\n",
    "def to_list(tensor):\n",
    "    return tensor.detach().cpu().tolist()\n",
    "\n",
    "# Setup model\n",
    "config_class, model_class, tokenizer_class = (\n",
    "    XLNetConfig, XLNetForQuestionAnswering, XLNetTokenizer)\n",
    "config = config_class.from_pretrained(model_name_or_path)\n",
    "tokenizer = tokenizer_class.from_pretrained(\n",
    "    model_name_or_path, do_lower_case=True)\n",
    "model = model_class.from_pretrained(model_name_or_path, config=config)\n",
    "\n",
    "device = torch.device(\"cuda\" if torch.cuda.is_available() else \"cpu\")\n",
    "\n",
    "model.to(device)\n",
    "\n",
    "processor = SquadV2Processor()\n",
    "\n",
    "def run_prediction(question_texts, context_text):\n",
    "    \"\"\"Setup function to compute predictions\"\"\"\n",
    "    examples = []\n",
    "\n",
    "    for i, question_text in enumerate(question_texts):\n",
    "        example = SquadExample(\n",
    "            qas_id=str(i),\n",
    "            question_text=question_text,\n",
    "            context_text=context_text,\n",
    "            answer_text=None,\n",
    "            start_position_character=None,\n",
    "            title=\"Predict\",\n",
    "            is_impossible=False,\n",
    "            answers=None,\n",
    "        )\n",
    "\n",
    "        examples.append(example)\n",
    "\n",
    "    features, dataset = squad_convert_examples_to_features(\n",
    "        examples=examples,\n",
    "        tokenizer=tokenizer,\n",
    "        max_seq_length=384,\n",
    "        doc_stride=128,\n",
    "        max_query_length=64,\n",
    "        is_training=False,\n",
    "        return_dataset=\"pt\",\n",
    "        threads=1,\n",
    "    )\n",
    "\n",
    "    eval_sampler = SequentialSampler(dataset)\n",
    "    eval_dataloader = DataLoader(dataset, sampler=eval_sampler, batch_size=10)\n",
    "\n",
    "    all_results = []\n",
    "\n",
    "    for batch in eval_dataloader:\n",
    "        model.eval()\n",
    "        batch = tuple(t.to(device) for t in batch)\n",
    "\n",
    "        with torch.no_grad():\n",
    "            inputs = {\n",
    "                \"input_ids\": batch[0],\n",
    "                \"attention_mask\": batch[1],\n",
    "                \"token_type_ids\": batch[2],\n",
    "            }\n",
    "\n",
    "            example_indices = batch[3]\n",
    "\n",
    "            outputs = model(**inputs)\n",
    "\n",
    "            for i, example_index in enumerate(example_indices):\n",
    "                eval_feature = features[example_index.item()]\n",
    "                unique_id = int(eval_feature.unique_id)\n",
    "\n",
    "                output = [to_list(output[i]) for output in outputs]\n",
    "\n",
    "                start_logits, end_logits = output\n",
    "                result = SquadResult(unique_id, start_logits, end_logits)\n",
    "                all_results.append(result)\n",
    "\n",
    "    output_prediction_file = \"predictions.json\"\n",
    "    output_nbest_file = \"nbest_predictions.json\"\n",
    "    output_null_log_odds_file = \"null_predictions.json\"\n",
    "\n",
    "    predictions = compute_predictions_logits(\n",
    "        examples,\n",
    "        features,\n",
    "        all_results,\n",
    "        n_best_size,\n",
    "        max_answer_length,\n",
    "        do_lower_case,\n",
    "        output_prediction_file,\n",
    "        output_nbest_file,\n",
    "        output_null_log_odds_file,\n",
    "        False,  # verbose_logging\n",
    "        True,  # version_2_with_negative\n",
    "        null_score_diff_threshold,\n",
    "        tokenizer,\n",
    "    )\n",
    "\n",
    "    return predictions"
   ]
  },
  {
   "cell_type": "code",
   "execution_count": null,
   "id": "06ea49b7",
   "metadata": {},
   "outputs": [],
   "source": [
    "\"\n",
    "q = 'Are the referral bonus programme  is applicable  only  for  permanent  employee ?'"
   ]
  },
  {
   "cell_type": "code",
   "execution_count": 12,
   "id": "289cc797",
   "metadata": {},
   "outputs": [
    {
     "ename": "NameError",
     "evalue": "name 'run_prediction' is not defined",
     "output_type": "error",
     "traceback": [
      "\u001b[1;31m---------------------------------------------------------------------------\u001b[0m",
      "\u001b[1;31mNameError\u001b[0m                                 Traceback (most recent call last)",
      "\u001b[1;32mC:\\Users\\JAIGAT~1\\AppData\\Local\\Temp/ipykernel_10964/1217317559.py\u001b[0m in \u001b[0;36m<module>\u001b[1;34m\u001b[0m\n\u001b[0;32m      3\u001b[0m \u001b[1;33m\u001b[0m\u001b[0m\n\u001b[0;32m      4\u001b[0m \u001b[1;31m# Run method\u001b[0m\u001b[1;33m\u001b[0m\u001b[1;33m\u001b[0m\u001b[1;33m\u001b[0m\u001b[0m\n\u001b[1;32m----> 5\u001b[1;33m \u001b[0mpredictions\u001b[0m \u001b[1;33m=\u001b[0m \u001b[0mrun_prediction\u001b[0m\u001b[1;33m(\u001b[0m\u001b[0mquestions\u001b[0m\u001b[1;33m,\u001b[0m \u001b[0mcontext\u001b[0m\u001b[1;33m)\u001b[0m\u001b[1;33m\u001b[0m\u001b[1;33m\u001b[0m\u001b[0m\n\u001b[0m\u001b[0;32m      6\u001b[0m \u001b[1;33m\u001b[0m\u001b[0m\n\u001b[0;32m      7\u001b[0m \u001b[1;31m# Print results\u001b[0m\u001b[1;33m\u001b[0m\u001b[1;33m\u001b[0m\u001b[1;33m\u001b[0m\u001b[0m\n",
      "\u001b[1;31mNameError\u001b[0m: name 'run_prediction' is not defined"
     ]
    }
   ],
   "source": [
    "context = \"All employees who are active at the time of the employee referral bonus payment date - both referrer and the referee will need to on rolls with Techversant and not serving the notice period.All who are directly involved in external recruitment are not eligible The  referral  bonus  programme  is applicable  only  for  permanent  employee  hires  and  fixed  term consultants. If the referral candidate joins as contractors, the referrer will be eligible for referral bonus only upon their successful conversion to regular rolls of the company.To  be  eligible  for  referral  bonus,  the  profile  has  to  be  sent  to  the  Talent  Acquisition  team  by  the employee at the mentioned email id or portal as applicable.  Any application processed without the involvement of the Talent Acquisition team will not be eligible for a referral bonus.In the event a referral is received through multiple referrers, the first referrer becomes eligible for thereferral  bonus.  The  Talent  Acquisition  Team  shall  intimate  the  other  referrers  before  initiating  the recruitment process.Referral bonus will not be applicable for fresher recruitment.Referral  bonus  will  not be  applicable  for  positions  under  the  Enabling  /  Support  Functions,unless there is an exception as approved by the Management.\"\n",
    "questions = [\"Are the referral bonus programme  is applicable  only  for  permanent  employee ?\"]\n",
    "\n",
    "# Run method\n",
    "predictions = run_prediction(questions, context)\n",
    "\n",
    "# Print results\n",
    "for key in predictions.keys():\n",
    "  print(predictions[key])"
   ]
  },
  {
   "cell_type": "code",
   "execution_count": 14,
   "id": "a2502744",
   "metadata": {},
   "outputs": [],
   "source": [
    "from transformers import XLNetConfig,XLNetForQuestionAnswering, XLNetTokenizer"
   ]
  },
  {
   "cell_type": "code",
   "execution_count": 15,
   "id": "9d7b33ce",
   "metadata": {},
   "outputs": [],
   "source": [
    "model_path = 'C:\\\\Users\\\\JaiGatiri\\\\Downloads\\\\BERT-SQuAD-master\\\\model-oldversion'\n",
    "model = XLNetForQuestionAnswering.from_pretrained(model_path)\n",
    "tokenizer = XLNetTokenizer.from_pretrained(model_path)"
   ]
  },
  {
   "cell_type": "code",
   "execution_count": 6,
   "id": "efffa25a",
   "metadata": {},
   "outputs": [],
   "source": [
    "tokenizer = XLNetTokenizer.from_pretrained('xlnet-large-cased')"
   ]
  },
  {
   "cell_type": "code",
   "execution_count": 2,
   "id": "592a9d82",
   "metadata": {},
   "outputs": [],
   "source": [
    "model = \"C:\\\\Users\\\\JaiGatiri\\\\Downloads\\\\BERT-SQuAD-master\\\\model-oldversion\""
   ]
  },
  {
   "cell_type": "code",
   "execution_count": 16,
   "id": "48d4be85",
   "metadata": {},
   "outputs": [],
   "source": [
    "def get_prediction(context, question):\n",
    "  inputs = tokenizer.encode_plus(question, context, return_tensors='pt').to(device)\n",
    "  outputs = model(**inputs)\n",
    "  \n",
    "  answer_start = torch.argmax(outputs[0])  \n",
    "  answer_end = torch.argmax(outputs[1]) + 1 \n",
    "  \n",
    "  answer = tokenizer.convert_tokens_to_string(tokenizer.convert_ids_to_tokens(inputs['input_ids'][0][answer_start:answer_end]))\n",
    "  \n",
    "  return answer\n",
    "\n",
    "def normalize_text(s):\n",
    "  \"\"\"Removing articles and punctuation, and standardizing whitespace are all typical text processing steps.\"\"\"\n",
    "  import string, re\n",
    "  def remove_articles(text):\n",
    "    regex = re.compile(r\"\\b(a|an|the)\\b\", re.UNICODE)\n",
    "    return re.sub(regex, \" \", text)\n",
    "  def white_space_fix(text):\n",
    "    return \" \".join(text.split())\n",
    "  def remove_punc(text):\n",
    "    exclude = set(string.punctuation)\n",
    "    return \"\".join(ch for ch in text if ch not in exclude)\n",
    "  def lower(text):\n",
    "    return text.lower()\n",
    "\n",
    "  return white_space_fix(remove_articles(remove_punc(lower(s))))\n",
    "\n",
    "def exact_match(prediction, truth):\n",
    "    return bool(normalize_text(prediction) == normalize_text(truth))\n",
    "\n",
    "def compute_f1(prediction, truth):\n",
    "  pred_tokens = normalize_text(prediction).split()\n",
    "  truth_tokens = normalize_text(truth).split()\n",
    "  \n",
    "  # if either the prediction or the truth is no-answer then f1 = 1 if they agree, 0 otherwise\n",
    "  if len(pred_tokens) == 0 or len(truth_tokens) == 0:\n",
    "    return int(pred_tokens == truth_tokens)\n",
    "  \n",
    "  common_tokens = set(pred_tokens) & set(truth_tokens)\n",
    "  \n",
    "  # if there are no common tokens then f1 = 0\n",
    "  if len(common_tokens) == 0:\n",
    "    return 0\n",
    "  \n",
    "  prec = len(common_tokens) / len(pred_tokens)\n",
    "  rec = len(common_tokens) / len(truth_tokens)\n",
    "  \n",
    "  return round(2 * (prec * rec) / (prec + rec), 2)\n",
    "  \n",
    "def question_answer(context, question,answer):\n",
    "  prediction = get_prediction(context,question)\n",
    "  em_score = exact_match(prediction, answer)\n",
    "  f1_score = compute_f1(prediction, answer)\n",
    "\n",
    "  print(f'Question: {question}')\n",
    "  print(f'Prediction: {prediction}')\n",
    "  print(f'True Answer: {answer}')\n",
    "  print(f'Exact match: {em_score}')\n",
    "  print(f'F1 score: {f1_score}\\n')"
   ]
  },
  {
   "cell_type": "code",
   "execution_count": 17,
   "id": "a6ce35d8",
   "metadata": {},
   "outputs": [
    {
     "ename": "AttributeError",
     "evalue": "'dict' object has no attribute 'to'",
     "output_type": "error",
     "traceback": [
      "\u001b[1;31m---------------------------------------------------------------------------\u001b[0m",
      "\u001b[1;31mAttributeError\u001b[0m                            Traceback (most recent call last)",
      "\u001b[1;32mC:\\Users\\JAIGAT~1\\AppData\\Local\\Temp/ipykernel_10964/457458463.py\u001b[0m in \u001b[0;36m<module>\u001b[1;34m\u001b[0m\n\u001b[0;32m      7\u001b[0m \u001b[1;33m\u001b[0m\u001b[0m\n\u001b[0;32m      8\u001b[0m \u001b[1;32mfor\u001b[0m \u001b[0mquestion\u001b[0m\u001b[1;33m,\u001b[0m \u001b[0manswer\u001b[0m \u001b[1;32min\u001b[0m \u001b[0mzip\u001b[0m\u001b[1;33m(\u001b[0m\u001b[0mquestions\u001b[0m\u001b[1;33m,\u001b[0m \u001b[0manswers\u001b[0m\u001b[1;33m)\u001b[0m\u001b[1;33m:\u001b[0m\u001b[1;33m\u001b[0m\u001b[1;33m\u001b[0m\u001b[0m\n\u001b[1;32m----> 9\u001b[1;33m   \u001b[0mquestion_answer\u001b[0m\u001b[1;33m(\u001b[0m\u001b[0mcontext\u001b[0m\u001b[1;33m,\u001b[0m \u001b[0mquestion\u001b[0m\u001b[1;33m,\u001b[0m \u001b[0manswer\u001b[0m\u001b[1;33m)\u001b[0m\u001b[1;33m\u001b[0m\u001b[1;33m\u001b[0m\u001b[0m\n\u001b[0m",
      "\u001b[1;32mC:\\Users\\JAIGAT~1\\AppData\\Local\\Temp/ipykernel_10964/110145505.py\u001b[0m in \u001b[0;36mquestion_answer\u001b[1;34m(context, question, answer)\u001b[0m\n\u001b[0;32m     49\u001b[0m \u001b[1;33m\u001b[0m\u001b[0m\n\u001b[0;32m     50\u001b[0m \u001b[1;32mdef\u001b[0m \u001b[0mquestion_answer\u001b[0m\u001b[1;33m(\u001b[0m\u001b[0mcontext\u001b[0m\u001b[1;33m,\u001b[0m \u001b[0mquestion\u001b[0m\u001b[1;33m,\u001b[0m\u001b[0manswer\u001b[0m\u001b[1;33m)\u001b[0m\u001b[1;33m:\u001b[0m\u001b[1;33m\u001b[0m\u001b[1;33m\u001b[0m\u001b[0m\n\u001b[1;32m---> 51\u001b[1;33m   \u001b[0mprediction\u001b[0m \u001b[1;33m=\u001b[0m \u001b[0mget_prediction\u001b[0m\u001b[1;33m(\u001b[0m\u001b[0mcontext\u001b[0m\u001b[1;33m,\u001b[0m\u001b[0mquestion\u001b[0m\u001b[1;33m)\u001b[0m\u001b[1;33m\u001b[0m\u001b[1;33m\u001b[0m\u001b[0m\n\u001b[0m\u001b[0;32m     52\u001b[0m   \u001b[0mem_score\u001b[0m \u001b[1;33m=\u001b[0m \u001b[0mexact_match\u001b[0m\u001b[1;33m(\u001b[0m\u001b[0mprediction\u001b[0m\u001b[1;33m,\u001b[0m \u001b[0manswer\u001b[0m\u001b[1;33m)\u001b[0m\u001b[1;33m\u001b[0m\u001b[1;33m\u001b[0m\u001b[0m\n\u001b[0;32m     53\u001b[0m   \u001b[0mf1_score\u001b[0m \u001b[1;33m=\u001b[0m \u001b[0mcompute_f1\u001b[0m\u001b[1;33m(\u001b[0m\u001b[0mprediction\u001b[0m\u001b[1;33m,\u001b[0m \u001b[0manswer\u001b[0m\u001b[1;33m)\u001b[0m\u001b[1;33m\u001b[0m\u001b[1;33m\u001b[0m\u001b[0m\n",
      "\u001b[1;32mC:\\Users\\JAIGAT~1\\AppData\\Local\\Temp/ipykernel_10964/110145505.py\u001b[0m in \u001b[0;36mget_prediction\u001b[1;34m(context, question)\u001b[0m\n\u001b[0;32m      1\u001b[0m \u001b[1;32mdef\u001b[0m \u001b[0mget_prediction\u001b[0m\u001b[1;33m(\u001b[0m\u001b[0mcontext\u001b[0m\u001b[1;33m,\u001b[0m \u001b[0mquestion\u001b[0m\u001b[1;33m)\u001b[0m\u001b[1;33m:\u001b[0m\u001b[1;33m\u001b[0m\u001b[1;33m\u001b[0m\u001b[0m\n\u001b[1;32m----> 2\u001b[1;33m   \u001b[0minputs\u001b[0m \u001b[1;33m=\u001b[0m \u001b[0mtokenizer\u001b[0m\u001b[1;33m.\u001b[0m\u001b[0mencode_plus\u001b[0m\u001b[1;33m(\u001b[0m\u001b[0mquestion\u001b[0m\u001b[1;33m,\u001b[0m \u001b[0mcontext\u001b[0m\u001b[1;33m,\u001b[0m \u001b[0mreturn_tensors\u001b[0m\u001b[1;33m=\u001b[0m\u001b[1;34m'pt'\u001b[0m\u001b[1;33m)\u001b[0m\u001b[1;33m.\u001b[0m\u001b[0mto\u001b[0m\u001b[1;33m(\u001b[0m\u001b[0mdevice\u001b[0m\u001b[1;33m)\u001b[0m\u001b[1;33m\u001b[0m\u001b[1;33m\u001b[0m\u001b[0m\n\u001b[0m\u001b[0;32m      3\u001b[0m   \u001b[0moutputs\u001b[0m \u001b[1;33m=\u001b[0m \u001b[0mmodel\u001b[0m\u001b[1;33m(\u001b[0m\u001b[1;33m**\u001b[0m\u001b[0minputs\u001b[0m\u001b[1;33m)\u001b[0m\u001b[1;33m\u001b[0m\u001b[1;33m\u001b[0m\u001b[0m\n\u001b[0;32m      4\u001b[0m \u001b[1;33m\u001b[0m\u001b[0m\n\u001b[0;32m      5\u001b[0m   \u001b[0manswer_start\u001b[0m \u001b[1;33m=\u001b[0m \u001b[0mtorch\u001b[0m\u001b[1;33m.\u001b[0m\u001b[0margmax\u001b[0m\u001b[1;33m(\u001b[0m\u001b[0moutputs\u001b[0m\u001b[1;33m[\u001b[0m\u001b[1;36m0\u001b[0m\u001b[1;33m]\u001b[0m\u001b[1;33m)\u001b[0m\u001b[1;33m\u001b[0m\u001b[1;33m\u001b[0m\u001b[0m\n",
      "\u001b[1;31mAttributeError\u001b[0m: 'dict' object has no attribute 'to'"
     ]
    }
   ],
   "source": [
    "context = \"\"\"Purpose and objective  of  the  Employee  Referral  Programme  process  document  is  to  provide guidelines necessary to assist all  employees at Techversant who refer talent profiles to the Organization. This program  is  designed  to  help  source  talent, build  diversity,  and  find  the  right  candidates  for  open positions  and  to  reward  our  employees  for  the  right  referrals. This  programme  will  encourage  all  at Techversant to act as talent ambassadors for the Organization.Techversant is an equal opportunity employer with a diverse workforce.All referred candidates  will be given  the  same  consideration  and  will  pass  through  the  established  process  and  procedures  of  the Organization.Please note that it is not the intent for these  guidelines to  describe every situation. Management judgment will / may be necessary in certain situations which are not addressed here,or where special considerations may be required.\"\"\"\n",
    "\n",
    "\n",
    "questions = [\"Does the guideline change ?\"]\n",
    "\n",
    "answers = [\"Purpose and objective  of  the  Employee  Referral  Programme  process  document  is  to  provide guidelines necessary to assist all  employees at Techversant who refer talent profiles to the Organization.\"]\n",
    "\n",
    "for question, answer in zip(questions, answers):\n",
    "  question_answer(context, question, answer)"
   ]
  },
  {
   "cell_type": "code",
   "execution_count": 35,
   "id": "89798967",
   "metadata": {},
   "outputs": [],
   "source": [
    "import transformers\n",
    "from transformers import XLNetConfig,XLNetForQuestionAnswering, XLNetTokenizer\n",
    "import torch\n",
    "import numpy as np\n",
    "\n",
    "class QAPipe():\n",
    "    def __init__(self,context):\n",
    "        #self.nlp = pipeline(\"question-answering\")\n",
    "        self.context = context\n",
    "        self.input_ids = None\n",
    "        self.text_tokens = None\n",
    "        self.outputs = None\n",
    "        self.segment_ids = None\n",
    "        self.tokenizer = XLNetTokenizer.from_pretrained(\"C:\\\\Users\\\\JaiGatiri\\\\Downloads\\\\BERT-SQuAD-master\\\\model-oldversion\")\n",
    "        self.model = XLNetTokenizer.from_pretrained(\"C:\\\\Users\\\\JaiGatiri\\\\Downloads\\\\BERT-SQuAD-master\\\\model-oldversion\")\n",
    "    def __init_tokenizer__(self):\n",
    "        self.tokenizer = XLNetTokenizer.from_pretrained(\"C:\\\\Users\\\\JaiGatiri\\\\Downloads\\\\BERT-SQuAD-master\\\\model-oldversion\")\n",
    "    \n",
    "    def __init_model__(self):\n",
    "        self.model = XLNetForQuestionAnswering.from_pretrained(\"C:\\\\Users\\\\JaiGatiri\\\\Downloads\\\\BERT-SQuAD-master\\\\model-oldversion\")\n",
    "     \n",
    "    def get_ids(self):\n",
    "        return self.input_ids\n",
    "        \n",
    "        \n",
    "    def generate_text_from_token(self):\n",
    "        return self.tokenizer.convert_ids_to_tokens(self.input_ids)\n",
    "\n",
    "    def get_output(self,question):\n",
    "        print(\"enter the function\")\n",
    "        self.input_ids = self.tokenizer.encode(question,self.context,max_length=2015,truncation=True)\n",
    "        tokens = self.generate_text_from_token()\n",
    "        SEP_index = self.input_ids.index(102) #Getting index of first SEP token\n",
    "        len_question = SEP_index+1\n",
    "        len_answer = len(self.input_ids)-len_question\n",
    "        segment_ids = [0]*len_question + [1]*len_answer #Segment Ids will 0 for question and 1 for answer\n",
    "        self.segment_ids = segment_ids\n",
    "        #Getting start and end scores for answer and converting input arrays to tensor before passing to the module\n",
    "        start_token_scores = self.model(torch.tensor([self.input_ids]),token_type_ids=torch.tensor([segment_ids]))[0]\n",
    "        end_token_scores = self.model(torch.tensor([self.input_ids]),token_type_ids=torch.tensor([segment_ids]))[1]\n",
    "        #Converting scores tensor to numpy arrays so that we can use numpy functions\n",
    "        start_token_scores =start_token_scores.detach().numpy().flatten()\n",
    "        end_token_scores = end_token_scores.detach().numpy().flatten()\n",
    "        #picking start and end index of an answer based on start/end indices with highest scores\n",
    "        answer_start_index = np.argmax(start_token_scores)\n",
    "        answer_end_index = np.argmax(end_token_scores)\n",
    "         #Getting Scores for start and end token of the answer. \n",
    "        start_token_score = np.round(start_token_scores[answer_start_index],2)\n",
    "        end_token_score = np.round(end_token_scores[answer_end_index],2)\n",
    "        #Cleaning answer text\n",
    "        \n",
    "        answer = tokens[answer_start_index]\n",
    "        for i in range(answer_start_index+1,answer_end_index+1):\n",
    "            if tokens[i][0:2] == '##':\n",
    "                answer+=tokens[i][2:]\n",
    "            else:\n",
    "                answer+= ' '+tokens[i]\n",
    "        if(answer_start_index ==0) or (start_token_score<0) or (answer == '[SEP]') or (answer_end_index < answer_start_index):\n",
    "            answer = \"Sorry!, Not able to answer your question. Try a different question related to the context.\"\n",
    "        print(answer_start_index,answer_end_index,start_token_score,end_token_score,start_token_scores,end_token_scores,answer)\n",
    "        return (answer_start_index,answer_end_index,start_token_score,end_token_score,start_token_scores,end_token_scores,answer)"
   ]
  },
  {
   "cell_type": "code",
   "execution_count": 36,
   "id": "f0b9084a",
   "metadata": {},
   "outputs": [
    {
     "data": {
      "text/plain": [
       "<__main__.QAPipe at 0x23960e03288>"
      ]
     },
     "execution_count": 36,
     "metadata": {},
     "output_type": "execute_result"
    }
   ],
   "source": [
    "QAPipe(context = \"\"\"Purpose and objective  of  the  Employee  Referral  Programme  process  document  is  to  provide guidelines necessary to assist all  employees at Techversant who refer talent profiles to the Organization. This program  is  designed  to  help  source  talent, build  diversity,  and  find  the  right  candidates  for  open positions  and  to  reward  our  employees  for  the  right  referrals. This  programme  will  encourage  all  at Techversant to act as talent ambassadors for the Organization.Techversant is an equal opportunity employer with a diverse workforce.All referred candidates  will be given  the  same  consideration  and  will  pass  through  the  established  process  and  procedures  of  the Organization.Please note that it is not the intent for these  guidelines to  describe every situation. Management judgment will / may be necessary in certain situations which are not addressed here,or where special considerations may be required.\"\"\")"
   ]
  },
  {
   "cell_type": "code",
   "execution_count": 13,
   "id": "95669d3f",
   "metadata": {},
   "outputs": [
    {
     "name": "stdout",
     "output_type": "stream",
     "text": [
      "C:\\Users\\JaiGatiri\\Downloads\\BERT-SQuAD-master\\transformers\n"
     ]
    }
   ],
   "source": [
    "%cd C:\\Users\\JaiGatiri\\Downloads\\BERT-SQuAD-master\\transformers"
   ]
  },
  {
   "cell_type": "code",
   "execution_count": 17,
   "id": "f7f89bed",
   "metadata": {},
   "outputs": [
    {
     "name": "stdout",
     "output_type": "stream",
     "text": [
      "Obtaining file:///C:/Users/JaiGatiri/Downloads/BERT-SQuAD-master/transformers\n",
      "  Preparing metadata (setup.py): started\n",
      "  Preparing metadata (setup.py): finished with status 'done'\n",
      "Requirement already satisfied: numpy in e:\\entity_extraction_combined_model\\venv\\lib\\site-packages (from transformers==2.1.1) (1.21.5)\n",
      "Requirement already satisfied: boto3 in e:\\entity_extraction_combined_model\\venv\\lib\\site-packages (from transformers==2.1.1) (1.26.93)\n",
      "Requirement already satisfied: requests in e:\\entity_extraction_combined_model\\venv\\lib\\site-packages (from transformers==2.1.1) (2.28.2)\n",
      "Requirement already satisfied: tqdm in e:\\entity_extraction_combined_model\\venv\\lib\\site-packages (from transformers==2.1.1) (4.62.3)\n",
      "Requirement already satisfied: regex in e:\\entity_extraction_combined_model\\venv\\lib\\site-packages (from transformers==2.1.1) (2021.11.10)\n",
      "Requirement already satisfied: sentencepiece in e:\\entity_extraction_combined_model\\venv\\lib\\site-packages (from transformers==2.1.1) (0.1.91)\n",
      "Requirement already satisfied: sacremoses in e:\\entity_extraction_combined_model\\venv\\lib\\site-packages (from transformers==2.1.1) (0.0.46)\n",
      "Requirement already satisfied: jmespath<2.0.0,>=0.7.1 in e:\\entity_extraction_combined_model\\venv\\lib\\site-packages (from boto3->transformers==2.1.1) (1.0.1)\n",
      "Requirement already satisfied: s3transfer<0.7.0,>=0.6.0 in e:\\entity_extraction_combined_model\\venv\\lib\\site-packages (from boto3->transformers==2.1.1) (0.6.0)\n",
      "Requirement already satisfied: botocore<1.30.0,>=1.29.93 in e:\\entity_extraction_combined_model\\venv\\lib\\site-packages (from boto3->transformers==2.1.1) (1.29.93)\n",
      "Requirement already satisfied: urllib3<1.27,>=1.21.1 in e:\\entity_extraction_combined_model\\venv\\lib\\site-packages (from requests->transformers==2.1.1) (1.26.15)\n",
      "Requirement already satisfied: idna<4,>=2.5 in e:\\entity_extraction_combined_model\\venv\\lib\\site-packages (from requests->transformers==2.1.1) (3.3)\n",
      "Requirement already satisfied: certifi>=2017.4.17 in e:\\entity_extraction_combined_model\\venv\\lib\\site-packages (from requests->transformers==2.1.1) (2021.10.8)\n",
      "Requirement already satisfied: charset-normalizer<4,>=2 in e:\\entity_extraction_combined_model\\venv\\lib\\site-packages (from requests->transformers==2.1.1) (2.0.9)\n",
      "Requirement already satisfied: joblib in e:\\entity_extraction_combined_model\\venv\\lib\\site-packages (from sacremoses->transformers==2.1.1) (1.1.0)\n",
      "Requirement already satisfied: six in e:\\entity_extraction_combined_model\\venv\\lib\\site-packages (from sacremoses->transformers==2.1.1) (1.16.0)\n",
      "Requirement already satisfied: click in e:\\entity_extraction_combined_model\\venv\\lib\\site-packages (from sacremoses->transformers==2.1.1) (8.1.3)\n",
      "Requirement already satisfied: colorama in e:\\entity_extraction_combined_model\\venv\\lib\\site-packages (from tqdm->transformers==2.1.1) (0.4.4)\n",
      "Requirement already satisfied: python-dateutil<3.0.0,>=2.1 in e:\\entity_extraction_combined_model\\venv\\lib\\site-packages (from botocore<1.30.0,>=1.29.93->boto3->transformers==2.1.1) (2.8.2)\n",
      "Requirement already satisfied: importlib-metadata in e:\\entity_extraction_combined_model\\venv\\lib\\site-packages (from click->sacremoses->transformers==2.1.1) (4.10.0)\n",
      "Requirement already satisfied: typing-extensions>=3.6.4 in e:\\entity_extraction_combined_model\\venv\\lib\\site-packages (from importlib-metadata->click->sacremoses->transformers==2.1.1) (4.5.0)\n",
      "Requirement already satisfied: zipp>=0.5 in e:\\entity_extraction_combined_model\\venv\\lib\\site-packages (from importlib-metadata->click->sacremoses->transformers==2.1.1) (3.6.0)\n",
      "Installing collected packages: transformers\n",
      "  Attempting uninstall: transformers\n",
      "    Found existing installation: transformers 2.1.1\n",
      "    Uninstalling transformers-2.1.1:\n",
      "      Successfully uninstalled transformers-2.1.1\n",
      "  Running setup.py develop for transformers\n",
      "Successfully installed transformers-2.1.1\n",
      "Note: you may need to restart the kernel to use updated packages.\n"
     ]
    },
    {
     "name": "stderr",
     "output_type": "stream",
     "text": [
      "WARNING: Ignoring invalid distribution -orch (e:\\entity_extraction_combined_model\\venv\\lib\\site-packages)\n",
      "WARNING: Ignoring invalid distribution -orch (e:\\entity_extraction_combined_model\\venv\\lib\\site-packages)\n",
      "  WARNING: Ignoring invalid distribution -orch (e:\\entity_extraction_combined_model\\venv\\lib\\site-packages)\n",
      "WARNING: Ignoring invalid distribution -orch (e:\\entity_extraction_combined_model\\venv\\lib\\site-packages)\n",
      "    WARNING: Ignoring invalid distribution -orch (e:\\entity_extraction_combined_model\\venv\\lib\\site-packages)\n",
      "WARNING: Ignoring invalid distribution -orch (e:\\entity_extraction_combined_model\\venv\\lib\\site-packages)\n",
      "WARNING: Ignoring invalid distribution -orch (e:\\entity_extraction_combined_model\\venv\\lib\\site-packages)\n",
      "ERROR: pip's dependency resolver does not currently take into account all the packages that are installed. This behaviour is the source of the following dependency conflicts.\n",
      "spacy-transformers 1.1.3 requires transformers<4.13.0,>=3.4.0, but you have transformers 2.1.1 which is incompatible.\n",
      "simpletransformers 0.63.9 requires transformers>=4.6.0, but you have transformers 2.1.1 which is incompatible.\n",
      "WARNING: Ignoring invalid distribution -orch (e:\\entity_extraction_combined_model\\venv\\lib\\site-packages)\n",
      "WARNING: Ignoring invalid distribution -orch (e:\\entity_extraction_combined_model\\venv\\lib\\site-packages)\n",
      "WARNING: Ignoring invalid distribution -orch (e:\\entity_extraction_combined_model\\venv\\lib\\site-packages)\n",
      "WARNING: You are using pip version 21.3.1; however, version 23.0.1 is available.\n",
      "You should consider upgrading via the 'e:\\entity_extraction_combined_model\\venv\\scripts\\python.exe -m pip install --upgrade pip' command.\n"
     ]
    }
   ],
   "source": [
    "pip install -e."
   ]
  },
  {
   "cell_type": "code",
   "execution_count": 21,
   "id": "0c69da9b",
   "metadata": {},
   "outputs": [],
   "source": [
    "import os\n",
    "import torch\n",
    "import time\n",
    "from torch.utils.data import (DataLoader, RandomSampler, SequentialSampler,\n",
    "                              TensorDataset)\n",
    "import transformers"
   ]
  },
  {
   "cell_type": "code",
   "execution_count": 22,
   "id": "e39112be",
   "metadata": {},
   "outputs": [],
   "source": [
    "from transformers import (WEIGHTS_NAME, BertConfig,\n",
    "                                  BertForQuestionAnswering, BertTokenizer,\n",
    "                                  XLMConfig, XLMForQuestionAnswering,\n",
    "                                  XLMTokenizer, XLNetConfig,\n",
    "                                  XLNetForQuestionAnswering,\n",
    "                                  XLNetTokenizer,\n",
    "                                  DistilBertConfig, DistilBertForQuestionAnswering, DistilBertTokenizer)"
   ]
  },
  {
   "cell_type": "code",
   "execution_count": null,
   "id": "0c6b9bfc",
   "metadata": {},
   "outputs": [],
   "source": []
  }
 ],
 "metadata": {
  "kernelspec": {
   "display_name": "Python 3 (ipykernel)",
   "language": "python",
   "name": "python3"
  },
  "language_info": {
   "codemirror_mode": {
    "name": "ipython",
    "version": 3
   },
   "file_extension": ".py",
   "mimetype": "text/x-python",
   "name": "python",
   "nbconvert_exporter": "python",
   "pygments_lexer": "ipython3",
   "version": "3.7.9"
  }
 },
 "nbformat": 4,
 "nbformat_minor": 5
}
